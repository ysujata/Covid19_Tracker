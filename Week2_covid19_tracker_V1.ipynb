{
 "cells": [
  {
   "cell_type": "markdown",
   "metadata": {},
   "source": [
    "# Scraping, Analyzing and Visualizing Covid-19 Data for Worldwide and India.\n",
    "## This is week2 version of notebook\n",
    "The main focus of this notebook is to perform Exploratory Data Analysis and visualizing the retrieved covid-19 datasets for worldwide and India. To efficently handle this, I have executed the code inline as its easy to understand. \n",
    "Post this analysis, will continue to update and use the scraper class members created in the earlier version.\n",
    "\n",
    "#### Note: Observations made in this notebook are for the datasets last sourced on 16 May 2020"
   ]
  },
  {
   "cell_type": "markdown",
   "metadata": {},
   "source": [
    "#### Information about COVID-19\n",
    "COVID-19 is a respiratory illness caused by a family of viruses. Symptoms include fever, coughing, sore throat and shortness of breath ranging from mild to very severe conditions. It is a contiguous virus which started from Wuhan in December 2019. WHO later declared it as Pandemic due to high rate spreads throughout the world.\n",
    "\n",
    "COVID-19 spreads faster than other diseases, like common cold. Every virus has Basic Reproduction number (R0) which implies how many people will get the disease from the infected person. As per inital reseach work, R0 of COVID-19 is 2.7.\n",
    "\n",
    "Currently the goal of all scientists around the world is to \"Flatten the Curve\". Currently, COVID-19 has exponential growth rate around the world which we will be seeing in the notebook ahead. \"Flattening the Curve\" typically implies that, even if Confirmed Cases are increasing, the distribution of those cases should be over a longer timestamp. Suppose COVID-19 is infecting 100K people, then those many people should be infected in 1 year and not in a month.\n",
    "\n",
    "\n",
    "Every Pandemic has four stages:\n",
    "\n",
    "Stage 1: Confirmed Cases come from other countries\n",
    "\n",
    "Stage 2: Local Transmission Begins\n",
    "\n",
    "Stage 3: Communities impacted with local transimission\n",
    "\n",
    "Stage 4: Significant Transmission with no end in sight\n",
    "\n",
    "USA is currently leading in Stage 4. While India is in on the edge of Stage 3.\n",
    "\n",
    "Other ways to tackle diseases like Corona are Testing, Contact Tracing and Quarantine in addition to Travel Ban, Cross-Border shutdown, Ban on immigrants. "
   ]
  },
  {
   "cell_type": "code",
   "execution_count": null,
   "metadata": {},
   "outputs": [],
   "source": [
    "import requests\n",
    "from requests.exceptions import HTTPError\n",
    "from bs4 import BeautifulSoup # for web scraping (HTML/XML parser)\n",
    "import pandas as pd # Dataset handling\n",
    "import numpy as np # support for calculations and pandas\n",
    "import seaborn as sns # for visualization\n",
    "import matplotlib.pyplot as plt # for visualization\n",
    "import plotly # for visualization\n",
    "import plotly.figure_factory as ff \n",
    "import plotly.express as px\n",
    "import plotly.graph_objects as go"
   ]
  },
  {
   "cell_type": "code",
   "execution_count": 240,
   "metadata": {},
   "outputs": [],
   "source": [
    "url_covid19_world='https://www.worldometers.info/coronavirus/'\n",
    "url_covid19_India='https://www.mohfw.gov.in/'"
   ]
  },
  {
   "cell_type": "markdown",
   "metadata": {},
   "source": [
    "# Performing EDA on World Data"
   ]
  },
  {
   "cell_type": "code",
   "execution_count": 253,
   "metadata": {
    "scrolled": true
   },
   "outputs": [
    {
     "data": {
      "text/plain": [
       "<title>Coronavirus Update (Live): 4,714,692 Cases and 312,305 Deaths from COVID-19 Virus Pandemic - Worldometer</title>"
      ]
     },
     "metadata": {},
     "output_type": "display_data"
    }
   ],
   "source": [
    "df_world_summary = None\n",
    "df_all_countries = None\n",
    "dict_india_summary = {}\n",
    "df_india_summary = None\n",
    "df_indian_states = None\n",
    "    \n",
    "response = requests.get(url_covid19_world)\n",
    "try:\n",
    "    response = requests.get(url_covid19_world)\n",
    "    # If the response was successful, no Exception will be raised\n",
    "    response.raise_for_status()\n",
    "except HTTPError as http_err:\n",
    "    print(f'HTTP error occurred: {http_err}') \n",
    "except Exception as err:\n",
    "    print(f'Other error occurred: {err}')  \n",
    "else:\n",
    "    soup=BeautifulSoup(response.text, \"html.parser\")\n",
    "            \n",
    "# Confirming that accessing the correct webpage\n",
    "display(soup.title)\n",
    "\n",
    "\"\"\"\n",
    "Extracting Worldwide parameters: Confirmed Cases, Active, Recovered , Deaths\n",
    "\"\"\"\n",
    "# Processing the required data from the first table that is retrieved\n",
    "coronatable=soup.find_all(\"table\")[0]"
   ]
  },
  {
   "cell_type": "code",
   "execution_count": 254,
   "metadata": {},
   "outputs": [],
   "source": [
    "\"\"\"\n",
    "Extracting each Country parameters \n",
    "\"\"\"\n",
    "c_name               = []\n",
    "c_total_cases        = []\n",
    "c_active             = []\n",
    "c_total_recovered    = []\n",
    "c_new_cases          = []\n",
    "c_new_deaths         = []\n",
    "c_total_deaths       = []\n",
    "            \n",
    "rows=coronatable.find_all(\"tr\")[9:-8]\n",
    "            \n",
    "for row in rows:\n",
    "    col=row.find_all(\"td\")\n",
    "    c_name.append(col[1].text.strip())\n",
    "    c_total_cases.append(col[2].text.strip().replace(',','').replace('+',''))\n",
    "    c_new_cases.append(col[3].text.strip().replace(',','').replace('+',''))\n",
    "    c_total_deaths.append(col[4].text.strip().replace(',','').replace('+',''))\n",
    "    c_new_deaths.append(col[5].text.strip().replace(',','').replace('+',''))\n",
    "    c_total_recovered.append(col[6].text.strip().replace(',','').replace('+',''))\n",
    "    c_active.append(col[7].text.strip().replace(',','').replace('+',''))\n",
    "                \n",
    "\n",
    "df_all_countries = pd.DataFrame(list(zip(c_name, c_total_cases, c_active, c_total_recovered, c_new_cases,    \n",
    "                                c_new_deaths, c_total_deaths)),columns=[\"Country\", \"Total_Cases\", \"Active\", \"Recovered\", \n",
    "                                                                        \"New_Cases\", \"New_Deaths\", \"Total_Deaths\" ])\n"
   ]
  },
  {
   "cell_type": "markdown",
   "metadata": {},
   "source": [
    "#### ANALYSING & PREPARING THE DATA. Let us see what the data looks like"
   ]
  },
  {
   "cell_type": "code",
   "execution_count": 255,
   "metadata": {},
   "outputs": [
    {
     "data": {
      "text/html": [
       "<div>\n",
       "<style scoped>\n",
       "    .dataframe tbody tr th:only-of-type {\n",
       "        vertical-align: middle;\n",
       "    }\n",
       "\n",
       "    .dataframe tbody tr th {\n",
       "        vertical-align: top;\n",
       "    }\n",
       "\n",
       "    .dataframe thead th {\n",
       "        text-align: right;\n",
       "    }\n",
       "</style>\n",
       "<table border=\"1\" class=\"dataframe\">\n",
       "  <thead>\n",
       "    <tr style=\"text-align: right;\">\n",
       "      <th></th>\n",
       "      <th>Country</th>\n",
       "      <th>Total_Cases</th>\n",
       "      <th>Active</th>\n",
       "      <th>Recovered</th>\n",
       "      <th>New_Cases</th>\n",
       "      <th>New_Deaths</th>\n",
       "      <th>Total_Deaths</th>\n",
       "    </tr>\n",
       "  </thead>\n",
       "  <tbody>\n",
       "    <tr>\n",
       "      <th>0</th>\n",
       "      <td>USA</td>\n",
       "      <td>1505619</td>\n",
       "      <td>1077230</td>\n",
       "      <td>338861</td>\n",
       "      <td>21334</td>\n",
       "      <td>1021</td>\n",
       "      <td>89528</td>\n",
       "    </tr>\n",
       "    <tr>\n",
       "      <th>1</th>\n",
       "      <td>Spain</td>\n",
       "      <td>276505</td>\n",
       "      <td>56689</td>\n",
       "      <td>192253</td>\n",
       "      <td>2138</td>\n",
       "      <td>104</td>\n",
       "      <td>27563</td>\n",
       "    </tr>\n",
       "    <tr>\n",
       "      <th>2</th>\n",
       "      <td>Russia</td>\n",
       "      <td>272043</td>\n",
       "      <td>206340</td>\n",
       "      <td>63166</td>\n",
       "      <td>9200</td>\n",
       "      <td>119</td>\n",
       "      <td>2537</td>\n",
       "    </tr>\n",
       "    <tr>\n",
       "      <th>3</th>\n",
       "      <td>UK</td>\n",
       "      <td>240161</td>\n",
       "      <td>N/A</td>\n",
       "      <td>N/A</td>\n",
       "      <td>3450</td>\n",
       "      <td>468</td>\n",
       "      <td>34466</td>\n",
       "    </tr>\n",
       "    <tr>\n",
       "      <th>4</th>\n",
       "      <td>Brazil</td>\n",
       "      <td>233142</td>\n",
       "      <td>127837</td>\n",
       "      <td>89672</td>\n",
       "      <td>14919</td>\n",
       "      <td>816</td>\n",
       "      <td>15633</td>\n",
       "    </tr>\n",
       "    <tr>\n",
       "      <th>5</th>\n",
       "      <td>Italy</td>\n",
       "      <td>224760</td>\n",
       "      <td>70187</td>\n",
       "      <td>122810</td>\n",
       "      <td>875</td>\n",
       "      <td>153</td>\n",
       "      <td>31763</td>\n",
       "    </tr>\n",
       "    <tr>\n",
       "      <th>6</th>\n",
       "      <td>France</td>\n",
       "      <td>179365</td>\n",
       "      <td>90674</td>\n",
       "      <td>61066</td>\n",
       "      <td></td>\n",
       "      <td>96</td>\n",
       "      <td>27625</td>\n",
       "    </tr>\n",
       "    <tr>\n",
       "      <th>7</th>\n",
       "      <td>Germany</td>\n",
       "      <td>176247</td>\n",
       "      <td>15620</td>\n",
       "      <td>152600</td>\n",
       "      <td>548</td>\n",
       "      <td>26</td>\n",
       "      <td>8027</td>\n",
       "    </tr>\n",
       "    <tr>\n",
       "      <th>8</th>\n",
       "      <td>Turkey</td>\n",
       "      <td>148067</td>\n",
       "      <td>35834</td>\n",
       "      <td>108137</td>\n",
       "      <td>1610</td>\n",
       "      <td>41</td>\n",
       "      <td>4096</td>\n",
       "    </tr>\n",
       "    <tr>\n",
       "      <th>9</th>\n",
       "      <td>Iran</td>\n",
       "      <td>118392</td>\n",
       "      <td>18308</td>\n",
       "      <td>93147</td>\n",
       "      <td>1757</td>\n",
       "      <td>35</td>\n",
       "      <td>6937</td>\n",
       "    </tr>\n",
       "  </tbody>\n",
       "</table>\n",
       "</div>"
      ],
      "text/plain": [
       "   Country Total_Cases   Active Recovered New_Cases New_Deaths Total_Deaths\n",
       "0      USA     1505619  1077230    338861     21334       1021        89528\n",
       "1    Spain      276505    56689    192253      2138        104        27563\n",
       "2   Russia      272043   206340     63166      9200        119         2537\n",
       "3       UK      240161      N/A       N/A      3450        468        34466\n",
       "4   Brazil      233142   127837     89672     14919        816        15633\n",
       "5    Italy      224760    70187    122810       875        153        31763\n",
       "6   France      179365    90674     61066                   96        27625\n",
       "7  Germany      176247    15620    152600       548         26         8027\n",
       "8   Turkey      148067    35834    108137      1610         41         4096\n",
       "9     Iran      118392    18308     93147      1757         35         6937"
      ]
     },
     "metadata": {},
     "output_type": "display_data"
    },
    {
     "data": {
      "text/plain": [
       "(215, 7)"
      ]
     },
     "metadata": {},
     "output_type": "display_data"
    }
   ],
   "source": [
    "#df_all_countries.style.hide_index()\n",
    "display(df_all_countries.head(10))\n",
    "display(df_all_countries.shape)"
   ]
  },
  {
   "cell_type": "markdown",
   "metadata": {},
   "source": [
    "#### Checking for missing/null values.\n",
    "To begin processing the dataframe. Handling the missing values by first replacing it with NaN. Python recoginizes only NaN and None as NA values. Also we can see invalid text 'N/A' for some of the parameters."
   ]
  },
  {
   "cell_type": "code",
   "execution_count": 256,
   "metadata": {},
   "outputs": [
    {
     "name": "stdout",
     "output_type": "stream",
     "text": [
      "0\n",
      "0\n"
     ]
    }
   ],
   "source": [
    "# Checking whether parameter 'Country' is not missing values or set to invalid text 'N/A'. Else we have to drop that row.\n",
    "print(df_all_countries.Country.isna().sum())\n",
    "print((df_all_countries.Country == 'N/A').sum())\n",
    "# We dont have any such above rows in this dataset"
   ]
  },
  {
   "cell_type": "code",
   "execution_count": 257,
   "metadata": {},
   "outputs": [
    {
     "data": {
      "text/html": [
       "<div>\n",
       "<style scoped>\n",
       "    .dataframe tbody tr th:only-of-type {\n",
       "        vertical-align: middle;\n",
       "    }\n",
       "\n",
       "    .dataframe tbody tr th {\n",
       "        vertical-align: top;\n",
       "    }\n",
       "\n",
       "    .dataframe thead th {\n",
       "        text-align: right;\n",
       "    }\n",
       "</style>\n",
       "<table border=\"1\" class=\"dataframe\">\n",
       "  <thead>\n",
       "    <tr style=\"text-align: right;\">\n",
       "      <th></th>\n",
       "      <th>Country</th>\n",
       "      <th>Total_Cases</th>\n",
       "      <th>Active</th>\n",
       "      <th>Recovered</th>\n",
       "      <th>New_Cases</th>\n",
       "      <th>New_Deaths</th>\n",
       "      <th>Total_Deaths</th>\n",
       "    </tr>\n",
       "  </thead>\n",
       "  <tbody>\n",
       "    <tr>\n",
       "      <th>0</th>\n",
       "      <td>USA</td>\n",
       "      <td>1505619</td>\n",
       "      <td>1077230</td>\n",
       "      <td>338861</td>\n",
       "      <td>21334</td>\n",
       "      <td>1021</td>\n",
       "      <td>89528</td>\n",
       "    </tr>\n",
       "    <tr>\n",
       "      <th>1</th>\n",
       "      <td>Spain</td>\n",
       "      <td>276505</td>\n",
       "      <td>56689</td>\n",
       "      <td>192253</td>\n",
       "      <td>2138</td>\n",
       "      <td>104</td>\n",
       "      <td>27563</td>\n",
       "    </tr>\n",
       "    <tr>\n",
       "      <th>2</th>\n",
       "      <td>Russia</td>\n",
       "      <td>272043</td>\n",
       "      <td>206340</td>\n",
       "      <td>63166</td>\n",
       "      <td>9200</td>\n",
       "      <td>119</td>\n",
       "      <td>2537</td>\n",
       "    </tr>\n",
       "    <tr>\n",
       "      <th>3</th>\n",
       "      <td>UK</td>\n",
       "      <td>240161</td>\n",
       "      <td>NaN</td>\n",
       "      <td>NaN</td>\n",
       "      <td>3450</td>\n",
       "      <td>468</td>\n",
       "      <td>34466</td>\n",
       "    </tr>\n",
       "    <tr>\n",
       "      <th>4</th>\n",
       "      <td>Brazil</td>\n",
       "      <td>233142</td>\n",
       "      <td>127837</td>\n",
       "      <td>89672</td>\n",
       "      <td>14919</td>\n",
       "      <td>816</td>\n",
       "      <td>15633</td>\n",
       "    </tr>\n",
       "    <tr>\n",
       "      <th>5</th>\n",
       "      <td>Italy</td>\n",
       "      <td>224760</td>\n",
       "      <td>70187</td>\n",
       "      <td>122810</td>\n",
       "      <td>875</td>\n",
       "      <td>153</td>\n",
       "      <td>31763</td>\n",
       "    </tr>\n",
       "    <tr>\n",
       "      <th>6</th>\n",
       "      <td>France</td>\n",
       "      <td>179365</td>\n",
       "      <td>90674</td>\n",
       "      <td>61066</td>\n",
       "      <td>NaN</td>\n",
       "      <td>96</td>\n",
       "      <td>27625</td>\n",
       "    </tr>\n",
       "    <tr>\n",
       "      <th>7</th>\n",
       "      <td>Germany</td>\n",
       "      <td>176247</td>\n",
       "      <td>15620</td>\n",
       "      <td>152600</td>\n",
       "      <td>548</td>\n",
       "      <td>26</td>\n",
       "      <td>8027</td>\n",
       "    </tr>\n",
       "    <tr>\n",
       "      <th>8</th>\n",
       "      <td>Turkey</td>\n",
       "      <td>148067</td>\n",
       "      <td>35834</td>\n",
       "      <td>108137</td>\n",
       "      <td>1610</td>\n",
       "      <td>41</td>\n",
       "      <td>4096</td>\n",
       "    </tr>\n",
       "    <tr>\n",
       "      <th>9</th>\n",
       "      <td>Iran</td>\n",
       "      <td>118392</td>\n",
       "      <td>18308</td>\n",
       "      <td>93147</td>\n",
       "      <td>1757</td>\n",
       "      <td>35</td>\n",
       "      <td>6937</td>\n",
       "    </tr>\n",
       "  </tbody>\n",
       "</table>\n",
       "</div>"
      ],
      "text/plain": [
       "   Country Total_Cases   Active Recovered New_Cases New_Deaths Total_Deaths\n",
       "0      USA     1505619  1077230    338861     21334       1021        89528\n",
       "1    Spain      276505    56689    192253      2138        104        27563\n",
       "2   Russia      272043   206340     63166      9200        119         2537\n",
       "3       UK      240161      NaN       NaN      3450        468        34466\n",
       "4   Brazil      233142   127837     89672     14919        816        15633\n",
       "5    Italy      224760    70187    122810       875        153        31763\n",
       "6   France      179365    90674     61066       NaN         96        27625\n",
       "7  Germany      176247    15620    152600       548         26         8027\n",
       "8   Turkey      148067    35834    108137      1610         41         4096\n",
       "9     Iran      118392    18308     93147      1757         35         6937"
      ]
     },
     "metadata": {},
     "output_type": "display_data"
    }
   ],
   "source": [
    "# Replacing missing values with NaN\n",
    "df_all_countries.replace(r'^\\s*$', np.nan, regex=True, inplace=True)\n",
    "\n",
    "# Replacing invalid text 'N/A' with NaN\n",
    "df_all_countries.replace('N/A', np.nan, inplace=True)\n",
    "\n",
    "display(df_all_countries.head(10))"
   ]
  },
  {
   "cell_type": "markdown",
   "metadata": {},
   "source": [
    "#### Checking if duplicate rows exist. Looks like there is none"
   ]
  },
  {
   "cell_type": "code",
   "execution_count": 258,
   "metadata": {},
   "outputs": [
    {
     "name": "stdout",
     "output_type": "stream",
     "text": [
      "Count Duplicate rows with country:  0\n",
      "Count Duplicate rows:  0\n"
     ]
    }
   ],
   "source": [
    "print(\"Count Duplicate rows with country: \", df_all_countries.Country.duplicated().sum())\n",
    "            \n",
    "print(\"Count Duplicate rows: \" , df_all_countries.duplicated().sum())\n"
   ]
  },
  {
   "cell_type": "markdown",
   "metadata": {},
   "source": [
    "#### Lets see how many NA values in the dataset"
   ]
  },
  {
   "cell_type": "code",
   "execution_count": 259,
   "metadata": {},
   "outputs": [
    {
     "data": {
      "text/plain": [
       "Country           0\n",
       "Total_Cases       0\n",
       "Active            2\n",
       "Recovered         5\n",
       "New_Cases        74\n",
       "New_Deaths      126\n",
       "Total_Deaths     36\n",
       "dtype: int64"
      ]
     },
     "execution_count": 259,
     "metadata": {},
     "output_type": "execute_result"
    }
   ],
   "source": [
    "df_all_countries.isna().sum()"
   ]
  },
  {
   "cell_type": "markdown",
   "metadata": {},
   "source": [
    "#### Understanding what each Feature represents and identify how to fill the NA values\n",
    "\n",
    "For parameters Active cases, Total Deaths and Recovered cases:\n",
    "Imputed these values only for those countries not missing any data in the required parameters used for calculation. Otherwise replacing with 0 to avoid generating incorrect data. Verified with the dataset. \n",
    "Observe the count of missing values for each of this above parameter. I begin imputing by selecting the parameter which has the highest number of missing values.\n",
    "\n",
    "Recovered cases = Total cases - Total Deaths - Active Cases\n",
    " ( USA  : Recovered (262328) = Total Cases (1390392) - Total Deaths (82096) - Active (1045968) )\n",
    "\n",
    "Active cases = Total cases - Total Deaths - Recovered\n",
    " ( Spain: Active (62130) = Total Cases (269520) - Total Deaths (26920) -  Recovered (180470) )\n",
    "\n",
    "Total Deaths : Total cases - Active cases - Recovered\n",
    "\n",
    "New Cases, New Deaths: These parameters vary daily. We cannot fill this value with mean/mode/median. Replacing NaN with zero. \n",
    "\n",
    "I selected parameters New Cases, New Deaths because many of the people who got infected with Covid-19 already recovered, or on their way to full recovery. Thus it helps to show these daily numbers as well."
   ]
  },
  {
   "cell_type": "code",
   "execution_count": 260,
   "metadata": {},
   "outputs": [],
   "source": [
    "df_all_countries.New_Cases.fillna(0, inplace = True)\n",
    "df_all_countries.New_Deaths.fillna(0, inplace = True)"
   ]
  },
  {
   "cell_type": "markdown",
   "metadata": {},
   "source": [
    "#### Imputing values for countries missing Total death cases. We might have to iterate the data cleaning steps until the relevant amount of data is filled with intended values."
   ]
  },
  {
   "cell_type": "code",
   "execution_count": 261,
   "metadata": {},
   "outputs": [],
   "source": [
    "# Imputing Total death cases having NaN values\n",
    "\n",
    "# Get the row indexes of countries having NaN values in the column 'Total_Deaths'\n",
    "result_df = df_all_countries[df_all_countries.Total_Deaths.isna()]\n",
    "#display (result_df)\n",
    "\n",
    "# --- for debugging begins --- \n",
    "# indexes = []\n",
    "# for index1 in result_df.index:\n",
    "#     indexes.append(index1) \n",
    "# print(indexes)    \n",
    "# # --- for debugging end --- \n",
    "\n",
    "\n",
    "for index1 in result_df.index:\n",
    "    if ((result_df['Recovered'][index1] is np.nan) or (result_df['Active'][index1] is np.nan)):\n",
    "        df_all_countries['Total_Deaths'][index1] = 0\n",
    "    else:\n",
    "        df_all_countries['Total_Deaths'][index1] = int(df_all_countries['Total_Cases'][index1]) - \\\n",
    "                                                int(df_all_countries['Active'][index1]) - \\\n",
    "                                                int(df_all_countries['Recovered'][index1])\n",
    "# --- for debugging begins ---         \n",
    "# for i in indexes:\n",
    "#     print(df_all_countries['Country'][i], df_all_countries['Recovered'][i], df_all_countries['Active'][i], df_all_countries['Total_Deaths'][i] )\n"
   ]
  },
  {
   "cell_type": "code",
   "execution_count": 262,
   "metadata": {},
   "outputs": [],
   "source": [
    "# Imputing Recovered cases having NaN values\n",
    "\n",
    "# Get the row indexes of countries having NaN values in the column 'Recovered'\n",
    "result_df = df_all_countries[df_all_countries.Recovered.isna()]\n",
    "#display (result_df)\n",
    "\n",
    "# --- for debugging begins --- \n",
    "# indexes = []\n",
    "# for index1 in result_df.index:\n",
    "#     indexes.append(index1) \n",
    "# print(indexes)    \n",
    "# --- for debugging end --- \n",
    "\n",
    "\n",
    "for index1 in result_df.index:\n",
    "    if ((result_df['Active'][index1] is np.nan) or (result_df['Total_Deaths'][index1] is np.nan)):\n",
    "        df_all_countries['Recovered'][index1] = 0\n",
    "    else:\n",
    "        df_all_countries['Recovered'][index1] = int(df_all_countries['Total_Cases'][index1]) - \\\n",
    "                                                int(df_all_countries['Active'][index1]) - \\\n",
    "                                                int(df_all_countries['Total_Deaths'][index1])\n",
    "# --- for debugging begins ---         \n",
    "# for i in indexes:\n",
    "#     print(df_all_countries['Country'][i], df_all_countries['Recovered'][i], df_all_countries['Active'][i], df_all_countries['Total_Deaths'][i] )\n"
   ]
  },
  {
   "cell_type": "code",
   "execution_count": 263,
   "metadata": {
    "scrolled": true
   },
   "outputs": [],
   "source": [
    "# Imputing Active cases having NaN values\n",
    "\n",
    "# Get the row indexes of countries having NaN values in the column 'Recovered'\n",
    "result_df = df_all_countries[df_all_countries.Active.isna()]\n",
    "#display (result_df)\n",
    "\n",
    "# --- for debugging begins --- \n",
    "# indexes = []\n",
    "# for index1 in result_df.index:\n",
    "#     indexes.append(index1) \n",
    "# print(indexes)    \n",
    "# --- for debugging end --- \n",
    "\n",
    "\n",
    "for index1 in result_df.index:\n",
    "    if ((result_df['Recovered'][index1] is np.nan) or (result_df['Total_Deaths'][index1] is np.nan)):\n",
    "        df_all_countries['Active'][index1] = 0\n",
    "    else:\n",
    "        df_all_countries['Active'][index1] = int(df_all_countries['Total_Cases'][index1]) - \\\n",
    "                                                int(df_all_countries['Recovered'][index1]) - \\\n",
    "                                                int(df_all_countries['Total_Deaths'][index1])\n",
    "# --- for debugging begins ---         \n",
    "# for i in indexes:\n",
    "#     print(df_all_countries['Country'][i], df_all_countries['Recovered'][i], df_all_countries['Active'][i], df_all_countries['Total_Deaths'][i] )\n"
   ]
  },
  {
   "cell_type": "code",
   "execution_count": 264,
   "metadata": {},
   "outputs": [
    {
     "data": {
      "text/plain": [
       "Country         0\n",
       "Total_Cases     0\n",
       "Active          0\n",
       "Recovered       0\n",
       "New_Cases       0\n",
       "New_Deaths      0\n",
       "Total_Deaths    0\n",
       "dtype: int64"
      ]
     },
     "execution_count": 264,
     "metadata": {},
     "output_type": "execute_result"
    }
   ],
   "source": [
    "df_all_countries.isna().sum()"
   ]
  },
  {
   "cell_type": "code",
   "execution_count": 266,
   "metadata": {},
   "outputs": [
    {
     "data": {
      "text/plain": [
       "Country         object\n",
       "Total_Cases     object\n",
       "Active          object\n",
       "Recovered       object\n",
       "New_Cases       object\n",
       "New_Deaths      object\n",
       "Total_Deaths    object\n",
       "dtype: object"
      ]
     },
     "metadata": {},
     "output_type": "display_data"
    },
    {
     "data": {
      "text/plain": [
       "Country         object\n",
       "Total_Cases      int32\n",
       "Active           int32\n",
       "Recovered        int32\n",
       "New_Cases        int32\n",
       "New_Deaths       int32\n",
       "Total_Deaths     int32\n",
       "dtype: object"
      ]
     },
     "metadata": {},
     "output_type": "display_data"
    }
   ],
   "source": [
    "display(df_all_countries.dtypes)\n",
    "\n",
    "# Convert datatype from object to int. We can perform calculations and plotting\n",
    "df_all_countries.New_Cases  = df_all_countries.New_Cases.astype(int)\n",
    "df_all_countries.New_Deaths = df_all_countries.New_Deaths.astype(int)\n",
    "df_all_countries.Active     = df_all_countries.Active.astype(int)\n",
    "df_all_countries.Total_Cases = df_all_countries.Total_Cases.astype(int)\n",
    "df_all_countries.Total_Deaths = df_all_countries.Total_Deaths.astype(int)\n",
    "df_all_countries.Recovered = df_all_countries.Recovered.astype(int)\n",
    "\n",
    "display(df_all_countries.dtypes)\n"
   ]
  },
  {
   "cell_type": "markdown",
   "metadata": {},
   "source": [
    "#### Generating World Summary for Covid-19 Data"
   ]
  },
  {
   "cell_type": "code",
   "execution_count": 275,
   "metadata": {},
   "outputs": [
    {
     "name": "stdout",
     "output_type": "stream",
     "text": [
      "___________________________________________________________________________________\n",
      "Covid-19 updates for Worldwide\n",
      "___________________________________________________________________________________\n"
     ]
    },
    {
     "data": {
      "text/html": [
       "<div>\n",
       "<style scoped>\n",
       "    .dataframe tbody tr th:only-of-type {\n",
       "        vertical-align: middle;\n",
       "    }\n",
       "\n",
       "    .dataframe tbody tr th {\n",
       "        vertical-align: top;\n",
       "    }\n",
       "\n",
       "    .dataframe thead th {\n",
       "        text-align: right;\n",
       "    }\n",
       "</style>\n",
       "<table border=\"1\" class=\"dataframe\">\n",
       "  <thead>\n",
       "    <tr style=\"text-align: right;\">\n",
       "      <th></th>\n",
       "      <th>Total_Cases</th>\n",
       "      <th>Active</th>\n",
       "      <th>Recovered</th>\n",
       "      <th>Total_Deaths</th>\n",
       "    </tr>\n",
       "  </thead>\n",
       "  <tbody>\n",
       "    <tr>\n",
       "      <th>0</th>\n",
       "      <td>4714692</td>\n",
       "      <td>2593258</td>\n",
       "      <td>1809129</td>\n",
       "      <td>312305</td>\n",
       "    </tr>\n",
       "  </tbody>\n",
       "</table>\n",
       "</div>"
      ],
      "text/plain": [
       "   Total_Cases   Active  Recovered  Total_Deaths\n",
       "0      4714692  2593258    1809129        312305"
      ]
     },
     "metadata": {},
     "output_type": "display_data"
    }
   ],
   "source": [
    "dict_world_summary = {}\n",
    "dict_world_summary['Total_Cases']   = df_all_countries['Total_Cases'].sum()\n",
    "dict_world_summary['Active']        = df_all_countries['Active'].sum()\n",
    "dict_world_summary['Recovered']     = df_all_countries['Recovered'].sum()\n",
    "dict_world_summary['Total_Deaths']  = df_all_countries['Total_Deaths'].sum()\n",
    "\n",
    "df_world_summary = pd.DataFrame([dict_world_summary])\n",
    "\n",
    "# displaying data as shown below in the order of colunns mentioned\n",
    "print(\"___________________________________________________________________________________\")\n",
    "print(\"Covid-19 updates for Worldwide\")\n",
    "print(\"___________________________________________________________________________________\")\n",
    "display(df_world_summary[['Total_Cases','Active', 'Recovered','Total_Deaths']])"
   ]
  },
  {
   "cell_type": "code",
   "execution_count": 276,
   "metadata": {},
   "outputs": [],
   "source": [
    "df_all_countries.sort_values(['Total_Cases'], inplace=True, ascending=False)"
   ]
  },
  {
   "cell_type": "markdown",
   "metadata": {},
   "source": [
    "## Looking for insights in the data. "
   ]
  },
  {
   "cell_type": "code",
   "execution_count": 277,
   "metadata": {},
   "outputs": [
    {
     "data": {
      "text/html": [
       "<div>\n",
       "<style scoped>\n",
       "    .dataframe tbody tr th:only-of-type {\n",
       "        vertical-align: middle;\n",
       "    }\n",
       "\n",
       "    .dataframe tbody tr th {\n",
       "        vertical-align: top;\n",
       "    }\n",
       "\n",
       "    .dataframe thead th {\n",
       "        text-align: right;\n",
       "    }\n",
       "</style>\n",
       "<table border=\"1\" class=\"dataframe\">\n",
       "  <thead>\n",
       "    <tr style=\"text-align: right;\">\n",
       "      <th></th>\n",
       "      <th>Total_Cases</th>\n",
       "      <th>Active</th>\n",
       "      <th>Recovered</th>\n",
       "      <th>New_Cases</th>\n",
       "      <th>New_Deaths</th>\n",
       "      <th>Total_Deaths</th>\n",
       "    </tr>\n",
       "  </thead>\n",
       "  <tbody>\n",
       "    <tr>\n",
       "      <th>count</th>\n",
       "      <td>214.000000</td>\n",
       "      <td>214.000000</td>\n",
       "      <td>214.000000</td>\n",
       "      <td>214.000000</td>\n",
       "      <td>214.000000</td>\n",
       "      <td>214.000000</td>\n",
       "    </tr>\n",
       "    <tr>\n",
       "      <th>mean</th>\n",
       "      <td>14995.668224</td>\n",
       "      <td>7084.242991</td>\n",
       "      <td>6870.411215</td>\n",
       "      <td>336.869159</td>\n",
       "      <td>14.626168</td>\n",
       "      <td>1041.014019</td>\n",
       "    </tr>\n",
       "    <tr>\n",
       "      <th>std</th>\n",
       "      <td>44291.113826</td>\n",
       "      <td>24275.718053</td>\n",
       "      <td>23307.998457</td>\n",
       "      <td>1334.307340</td>\n",
       "      <td>70.123904</td>\n",
       "      <td>4392.260791</td>\n",
       "    </tr>\n",
       "    <tr>\n",
       "      <th>min</th>\n",
       "      <td>1.000000</td>\n",
       "      <td>0.000000</td>\n",
       "      <td>0.000000</td>\n",
       "      <td>0.000000</td>\n",
       "      <td>0.000000</td>\n",
       "      <td>0.000000</td>\n",
       "    </tr>\n",
       "    <tr>\n",
       "      <th>25%</th>\n",
       "      <td>118.250000</td>\n",
       "      <td>26.000000</td>\n",
       "      <td>36.000000</td>\n",
       "      <td>0.000000</td>\n",
       "      <td>0.000000</td>\n",
       "      <td>2.000000</td>\n",
       "    </tr>\n",
       "    <tr>\n",
       "      <th>50%</th>\n",
       "      <td>844.000000</td>\n",
       "      <td>306.500000</td>\n",
       "      <td>306.000000</td>\n",
       "      <td>11.000000</td>\n",
       "      <td>0.000000</td>\n",
       "      <td>17.500000</td>\n",
       "    </tr>\n",
       "    <tr>\n",
       "      <th>75%</th>\n",
       "      <td>6656.250000</td>\n",
       "      <td>2662.000000</td>\n",
       "      <td>2554.250000</td>\n",
       "      <td>117.000000</td>\n",
       "      <td>3.000000</td>\n",
       "      <td>161.500000</td>\n",
       "    </tr>\n",
       "    <tr>\n",
       "      <th>max</th>\n",
       "      <td>276505.000000</td>\n",
       "      <td>206340.000000</td>\n",
       "      <td>192253.000000</td>\n",
       "      <td>14919.000000</td>\n",
       "      <td>816.000000</td>\n",
       "      <td>34466.000000</td>\n",
       "    </tr>\n",
       "  </tbody>\n",
       "</table>\n",
       "</div>"
      ],
      "text/plain": [
       "         Total_Cases         Active      Recovered     New_Cases  New_Deaths  \\\n",
       "count     214.000000     214.000000     214.000000    214.000000  214.000000   \n",
       "mean    14995.668224    7084.242991    6870.411215    336.869159   14.626168   \n",
       "std     44291.113826   24275.718053   23307.998457   1334.307340   70.123904   \n",
       "min         1.000000       0.000000       0.000000      0.000000    0.000000   \n",
       "25%       118.250000      26.000000      36.000000      0.000000    0.000000   \n",
       "50%       844.000000     306.500000     306.000000     11.000000    0.000000   \n",
       "75%      6656.250000    2662.000000    2554.250000    117.000000    3.000000   \n",
       "max    276505.000000  206340.000000  192253.000000  14919.000000  816.000000   \n",
       "\n",
       "       Total_Deaths  \n",
       "count    214.000000  \n",
       "mean    1041.014019  \n",
       "std     4392.260791  \n",
       "min        0.000000  \n",
       "25%        2.000000  \n",
       "50%       17.500000  \n",
       "75%      161.500000  \n",
       "max    34466.000000  "
      ]
     },
     "metadata": {},
     "output_type": "display_data"
    }
   ],
   "source": [
    "#Descriptive analysis\n",
    "display(df_all_countries.drop([0]).describe())"
   ]
  },
  {
   "cell_type": "markdown",
   "metadata": {},
   "source": [
    "#### Exploring heatmap of the leading countries with total confirmed cases.\n",
    "Heatmap gives many insights in one-go. Low-value data points to high value data points in this dataset are represented by the least to most opaque color shade."
   ]
  },
  {
   "cell_type": "code",
   "execution_count": 278,
   "metadata": {},
   "outputs": [
    {
     "data": {
      "text/html": [
       "<style  type=\"text/css\" >\n",
       "    #T_c401d350_97d3_11ea_93a2_34e12d0f7b38row0_col1 {\n",
       "            background-color:  #67000d;\n",
       "        }    #T_c401d350_97d3_11ea_93a2_34e12d0f7b38row0_col2 {\n",
       "            background-color:  #fdc5ae;\n",
       "        }    #T_c401d350_97d3_11ea_93a2_34e12d0f7b38row0_col3 {\n",
       "            background-color:  #67000d;\n",
       "        }    #T_c401d350_97d3_11ea_93a2_34e12d0f7b38row0_col4 {\n",
       "            background-color:  #fee5d8;\n",
       "        }    #T_c401d350_97d3_11ea_93a2_34e12d0f7b38row0_col5 {\n",
       "            background-color:  #c1161b;\n",
       "        }    #T_c401d350_97d3_11ea_93a2_34e12d0f7b38row1_col1 {\n",
       "            background-color:  #75030f;\n",
       "        }    #T_c401d350_97d3_11ea_93a2_34e12d0f7b38row1_col2 {\n",
       "            background-color:  #67000d;\n",
       "        }    #T_c401d350_97d3_11ea_93a2_34e12d0f7b38row1_col3 {\n",
       "            background-color:  #fca183;\n",
       "        }    #T_c401d350_97d3_11ea_93a2_34e12d0f7b38row1_col4 {\n",
       "            background-color:  #fee1d4;\n",
       "        }    #T_c401d350_97d3_11ea_93a2_34e12d0f7b38row1_col5 {\n",
       "            background-color:  #fff5f0;\n",
       "        }    #T_c401d350_97d3_11ea_93a2_34e12d0f7b38row2_col1 {\n",
       "            background-color:  #c4161c;\n",
       "        }    #T_c401d350_97d3_11ea_93a2_34e12d0f7b38row2_col2 {\n",
       "            background-color:  #67000d;\n",
       "        }    #T_c401d350_97d3_11ea_93a2_34e12d0f7b38row2_col3 {\n",
       "            background-color:  #fff5f0;\n",
       "        }    #T_c401d350_97d3_11ea_93a2_34e12d0f7b38row2_col4 {\n",
       "            background-color:  #f5533b;\n",
       "        }    #T_c401d350_97d3_11ea_93a2_34e12d0f7b38row2_col5 {\n",
       "            background-color:  #67000d;\n",
       "        }    #T_c401d350_97d3_11ea_93a2_34e12d0f7b38row3_col1 {\n",
       "            background-color:  #d21f20;\n",
       "        }    #T_c401d350_97d3_11ea_93a2_34e12d0f7b38row3_col2 {\n",
       "            background-color:  #f34935;\n",
       "        }    #T_c401d350_97d3_11ea_93a2_34e12d0f7b38row3_col3 {\n",
       "            background-color:  #fb7555;\n",
       "        }    #T_c401d350_97d3_11ea_93a2_34e12d0f7b38row3_col4 {\n",
       "            background-color:  #67000d;\n",
       "        }    #T_c401d350_97d3_11ea_93a2_34e12d0f7b38row3_col5 {\n",
       "            background-color:  #fc8666;\n",
       "        }    #T_c401d350_97d3_11ea_93a2_34e12d0f7b38row4_col1 {\n",
       "            background-color:  #e12d26;\n",
       "        }    #T_c401d350_97d3_11ea_93a2_34e12d0f7b38row4_col2 {\n",
       "            background-color:  #fcaf93;\n",
       "        }    #T_c401d350_97d3_11ea_93a2_34e12d0f7b38row4_col3 {\n",
       "            background-color:  #eb372a;\n",
       "        }    #T_c401d350_97d3_11ea_93a2_34e12d0f7b38row4_col4 {\n",
       "            background-color:  #fdd5c4;\n",
       "        }    #T_c401d350_97d3_11ea_93a2_34e12d0f7b38row4_col5 {\n",
       "            background-color:  #900a12;\n",
       "        }    #T_c401d350_97d3_11ea_93a2_34e12d0f7b38row5_col1 {\n",
       "            background-color:  #fc8f6f;\n",
       "        }    #T_c401d350_97d3_11ea_93a2_34e12d0f7b38row5_col2 {\n",
       "            background-color:  #fc8d6d;\n",
       "        }    #T_c401d350_97d3_11ea_93a2_34e12d0f7b38row5_col3 {\n",
       "            background-color:  #fca588;\n",
       "        }    #T_c401d350_97d3_11ea_93a2_34e12d0f7b38row5_col4 {\n",
       "            background-color:  #fee7db;\n",
       "        }    #T_c401d350_97d3_11ea_93a2_34e12d0f7b38row5_col5 {\n",
       "            background-color:  #bf151b;\n",
       "        }    #T_c401d350_97d3_11ea_93a2_34e12d0f7b38row6_col1 {\n",
       "            background-color:  #fc9576;\n",
       "        }    #T_c401d350_97d3_11ea_93a2_34e12d0f7b38row6_col2 {\n",
       "            background-color:  #fff5f0;\n",
       "        }    #T_c401d350_97d3_11ea_93a2_34e12d0f7b38row6_col3 {\n",
       "            background-color:  #bd151a;\n",
       "        }    #T_c401d350_97d3_11ea_93a2_34e12d0f7b38row6_col4 {\n",
       "            background-color:  #fff5f0;\n",
       "        }    #T_c401d350_97d3_11ea_93a2_34e12d0f7b38row6_col5 {\n",
       "            background-color:  #fdd2bf;\n",
       "        }    #T_c401d350_97d3_11ea_93a2_34e12d0f7b38row7_col1 {\n",
       "            background-color:  #fdcdb9;\n",
       "        }    #T_c401d350_97d3_11ea_93a2_34e12d0f7b38row7_col2 {\n",
       "            background-color:  #fee3d7;\n",
       "        }    #T_c401d350_97d3_11ea_93a2_34e12d0f7b38row7_col3 {\n",
       "            background-color:  #f5533b;\n",
       "        }    #T_c401d350_97d3_11ea_93a2_34e12d0f7b38row7_col4 {\n",
       "            background-color:  #fff2ec;\n",
       "        }    #T_c401d350_97d3_11ea_93a2_34e12d0f7b38row7_col5 {\n",
       "            background-color:  #ffede5;\n",
       "        }    #T_c401d350_97d3_11ea_93a2_34e12d0f7b38row8_col1 {\n",
       "            background-color:  #fff5f0;\n",
       "        }    #T_c401d350_97d3_11ea_93a2_34e12d0f7b38row8_col2 {\n",
       "            background-color:  #fff3ed;\n",
       "        }    #T_c401d350_97d3_11ea_93a2_34e12d0f7b38row8_col3 {\n",
       "            background-color:  #fb6e4e;\n",
       "        }    #T_c401d350_97d3_11ea_93a2_34e12d0f7b38row8_col4 {\n",
       "            background-color:  #fff4ee;\n",
       "        }    #T_c401d350_97d3_11ea_93a2_34e12d0f7b38row8_col5 {\n",
       "            background-color:  #fedccd;\n",
       "        }</style>  \n",
       "<table id=\"T_c401d350_97d3_11ea_93a2_34e12d0f7b38\" > \n",
       "<thead>    <tr> \n",
       "        <th class=\"blank level0\" ></th> \n",
       "        <th class=\"col_heading level0 col0\" >Country</th> \n",
       "        <th class=\"col_heading level0 col1\" >Total_Cases</th> \n",
       "        <th class=\"col_heading level0 col2\" >Active</th> \n",
       "        <th class=\"col_heading level0 col3\" >Recovered</th> \n",
       "        <th class=\"col_heading level0 col4\" >New_Deaths</th> \n",
       "        <th class=\"col_heading level0 col5\" >Total_Deaths</th> \n",
       "    </tr></thead> \n",
       "<tbody>    <tr> \n",
       "        <th id=\"T_c401d350_97d3_11ea_93a2_34e12d0f7b38level0_row0\" class=\"row_heading level0 row0\" >1</th> \n",
       "        <td id=\"T_c401d350_97d3_11ea_93a2_34e12d0f7b38row0_col0\" class=\"data row0 col0\" >Spain</td> \n",
       "        <td id=\"T_c401d350_97d3_11ea_93a2_34e12d0f7b38row0_col1\" class=\"data row0 col1\" >276505</td> \n",
       "        <td id=\"T_c401d350_97d3_11ea_93a2_34e12d0f7b38row0_col2\" class=\"data row0 col2\" >56689</td> \n",
       "        <td id=\"T_c401d350_97d3_11ea_93a2_34e12d0f7b38row0_col3\" class=\"data row0 col3\" >192253</td> \n",
       "        <td id=\"T_c401d350_97d3_11ea_93a2_34e12d0f7b38row0_col4\" class=\"data row0 col4\" >104</td> \n",
       "        <td id=\"T_c401d350_97d3_11ea_93a2_34e12d0f7b38row0_col5\" class=\"data row0 col5\" >27563</td> \n",
       "    </tr>    <tr> \n",
       "        <th id=\"T_c401d350_97d3_11ea_93a2_34e12d0f7b38level0_row1\" class=\"row_heading level0 row1\" >2</th> \n",
       "        <td id=\"T_c401d350_97d3_11ea_93a2_34e12d0f7b38row1_col0\" class=\"data row1 col0\" >Russia</td> \n",
       "        <td id=\"T_c401d350_97d3_11ea_93a2_34e12d0f7b38row1_col1\" class=\"data row1 col1\" >272043</td> \n",
       "        <td id=\"T_c401d350_97d3_11ea_93a2_34e12d0f7b38row1_col2\" class=\"data row1 col2\" >206340</td> \n",
       "        <td id=\"T_c401d350_97d3_11ea_93a2_34e12d0f7b38row1_col3\" class=\"data row1 col3\" >63166</td> \n",
       "        <td id=\"T_c401d350_97d3_11ea_93a2_34e12d0f7b38row1_col4\" class=\"data row1 col4\" >119</td> \n",
       "        <td id=\"T_c401d350_97d3_11ea_93a2_34e12d0f7b38row1_col5\" class=\"data row1 col5\" >2537</td> \n",
       "    </tr>    <tr> \n",
       "        <th id=\"T_c401d350_97d3_11ea_93a2_34e12d0f7b38level0_row2\" class=\"row_heading level0 row2\" >3</th> \n",
       "        <td id=\"T_c401d350_97d3_11ea_93a2_34e12d0f7b38row2_col0\" class=\"data row2 col0\" >UK</td> \n",
       "        <td id=\"T_c401d350_97d3_11ea_93a2_34e12d0f7b38row2_col1\" class=\"data row2 col1\" >240161</td> \n",
       "        <td id=\"T_c401d350_97d3_11ea_93a2_34e12d0f7b38row2_col2\" class=\"data row2 col2\" >205695</td> \n",
       "        <td id=\"T_c401d350_97d3_11ea_93a2_34e12d0f7b38row2_col3\" class=\"data row2 col3\" >0</td> \n",
       "        <td id=\"T_c401d350_97d3_11ea_93a2_34e12d0f7b38row2_col4\" class=\"data row2 col4\" >468</td> \n",
       "        <td id=\"T_c401d350_97d3_11ea_93a2_34e12d0f7b38row2_col5\" class=\"data row2 col5\" >34466</td> \n",
       "    </tr>    <tr> \n",
       "        <th id=\"T_c401d350_97d3_11ea_93a2_34e12d0f7b38level0_row3\" class=\"row_heading level0 row3\" >4</th> \n",
       "        <td id=\"T_c401d350_97d3_11ea_93a2_34e12d0f7b38row3_col0\" class=\"data row3 col0\" >Brazil</td> \n",
       "        <td id=\"T_c401d350_97d3_11ea_93a2_34e12d0f7b38row3_col1\" class=\"data row3 col1\" >233142</td> \n",
       "        <td id=\"T_c401d350_97d3_11ea_93a2_34e12d0f7b38row3_col2\" class=\"data row3 col2\" >127837</td> \n",
       "        <td id=\"T_c401d350_97d3_11ea_93a2_34e12d0f7b38row3_col3\" class=\"data row3 col3\" >89672</td> \n",
       "        <td id=\"T_c401d350_97d3_11ea_93a2_34e12d0f7b38row3_col4\" class=\"data row3 col4\" >816</td> \n",
       "        <td id=\"T_c401d350_97d3_11ea_93a2_34e12d0f7b38row3_col5\" class=\"data row3 col5\" >15633</td> \n",
       "    </tr>    <tr> \n",
       "        <th id=\"T_c401d350_97d3_11ea_93a2_34e12d0f7b38level0_row4\" class=\"row_heading level0 row4\" >5</th> \n",
       "        <td id=\"T_c401d350_97d3_11ea_93a2_34e12d0f7b38row4_col0\" class=\"data row4 col0\" >Italy</td> \n",
       "        <td id=\"T_c401d350_97d3_11ea_93a2_34e12d0f7b38row4_col1\" class=\"data row4 col1\" >224760</td> \n",
       "        <td id=\"T_c401d350_97d3_11ea_93a2_34e12d0f7b38row4_col2\" class=\"data row4 col2\" >70187</td> \n",
       "        <td id=\"T_c401d350_97d3_11ea_93a2_34e12d0f7b38row4_col3\" class=\"data row4 col3\" >122810</td> \n",
       "        <td id=\"T_c401d350_97d3_11ea_93a2_34e12d0f7b38row4_col4\" class=\"data row4 col4\" >153</td> \n",
       "        <td id=\"T_c401d350_97d3_11ea_93a2_34e12d0f7b38row4_col5\" class=\"data row4 col5\" >31763</td> \n",
       "    </tr>    <tr> \n",
       "        <th id=\"T_c401d350_97d3_11ea_93a2_34e12d0f7b38level0_row5\" class=\"row_heading level0 row5\" >6</th> \n",
       "        <td id=\"T_c401d350_97d3_11ea_93a2_34e12d0f7b38row5_col0\" class=\"data row5 col0\" >France</td> \n",
       "        <td id=\"T_c401d350_97d3_11ea_93a2_34e12d0f7b38row5_col1\" class=\"data row5 col1\" >179365</td> \n",
       "        <td id=\"T_c401d350_97d3_11ea_93a2_34e12d0f7b38row5_col2\" class=\"data row5 col2\" >90674</td> \n",
       "        <td id=\"T_c401d350_97d3_11ea_93a2_34e12d0f7b38row5_col3\" class=\"data row5 col3\" >61066</td> \n",
       "        <td id=\"T_c401d350_97d3_11ea_93a2_34e12d0f7b38row5_col4\" class=\"data row5 col4\" >96</td> \n",
       "        <td id=\"T_c401d350_97d3_11ea_93a2_34e12d0f7b38row5_col5\" class=\"data row5 col5\" >27625</td> \n",
       "    </tr>    <tr> \n",
       "        <th id=\"T_c401d350_97d3_11ea_93a2_34e12d0f7b38level0_row6\" class=\"row_heading level0 row6\" >7</th> \n",
       "        <td id=\"T_c401d350_97d3_11ea_93a2_34e12d0f7b38row6_col0\" class=\"data row6 col0\" >Germany</td> \n",
       "        <td id=\"T_c401d350_97d3_11ea_93a2_34e12d0f7b38row6_col1\" class=\"data row6 col1\" >176247</td> \n",
       "        <td id=\"T_c401d350_97d3_11ea_93a2_34e12d0f7b38row6_col2\" class=\"data row6 col2\" >15620</td> \n",
       "        <td id=\"T_c401d350_97d3_11ea_93a2_34e12d0f7b38row6_col3\" class=\"data row6 col3\" >152600</td> \n",
       "        <td id=\"T_c401d350_97d3_11ea_93a2_34e12d0f7b38row6_col4\" class=\"data row6 col4\" >26</td> \n",
       "        <td id=\"T_c401d350_97d3_11ea_93a2_34e12d0f7b38row6_col5\" class=\"data row6 col5\" >8027</td> \n",
       "    </tr>    <tr> \n",
       "        <th id=\"T_c401d350_97d3_11ea_93a2_34e12d0f7b38level0_row7\" class=\"row_heading level0 row7\" >8</th> \n",
       "        <td id=\"T_c401d350_97d3_11ea_93a2_34e12d0f7b38row7_col0\" class=\"data row7 col0\" >Turkey</td> \n",
       "        <td id=\"T_c401d350_97d3_11ea_93a2_34e12d0f7b38row7_col1\" class=\"data row7 col1\" >148067</td> \n",
       "        <td id=\"T_c401d350_97d3_11ea_93a2_34e12d0f7b38row7_col2\" class=\"data row7 col2\" >35834</td> \n",
       "        <td id=\"T_c401d350_97d3_11ea_93a2_34e12d0f7b38row7_col3\" class=\"data row7 col3\" >108137</td> \n",
       "        <td id=\"T_c401d350_97d3_11ea_93a2_34e12d0f7b38row7_col4\" class=\"data row7 col4\" >41</td> \n",
       "        <td id=\"T_c401d350_97d3_11ea_93a2_34e12d0f7b38row7_col5\" class=\"data row7 col5\" >4096</td> \n",
       "    </tr>    <tr> \n",
       "        <th id=\"T_c401d350_97d3_11ea_93a2_34e12d0f7b38level0_row8\" class=\"row_heading level0 row8\" >9</th> \n",
       "        <td id=\"T_c401d350_97d3_11ea_93a2_34e12d0f7b38row8_col0\" class=\"data row8 col0\" >Iran</td> \n",
       "        <td id=\"T_c401d350_97d3_11ea_93a2_34e12d0f7b38row8_col1\" class=\"data row8 col1\" >118392</td> \n",
       "        <td id=\"T_c401d350_97d3_11ea_93a2_34e12d0f7b38row8_col2\" class=\"data row8 col2\" >18308</td> \n",
       "        <td id=\"T_c401d350_97d3_11ea_93a2_34e12d0f7b38row8_col3\" class=\"data row8 col3\" >93147</td> \n",
       "        <td id=\"T_c401d350_97d3_11ea_93a2_34e12d0f7b38row8_col4\" class=\"data row8 col4\" >35</td> \n",
       "        <td id=\"T_c401d350_97d3_11ea_93a2_34e12d0f7b38row8_col5\" class=\"data row8 col5\" >6937</td> \n",
       "    </tr></tbody> \n",
       "</table> "
      ],
      "text/plain": [
       "<pandas.io.formats.style.Styler at 0x1f271a2fd30>"
      ]
     },
     "execution_count": 278,
     "metadata": {},
     "output_type": "execute_result"
    }
   ],
   "source": [
    "# dataframe holds dataset from the top 10 countries with highest number of total confirmed cases\n",
    "df_top_10 = df_all_countries[['Country','Total_Cases','Active','Recovered','New_Deaths','Total_Deaths']].sort_values('Total_Cases', ascending=False).head(10)\n",
    "\n",
    "# Droppng outlier USA to make the plotting effective for this study\n",
    "df_top_10 = df_top_10.drop([0]) \n",
    "\n",
    "#display(df_top_10)\n",
    "#Todo: how to show visible text in opaque color\n",
    "#df_top_10.style.background_gradient(cmap='Reds', subset=['Total_Cases'])\\\n",
    "#                     .background_gradient(cmap='Blues', subset=['Active'])\\\n",
    "#                     .background_gradient(cmap='Greens', subset=['Recovered'])\\\n",
    "#                     .background_gradient(cmap='Purples', subset=['New_Deaths'])\\\n",
    "#                     .background_gradient(cmap='YlOrBr', subset=['Total_Deaths'])\n",
    "\n",
    "# Find it more appealing to use one color map in this usecase. It helps to quickly relate this dataset and gather insights\n",
    "df_top_10.style.background_gradient(cmap='Reds')"
   ]
  },
  {
   "cell_type": "code",
   "execution_count": 282,
   "metadata": {},
   "outputs": [],
   "source": [
    "# Top 10 countries with Active cases\n",
    "# ----- Old code ------\n",
    "# df = df_top_10.sort_values('Active', ascending=False)\n",
    "# ax=sns.barplot(x=df['Country'], y=df['Active'])\n",
    "# ax.set_title(\"Top 10 Countries (Active Cases)\")"
   ]
  },
  {
   "cell_type": "markdown",
   "metadata": {},
   "source": [
    "#### In any Epidemic, the study of Mortality rate and Recovery rate is important."
   ]
  },
  {
   "cell_type": "code",
   "execution_count": 323,
   "metadata": {},
   "outputs": [
    {
     "name": "stderr",
     "output_type": "stream",
     "text": [
      "C:\\ProgramData\\Anaconda3\\lib\\site-packages\\scipy\\stats\\stats.py:1713: FutureWarning:\n",
      "\n",
      "Using a non-tuple sequence for multidimensional indexing is deprecated; use `arr[tuple(seq)]` instead of `arr[seq]`. In the future this will be interpreted as an array index, `arr[np.array(seq)]`, which will result either in an error or a different result.\n",
      "\n"
     ]
    },
    {
     "data": {
      "text/plain": [
       "Text(0.5,1,'Recovered V/S Cumulative Deaths Analysis - Worldwide countries')"
      ]
     },
     "execution_count": 323,
     "metadata": {},
     "output_type": "execute_result"
    },
    {
     "data": {
      "image/png": "[encoded data removed]",
      "text/plain": [
       "<Figure size 432x288 with 1 Axes>"
      ]
     },
     "metadata": {
      "needs_background": "light"
     },
     "output_type": "display_data"
    }
   ],
   "source": [
    "# Recovered Vs Cumulative Deaths Analysis. Its showing that number of deaths is also increasing,\n",
    "# as the number of recoveries are increasing.\n",
    "\n",
    "ax = sns.regplot(x ='Recovered',y='Total_Deaths', data=df_all_countries) \n",
    "ax.set_title(\"Recovered V/S Cumulative Deaths Analysis - Worldwide countries\")"
   ]
  },
  {
   "cell_type": "markdown",
   "metadata": {},
   "source": [
    "#### Exploring current trend of Daily -  new cases and new deaths across the world"
   ]
  },
  {
   "cell_type": "code",
   "execution_count": 274,
   "metadata": {},
   "outputs": [
    {
     "data": {
      "application/vnd.plotly.v1+json": {
       "config": {
        "plotlyServerURL": "https://plot.ly"
       },
       "data": [
        {
         "marker": {
          "color": "rgb(255,104,98)",
          "line": {
           "color": "rgb(255,104,98)"
          }
         },
         "mode": "lines+markers",
         "name": "New Daily cases",
         "type": "scatter",
         "x": [
          "USA",
          "Spain",
          "Russia",
          "UK",
          "Brazil",
          "Italy",
          "France",
          "Germany",
          "Turkey",
          "Iran",
          "India",
          "Peru",
          "Canada",
          "Belgium",
          "Saudi Arabia",
          "Mexico",
          "Netherlands",
          "Chile",
          "Pakistan",
          "Ecuador",
          "Qatar",
          "Switzerland",
          "Sweden",
          "Portugal",
          "Belarus",
          "Singapore",
          "Ireland",
          "UAE",
          "Bangladesh",
          "Poland",
          "Ukraine",
          "Indonesia",
          "Romania",
          "Israel",
          "Japan",
          "Austria",
          "Colombia",
          "South Africa",
          "Kuwait",
          "Philippines",
          "Dominican Republic",
          "Egypt",
          "S. Korea",
          "Denmark",
          "Serbia",
          "Panama",
          "Czechia",
          "Norway",
          "Argentina",
          "Australia",
          "Malaysia",
          "Algeria",
          "Bahrain",
          "Morocco",
          "Afghanistan",
          "Finland",
          "Moldova",
          "Kazakhstan",
          "Ghana",
          "Nigeria",
          "Oman",
          "Armenia",
          "Luxembourg",
          "Bolivia",
          "Hungary",
          "Iraq",
          "Azerbaijan",
          "Cameroon",
          "Thailand",
          "Greece",
          "Uzbekistan",
          "Guinea",
          "Honduras",
          "Senegal",
          "Sudan",
          "Bosnia and Herzegovina",
          "Croatia",
          "Bulgaria",
          "Ivory Coast",
          "Cuba",
          "Iceland",
          "Estonia",
          "North Macedonia",
          "Guatemala",
          "Lithuania",
          "New Zealand",
          "Slovakia",
          "Slovenia",
          "DRC",
          "Somalia",
          "Djibouti",
          "Tajikistan",
          "Gabon",
          "Mayotte",
          "El Salvador",
          "Kyrgyzstan",
          "Maldives",
          "Hong Kong",
          "Tunisia",
          "Latvia",
          "Guinea-Bissau",
          "Sri Lanka",
          "Albania",
          "Cyprus",
          "Lebanon",
          "Niger",
          "Costa Rica",
          "Mali",
          "Kenya",
          "Burkina Faso",
          "Paraguay",
          "Andorra",
          "Uruguay",
          "Diamond Princess",
          "Georgia",
          "Zambia",
          "San Marino",
          "Jordan",
          "Equatorial Guinea",
          "Channel Islands",
          "Malta",
          "Jamaica",
          "Tanzania",
          "Chad",
          "Sierra Leone",
          "Venezuela",
          "Réunion",
          "Taiwan",
          "Congo",
          "Palestine",
          "Haiti",
          "Benin",
          "Isle of Man",
          "Mauritius",
          "Cabo Verde",
          "CAR",
          "Montenegro",
          "Vietnam",
          "Ethiopia",
          "Togo",
          "Rwanda",
          "Madagascar",
          "Nepal",
          "South Sudan",
          "Sao Tome and Principe",
          "Uganda",
          "Liberia",
          "Eswatini",
          "French Guiana",
          "Martinique",
          "Faeroe Islands",
          "Myanmar",
          "Guadeloupe",
          "Gibraltar",
          "Brunei",
          "Mongolia",
          "Mozambique",
          "Bermuda",
          "Yemen",
          "Cambodia",
          "Guyana",
          "Trinidad and Tobago",
          "Aruba",
          "Bahamas",
          "Monaco",
          "Cayman Islands",
          "Barbados",
          "Liechtenstein",
          "Sint Maarten",
          "Libya",
          "Malawi",
          "French Polynesia",
          "Syria",
          "Angola",
          "Macao",
          "Zimbabwe",
          "Mauritania",
          "Saint Martin",
          "Eritrea",
          "Nicaragua",
          "Antigua and Barbuda",
          "Botswana",
          "Timor-Leste",
          "Gambia",
          "Grenada",
          "Bhutan",
          "Laos",
          "Belize",
          "Fiji",
          "New Caledonia",
          "Saint Lucia",
          "St. Vincent Grenadines",
          "Curaçao",
          "Dominica",
          "Namibia",
          "Burundi",
          "Saint Kitts and Nevis",
          "Falkland Islands",
          "Turks and Caicos",
          "Vatican City",
          "Comoros",
          "Montserrat",
          "Greenland",
          "Seychelles",
          "Suriname",
          "MS Zaandam",
          "British Virgin Islands",
          "Papua New Guinea",
          "Caribbean Netherlands",
          "St. Barth",
          "Western Sahara",
          "Anguilla",
          "Lesotho",
          "Saint Pierre Miquelon",
          "China"
         ],
         "y": [
          21334,
          2138,
          9200,
          3450,
          14919,
          875,
          0,
          548,
          1610,
          1757,
          4864,
          4046,
          1251,
          345,
          2840,
          2437,
          189,
          1886,
          1581,
          1296,
          1547,
          58,
          470,
          227,
          951,
          465,
          92,
          796,
          930,
          241,
          528,
          529,
          267,
          19,
          0,
          92,
          723,
          831,
          942,
          214,
          371,
          491,
          19,
          67,
          58,
          150,
          49,
          18,
          326,
          17,
          17,
          192,
          164,
          89,
          349,
          58,
          189,
          161,
          97,
          176,
          404,
          239,
          7,
          205,
          56,
          67,
          158,
          151,
          0,
          9,
          52,
          185,
          142,
          119,
          325,
          31,
          2,
          37,
          44,
          22,
          0,
          4,
          22,
          125,
          11,
          0,
          13,
          0,
          72,
          73,
          22,
          204,
          111,
          102,
          55,
          6,
          47,
          0,
          0,
          27,
          56,
          22,
          17,
          4,
          11,
          4,
          10,
          29,
          49,
          2,
          19,
          0,
          1,
          0,
          12,
          25,
          1,
          11,
          0,
          5,
          14,
          2,
          0,
          46,
          15,
          0,
          2,
          0,
          0,
          1,
          85,
          0,
          1,
          0,
          2,
          26,
          0,
          4,
          19,
          35,
          2,
          45,
          14,
          0,
          0,
          24,
          4,
          12,
          8,
          0,
          0,
          1,
          0,
          0,
          0,
          37,
          10,
          1,
          16,
          0,
          1,
          0,
          0,
          0,
          0,
          0,
          1,
          0,
          0,
          1,
          2,
          0,
          1,
          0,
          0,
          0,
          11,
          0,
          0,
          0,
          0,
          0,
          0,
          0,
          0,
          0,
          0,
          0,
          0,
          0,
          0,
          0,
          0,
          0,
          0,
          0,
          0,
          0,
          0,
          0,
          0,
          0,
          0,
          0,
          0,
          0,
          0,
          0,
          0,
          0,
          0,
          0,
          0,
          0,
          8
         ]
        },
        {
         "marker": {
          "color": "Black",
          "line": {
           "color": "Black"
          }
         },
         "mode": "lines+markers",
         "name": "New Daily Deaths",
         "type": "scatter",
         "x": [
          "USA",
          "Spain",
          "Russia",
          "UK",
          "Brazil",
          "Italy",
          "France",
          "Germany",
          "Turkey",
          "Iran",
          "India",
          "Peru",
          "Canada",
          "Belgium",
          "Saudi Arabia",
          "Mexico",
          "Netherlands",
          "Chile",
          "Pakistan",
          "Ecuador",
          "Qatar",
          "Switzerland",
          "Sweden",
          "Portugal",
          "Belarus",
          "Singapore",
          "Ireland",
          "UAE",
          "Bangladesh",
          "Poland",
          "Ukraine",
          "Indonesia",
          "Romania",
          "Israel",
          "Japan",
          "Austria",
          "Colombia",
          "South Africa",
          "Kuwait",
          "Philippines",
          "Dominican Republic",
          "Egypt",
          "S. Korea",
          "Denmark",
          "Serbia",
          "Panama",
          "Czechia",
          "Norway",
          "Argentina",
          "Australia",
          "Malaysia",
          "Algeria",
          "Bahrain",
          "Morocco",
          "Afghanistan",
          "Finland",
          "Moldova",
          "Kazakhstan",
          "Ghana",
          "Nigeria",
          "Oman",
          "Armenia",
          "Luxembourg",
          "Bolivia",
          "Hungary",
          "Iraq",
          "Azerbaijan",
          "Cameroon",
          "Thailand",
          "Greece",
          "Uzbekistan",
          "Guinea",
          "Honduras",
          "Senegal",
          "Sudan",
          "Bosnia and Herzegovina",
          "Croatia",
          "Bulgaria",
          "Ivory Coast",
          "Cuba",
          "Iceland",
          "Estonia",
          "North Macedonia",
          "Guatemala",
          "Lithuania",
          "New Zealand",
          "Slovakia",
          "Slovenia",
          "DRC",
          "Somalia",
          "Djibouti",
          "Tajikistan",
          "Gabon",
          "Mayotte",
          "El Salvador",
          "Kyrgyzstan",
          "Maldives",
          "Hong Kong",
          "Tunisia",
          "Latvia",
          "Guinea-Bissau",
          "Sri Lanka",
          "Albania",
          "Cyprus",
          "Lebanon",
          "Niger",
          "Costa Rica",
          "Mali",
          "Kenya",
          "Burkina Faso",
          "Paraguay",
          "Andorra",
          "Uruguay",
          "Diamond Princess",
          "Georgia",
          "Zambia",
          "San Marino",
          "Jordan",
          "Equatorial Guinea",
          "Channel Islands",
          "Malta",
          "Jamaica",
          "Tanzania",
          "Chad",
          "Sierra Leone",
          "Venezuela",
          "Réunion",
          "Taiwan",
          "Congo",
          "Palestine",
          "Haiti",
          "Benin",
          "Isle of Man",
          "Mauritius",
          "Cabo Verde",
          "CAR",
          "Montenegro",
          "Vietnam",
          "Ethiopia",
          "Togo",
          "Rwanda",
          "Madagascar",
          "Nepal",
          "South Sudan",
          "Sao Tome and Principe",
          "Uganda",
          "Liberia",
          "Eswatini",
          "French Guiana",
          "Martinique",
          "Faeroe Islands",
          "Myanmar",
          "Guadeloupe",
          "Gibraltar",
          "Brunei",
          "Mongolia",
          "Mozambique",
          "Bermuda",
          "Yemen",
          "Cambodia",
          "Guyana",
          "Trinidad and Tobago",
          "Aruba",
          "Bahamas",
          "Monaco",
          "Cayman Islands",
          "Barbados",
          "Liechtenstein",
          "Sint Maarten",
          "Libya",
          "Malawi",
          "French Polynesia",
          "Syria",
          "Angola",
          "Macao",
          "Zimbabwe",
          "Mauritania",
          "Saint Martin",
          "Eritrea",
          "Nicaragua",
          "Antigua and Barbuda",
          "Botswana",
          "Timor-Leste",
          "Gambia",
          "Grenada",
          "Bhutan",
          "Laos",
          "Belize",
          "Fiji",
          "New Caledonia",
          "Saint Lucia",
          "St. Vincent Grenadines",
          "Curaçao",
          "Dominica",
          "Namibia",
          "Burundi",
          "Saint Kitts and Nevis",
          "Falkland Islands",
          "Turks and Caicos",
          "Vatican City",
          "Comoros",
          "Montserrat",
          "Greenland",
          "Seychelles",
          "Suriname",
          "MS Zaandam",
          "British Virgin Islands",
          "Papua New Guinea",
          "Caribbean Netherlands",
          "St. Barth",
          "Western Sahara",
          "Anguilla",
          "Lesotho",
          "Saint Pierre Miquelon",
          "China"
         ],
         "y": [
          1021,
          104,
          119,
          468,
          816,
          153,
          96,
          26,
          41,
          35,
          118,
          131,
          117,
          46,
          10,
          290,
          27,
          27,
          31,
          94,
          1,
          1,
          28,
          13,
          4,
          1,
          15,
          4,
          16,
          8,
          21,
          13,
          24,
          2,
          0,
          1,
          16,
          14,
          11,
          11,
          4,
          20,
          2,
          6,
          3,
          6,
          1,
          0,
          7,
          0,
          1,
          6,
          0,
          2,
          15,
          4,
          5,
          0,
          1,
          5,
          1,
          3,
          0,
          12,
          6,
          4,
          0,
          1,
          0,
          2,
          0,
          1,
          1,
          0,
          6,
          1,
          0,
          3,
          1,
          0,
          0,
          0,
          1,
          1,
          1,
          0,
          1,
          0,
          11,
          2,
          0,
          3,
          1,
          2,
          3,
          0,
          0,
          0,
          0,
          0,
          1,
          0,
          0,
          0,
          0,
          0,
          1,
          2,
          5,
          0,
          0,
          2,
          0,
          0,
          0,
          0,
          0,
          0,
          0,
          0,
          0,
          0,
          0,
          2,
          2,
          0,
          0,
          0,
          0,
          0,
          0,
          0,
          0,
          0,
          1,
          0,
          0,
          0,
          0,
          0,
          0,
          0,
          1,
          0,
          0,
          0,
          0,
          0,
          0,
          0,
          0,
          0,
          0,
          0,
          0,
          0,
          0,
          0,
          3,
          0,
          0,
          0,
          0,
          0,
          0,
          0,
          0,
          0,
          0,
          0,
          0,
          0,
          0,
          0,
          0,
          0,
          1,
          0,
          0,
          0,
          0,
          0,
          0,
          0,
          0,
          0,
          0,
          0,
          0,
          0,
          0,
          0,
          0,
          0,
          0,
          0,
          0,
          0,
          0,
          0,
          0,
          0,
          0,
          0,
          0,
          0,
          0,
          0,
          0,
          0,
          0,
          0,
          0,
          0,
          0
         ]
        }
       ],
       "layout": {
        "template": {
         "data": {
          "bar": [
           {
            "error_x": {
             "color": "#2a3f5f"
            },
            "error_y": {
             "color": "#2a3f5f"
            },
            "marker": {
             "line": {
              "color": "#E5ECF6",
              "width": 0.5
             }
            },
            "type": "bar"
           }
          ],
          "barpolar": [
           {
            "marker": {
             "line": {
              "color": "#E5ECF6",
              "width": 0.5
             }
            },
            "type": "barpolar"
           }
          ],
          "carpet": [
           {
            "aaxis": {
             "endlinecolor": "#2a3f5f",
             "gridcolor": "white",
             "linecolor": "white",
             "minorgridcolor": "white",
             "startlinecolor": "#2a3f5f"
            },
            "baxis": {
             "endlinecolor": "#2a3f5f",
             "gridcolor": "white",
             "linecolor": "white",
             "minorgridcolor": "white",
             "startlinecolor": "#2a3f5f"
            },
            "type": "carpet"
           }
          ],
          "choropleth": [
           {
            "colorbar": {
             "outlinewidth": 0,
             "ticks": ""
            },
            "type": "choropleth"
           }
          ],
          "contour": [
           {
            "colorbar": {
             "outlinewidth": 0,
             "ticks": ""
            },
            "colorscale": [
             [
              0,
              "#0d0887"
             ],
             [
              0.1111111111111111,
              "#46039f"
             ],
             [
              0.2222222222222222,
              "#7201a8"
             ],
             [
              0.3333333333333333,
              "#9c179e"
             ],
             [
              0.4444444444444444,
              "#bd3786"
             ],
             [
              0.5555555555555556,
              "#d8576b"
             ],
             [
              0.6666666666666666,
              "#ed7953"
             ],
             [
              0.7777777777777778,
              "#fb9f3a"
             ],
             [
              0.8888888888888888,
              "#fdca26"
             ],
             [
              1,
              "#f0f921"
             ]
            ],
            "type": "contour"
           }
          ],
          "contourcarpet": [
           {
            "colorbar": {
             "outlinewidth": 0,
             "ticks": ""
            },
            "type": "contourcarpet"
           }
          ],
          "heatmap": [
           {
            "colorbar": {
             "outlinewidth": 0,
             "ticks": ""
            },
            "colorscale": [
             [
              0,
              "#0d0887"
             ],
             [
              0.1111111111111111,
              "#46039f"
             ],
             [
              0.2222222222222222,
              "#7201a8"
             ],
             [
              0.3333333333333333,
              "#9c179e"
             ],
             [
              0.4444444444444444,
              "#bd3786"
             ],
             [
              0.5555555555555556,
              "#d8576b"
             ],
             [
              0.6666666666666666,
              "#ed7953"
             ],
             [
              0.7777777777777778,
              "#fb9f3a"
             ],
             [
              0.8888888888888888,
              "#fdca26"
             ],
             [
              1,
              "#f0f921"
             ]
            ],
            "type": "heatmap"
           }
          ],
          "heatmapgl": [
           {
            "colorbar": {
             "outlinewidth": 0,
             "ticks": ""
            },
            "colorscale": [
             [
              0,
              "#0d0887"
             ],
             [
              0.1111111111111111,
              "#46039f"
             ],
             [
              0.2222222222222222,
              "#7201a8"
             ],
             [
              0.3333333333333333,
              "#9c179e"
             ],
             [
              0.4444444444444444,
              "#bd3786"
             ],
             [
              0.5555555555555556,
              "#d8576b"
             ],
             [
              0.6666666666666666,
              "#ed7953"
             ],
             [
              0.7777777777777778,
              "#fb9f3a"
             ],
             [
              0.8888888888888888,
              "#fdca26"
             ],
             [
              1,
              "#f0f921"
             ]
            ],
            "type": "heatmapgl"
           }
          ],
          "histogram": [
           {
            "marker": {
             "colorbar": {
              "outlinewidth": 0,
              "ticks": ""
             }
            },
            "type": "histogram"
           }
          ],
          "histogram2d": [
           {
            "colorbar": {
             "outlinewidth": 0,
             "ticks": ""
            },
            "colorscale": [
             [
              0,
              "#0d0887"
             ],
             [
              0.1111111111111111,
              "#46039f"
             ],
             [
              0.2222222222222222,
              "#7201a8"
             ],
             [
              0.3333333333333333,
              "#9c179e"
             ],
             [
              0.4444444444444444,
              "#bd3786"
             ],
             [
              0.5555555555555556,
              "#d8576b"
             ],
             [
              0.6666666666666666,
              "#ed7953"
             ],
             [
              0.7777777777777778,
              "#fb9f3a"
             ],
             [
              0.8888888888888888,
              "#fdca26"
             ],
             [
              1,
              "#f0f921"
             ]
            ],
            "type": "histogram2d"
           }
          ],
          "histogram2dcontour": [
           {
            "colorbar": {
             "outlinewidth": 0,
             "ticks": ""
            },
            "colorscale": [
             [
              0,
              "#0d0887"
             ],
             [
              0.1111111111111111,
              "#46039f"
             ],
             [
              0.2222222222222222,
              "#7201a8"
             ],
             [
              0.3333333333333333,
              "#9c179e"
             ],
             [
              0.4444444444444444,
              "#bd3786"
             ],
             [
              0.5555555555555556,
              "#d8576b"
             ],
             [
              0.6666666666666666,
              "#ed7953"
             ],
             [
              0.7777777777777778,
              "#fb9f3a"
             ],
             [
              0.8888888888888888,
              "#fdca26"
             ],
             [
              1,
              "#f0f921"
             ]
            ],
            "type": "histogram2dcontour"
           }
          ],
          "mesh3d": [
           {
            "colorbar": {
             "outlinewidth": 0,
             "ticks": ""
            },
            "type": "mesh3d"
           }
          ],
          "parcoords": [
           {
            "line": {
             "colorbar": {
              "outlinewidth": 0,
              "ticks": ""
             }
            },
            "type": "parcoords"
           }
          ],
          "pie": [
           {
            "automargin": true,
            "type": "pie"
           }
          ],
          "scatter": [
           {
            "marker": {
             "colorbar": {
              "outlinewidth": 0,
              "ticks": ""
             }
            },
            "type": "scatter"
           }
          ],
          "scatter3d": [
           {
            "line": {
             "colorbar": {
              "outlinewidth": 0,
              "ticks": ""
             }
            },
            "marker": {
             "colorbar": {
              "outlinewidth": 0,
              "ticks": ""
             }
            },
            "type": "scatter3d"
           }
          ],
          "scattercarpet": [
           {
            "marker": {
             "colorbar": {
              "outlinewidth": 0,
              "ticks": ""
             }
            },
            "type": "scattercarpet"
           }
          ],
          "scattergeo": [
           {
            "marker": {
             "colorbar": {
              "outlinewidth": 0,
              "ticks": ""
             }
            },
            "type": "scattergeo"
           }
          ],
          "scattergl": [
           {
            "marker": {
             "colorbar": {
              "outlinewidth": 0,
              "ticks": ""
             }
            },
            "type": "scattergl"
           }
          ],
          "scattermapbox": [
           {
            "marker": {
             "colorbar": {
              "outlinewidth": 0,
              "ticks": ""
             }
            },
            "type": "scattermapbox"
           }
          ],
          "scatterpolar": [
           {
            "marker": {
             "colorbar": {
              "outlinewidth": 0,
              "ticks": ""
             }
            },
            "type": "scatterpolar"
           }
          ],
          "scatterpolargl": [
           {
            "marker": {
             "colorbar": {
              "outlinewidth": 0,
              "ticks": ""
             }
            },
            "type": "scatterpolargl"
           }
          ],
          "scatterternary": [
           {
            "marker": {
             "colorbar": {
              "outlinewidth": 0,
              "ticks": ""
             }
            },
            "type": "scatterternary"
           }
          ],
          "surface": [
           {
            "colorbar": {
             "outlinewidth": 0,
             "ticks": ""
            },
            "colorscale": [
             [
              0,
              "#0d0887"
             ],
             [
              0.1111111111111111,
              "#46039f"
             ],
             [
              0.2222222222222222,
              "#7201a8"
             ],
             [
              0.3333333333333333,
              "#9c179e"
             ],
             [
              0.4444444444444444,
              "#bd3786"
             ],
             [
              0.5555555555555556,
              "#d8576b"
             ],
             [
              0.6666666666666666,
              "#ed7953"
             ],
             [
              0.7777777777777778,
              "#fb9f3a"
             ],
             [
              0.8888888888888888,
              "#fdca26"
             ],
             [
              1,
              "#f0f921"
             ]
            ],
            "type": "surface"
           }
          ],
          "table": [
           {
            "cells": {
             "fill": {
              "color": "#EBF0F8"
             },
             "line": {
              "color": "white"
             }
            },
            "header": {
             "fill": {
              "color": "#C8D4E3"
             },
             "line": {
              "color": "white"
             }
            },
            "type": "table"
           }
          ]
         },
         "layout": {
          "annotationdefaults": {
           "arrowcolor": "#2a3f5f",
           "arrowhead": 0,
           "arrowwidth": 1
          },
          "coloraxis": {
           "colorbar": {
            "outlinewidth": 0,
            "ticks": ""
           }
          },
          "colorscale": {
           "diverging": [
            [
             0,
             "#8e0152"
            ],
            [
             0.1,
             "#c51b7d"
            ],
            [
             0.2,
             "#de77ae"
            ],
            [
             0.3,
             "#f1b6da"
            ],
            [
             0.4,
             "#fde0ef"
            ],
            [
             0.5,
             "#f7f7f7"
            ],
            [
             0.6,
             "#e6f5d0"
            ],
            [
             0.7,
             "#b8e186"
            ],
            [
             0.8,
             "#7fbc41"
            ],
            [
             0.9,
             "#4d9221"
            ],
            [
             1,
             "#276419"
            ]
           ],
           "sequential": [
            [
             0,
             "#0d0887"
            ],
            [
             0.1111111111111111,
             "#46039f"
            ],
            [
             0.2222222222222222,
             "#7201a8"
            ],
            [
             0.3333333333333333,
             "#9c179e"
            ],
            [
             0.4444444444444444,
             "#bd3786"
            ],
            [
             0.5555555555555556,
             "#d8576b"
            ],
            [
             0.6666666666666666,
             "#ed7953"
            ],
            [
             0.7777777777777778,
             "#fb9f3a"
            ],
            [
             0.8888888888888888,
             "#fdca26"
            ],
            [
             1,
             "#f0f921"
            ]
           ],
           "sequentialminus": [
            [
             0,
             "#0d0887"
            ],
            [
             0.1111111111111111,
             "#46039f"
            ],
            [
             0.2222222222222222,
             "#7201a8"
            ],
            [
             0.3333333333333333,
             "#9c179e"
            ],
            [
             0.4444444444444444,
             "#bd3786"
            ],
            [
             0.5555555555555556,
             "#d8576b"
            ],
            [
             0.6666666666666666,
             "#ed7953"
            ],
            [
             0.7777777777777778,
             "#fb9f3a"
            ],
            [
             0.8888888888888888,
             "#fdca26"
            ],
            [
             1,
             "#f0f921"
            ]
           ]
          },
          "colorway": [
           "#636efa",
           "#EF553B",
           "#00cc96",
           "#ab63fa",
           "#FFA15A",
           "#19d3f3",
           "#FF6692",
           "#B6E880",
           "#FF97FF",
           "#FECB52"
          ],
          "font": {
           "color": "#2a3f5f"
          },
          "geo": {
           "bgcolor": "white",
           "lakecolor": "white",
           "landcolor": "#E5ECF6",
           "showlakes": true,
           "showland": true,
           "subunitcolor": "white"
          },
          "hoverlabel": {
           "align": "left"
          },
          "hovermode": "closest",
          "mapbox": {
           "style": "light"
          },
          "paper_bgcolor": "white",
          "plot_bgcolor": "#E5ECF6",
          "polar": {
           "angularaxis": {
            "gridcolor": "white",
            "linecolor": "white",
            "ticks": ""
           },
           "bgcolor": "#E5ECF6",
           "radialaxis": {
            "gridcolor": "white",
            "linecolor": "white",
            "ticks": ""
           }
          },
          "scene": {
           "xaxis": {
            "backgroundcolor": "#E5ECF6",
            "gridcolor": "white",
            "gridwidth": 2,
            "linecolor": "white",
            "showbackground": true,
            "ticks": "",
            "zerolinecolor": "white"
           },
           "yaxis": {
            "backgroundcolor": "#E5ECF6",
            "gridcolor": "white",
            "gridwidth": 2,
            "linecolor": "white",
            "showbackground": true,
            "ticks": "",
            "zerolinecolor": "white"
           },
           "zaxis": {
            "backgroundcolor": "#E5ECF6",
            "gridcolor": "white",
            "gridwidth": 2,
            "linecolor": "white",
            "showbackground": true,
            "ticks": "",
            "zerolinecolor": "white"
           }
          },
          "shapedefaults": {
           "line": {
            "color": "#2a3f5f"
           }
          },
          "ternary": {
           "aaxis": {
            "gridcolor": "white",
            "linecolor": "white",
            "ticks": ""
           },
           "baxis": {
            "gridcolor": "white",
            "linecolor": "white",
            "ticks": ""
           },
           "bgcolor": "#E5ECF6",
           "caxis": {
            "gridcolor": "white",
            "linecolor": "white",
            "ticks": ""
           }
          },
          "title": {
           "x": 0.05
          },
          "xaxis": {
           "automargin": true,
           "gridcolor": "white",
           "linecolor": "white",
           "ticks": "",
           "title": {
            "standoff": 15
           },
           "zerolinecolor": "white",
           "zerolinewidth": 2
          },
          "yaxis": {
           "automargin": true,
           "gridcolor": "white",
           "linecolor": "white",
           "ticks": "",
           "title": {
            "standoff": 15
           },
           "zerolinecolor": "white",
           "zerolinewidth": 2
          }
         }
        },
        "title": {
         "text": "Current trend of Daily - New Cases and New Deaths across the world"
        }
       }
      },
      "text/html": [
       "<div>\n",
       "        \n",
       "        \n",
       "            <div id=\"c4cc791d-e245-43c9-9a67-a92c9a3cc4ad\" class=\"plotly-graph-div\" style=\"height:525px; width:100%;\"></div>\n",
       "            <script type=\"text/javascript\">\n",
       "                require([\"plotly\"], function(Plotly) {\n",
       "                    window.PLOTLYENV=window.PLOTLYENV || {};\n",
       "                    \n",
       "                if (document.getElementById(\"c4cc791d-e245-43c9-9a67-a92c9a3cc4ad\")) {\n",
       "                    Plotly.newPlot(\n",
       "                        'c4cc791d-e245-43c9-9a67-a92c9a3cc4ad',\n",
       "                        [{\"marker\": {\"color\": \"rgb(255,104,98)\", \"line\": {\"color\": \"rgb(255,104,98)\"}}, \"mode\": \"lines+markers\", \"name\": \"New Daily cases\", \"type\": \"scatter\", \"x\": [\"USA\", \"Spain\", \"Russia\", \"UK\", \"Brazil\", \"Italy\", \"France\", \"Germany\", \"Turkey\", \"Iran\", \"India\", \"Peru\", \"Canada\", \"Belgium\", \"Saudi Arabia\", \"Mexico\", \"Netherlands\", \"Chile\", \"Pakistan\", \"Ecuador\", \"Qatar\", \"Switzerland\", \"Sweden\", \"Portugal\", \"Belarus\", \"Singapore\", \"Ireland\", \"UAE\", \"Bangladesh\", \"Poland\", \"Ukraine\", \"Indonesia\", \"Romania\", \"Israel\", \"Japan\", \"Austria\", \"Colombia\", \"South Africa\", \"Kuwait\", \"Philippines\", \"Dominican Republic\", \"Egypt\", \"S. Korea\", \"Denmark\", \"Serbia\", \"Panama\", \"Czechia\", \"Norway\", \"Argentina\", \"Australia\", \"Malaysia\", \"Algeria\", \"Bahrain\", \"Morocco\", \"Afghanistan\", \"Finland\", \"Moldova\", \"Kazakhstan\", \"Ghana\", \"Nigeria\", \"Oman\", \"Armenia\", \"Luxembourg\", \"Bolivia\", \"Hungary\", \"Iraq\", \"Azerbaijan\", \"Cameroon\", \"Thailand\", \"Greece\", \"Uzbekistan\", \"Guinea\", \"Honduras\", \"Senegal\", \"Sudan\", \"Bosnia and Herzegovina\", \"Croatia\", \"Bulgaria\", \"Ivory Coast\", \"Cuba\", \"Iceland\", \"Estonia\", \"North Macedonia\", \"Guatemala\", \"Lithuania\", \"New Zealand\", \"Slovakia\", \"Slovenia\", \"DRC\", \"Somalia\", \"Djibouti\", \"Tajikistan\", \"Gabon\", \"Mayotte\", \"El Salvador\", \"Kyrgyzstan\", \"Maldives\", \"Hong Kong\", \"Tunisia\", \"Latvia\", \"Guinea-Bissau\", \"Sri Lanka\", \"Albania\", \"Cyprus\", \"Lebanon\", \"Niger\", \"Costa Rica\", \"Mali\", \"Kenya\", \"Burkina Faso\", \"Paraguay\", \"Andorra\", \"Uruguay\", \"Diamond Princess\", \"Georgia\", \"Zambia\", \"San Marino\", \"Jordan\", \"Equatorial Guinea\", \"Channel Islands\", \"Malta\", \"Jamaica\", \"Tanzania\", \"Chad\", \"Sierra Leone\", \"Venezuela\", \"R\\u00e9union\", \"Taiwan\", \"Congo\", \"Palestine\", \"Haiti\", \"Benin\", \"Isle of Man\", \"Mauritius\", \"Cabo Verde\", \"CAR\", \"Montenegro\", \"Vietnam\", \"Ethiopia\", \"Togo\", \"Rwanda\", \"Madagascar\", \"Nepal\", \"South Sudan\", \"Sao Tome and Principe\", \"Uganda\", \"Liberia\", \"Eswatini\", \"French Guiana\", \"Martinique\", \"Faeroe Islands\", \"Myanmar\", \"Guadeloupe\", \"Gibraltar\", \"Brunei\", \"Mongolia\", \"Mozambique\", \"Bermuda\", \"Yemen\", \"Cambodia\", \"Guyana\", \"Trinidad and Tobago\", \"Aruba\", \"Bahamas\", \"Monaco\", \"Cayman Islands\", \"Barbados\", \"Liechtenstein\", \"Sint Maarten\", \"Libya\", \"Malawi\", \"French Polynesia\", \"Syria\", \"Angola\", \"Macao\", \"Zimbabwe\", \"Mauritania\", \"Saint Martin\", \"Eritrea\", \"Nicaragua\", \"Antigua and Barbuda\", \"Botswana\", \"Timor-Leste\", \"Gambia\", \"Grenada\", \"Bhutan\", \"Laos\", \"Belize\", \"Fiji\", \"New Caledonia\", \"Saint Lucia\", \"St. Vincent Grenadines\", \"Cura\\u00e7ao\", \"Dominica\", \"Namibia\", \"Burundi\", \"Saint Kitts and Nevis\", \"Falkland Islands\", \"Turks and Caicos\", \"Vatican City\", \"Comoros\", \"Montserrat\", \"Greenland\", \"Seychelles\", \"Suriname\", \"MS Zaandam\", \"British Virgin Islands\", \"Papua New Guinea\", \"Caribbean Netherlands\", \"St. Barth\", \"Western Sahara\", \"Anguilla\", \"Lesotho\", \"Saint Pierre Miquelon\", \"China\"], \"y\": [21334, 2138, 9200, 3450, 14919, 875, 0, 548, 1610, 1757, 4864, 4046, 1251, 345, 2840, 2437, 189, 1886, 1581, 1296, 1547, 58, 470, 227, 951, 465, 92, 796, 930, 241, 528, 529, 267, 19, 0, 92, 723, 831, 942, 214, 371, 491, 19, 67, 58, 150, 49, 18, 326, 17, 17, 192, 164, 89, 349, 58, 189, 161, 97, 176, 404, 239, 7, 205, 56, 67, 158, 151, 0, 9, 52, 185, 142, 119, 325, 31, 2, 37, 44, 22, 0, 4, 22, 125, 11, 0, 13, 0, 72, 73, 22, 204, 111, 102, 55, 6, 47, 0, 0, 27, 56, 22, 17, 4, 11, 4, 10, 29, 49, 2, 19, 0, 1, 0, 12, 25, 1, 11, 0, 5, 14, 2, 0, 46, 15, 0, 2, 0, 0, 1, 85, 0, 1, 0, 2, 26, 0, 4, 19, 35, 2, 45, 14, 0, 0, 24, 4, 12, 8, 0, 0, 1, 0, 0, 0, 37, 10, 1, 16, 0, 1, 0, 0, 0, 0, 0, 1, 0, 0, 1, 2, 0, 1, 0, 0, 0, 11, 0, 0, 0, 0, 0, 0, 0, 0, 0, 0, 0, 0, 0, 0, 0, 0, 0, 0, 0, 0, 0, 0, 0, 0, 0, 0, 0, 0, 0, 0, 0, 0, 0, 0, 0, 0, 0, 8]}, {\"marker\": {\"color\": \"Black\", \"line\": {\"color\": \"Black\"}}, \"mode\": \"lines+markers\", \"name\": \"New Daily Deaths\", \"type\": \"scatter\", \"x\": [\"USA\", \"Spain\", \"Russia\", \"UK\", \"Brazil\", \"Italy\", \"France\", \"Germany\", \"Turkey\", \"Iran\", \"India\", \"Peru\", \"Canada\", \"Belgium\", \"Saudi Arabia\", \"Mexico\", \"Netherlands\", \"Chile\", \"Pakistan\", \"Ecuador\", \"Qatar\", \"Switzerland\", \"Sweden\", \"Portugal\", \"Belarus\", \"Singapore\", \"Ireland\", \"UAE\", \"Bangladesh\", \"Poland\", \"Ukraine\", \"Indonesia\", \"Romania\", \"Israel\", \"Japan\", \"Austria\", \"Colombia\", \"South Africa\", \"Kuwait\", \"Philippines\", \"Dominican Republic\", \"Egypt\", \"S. Korea\", \"Denmark\", \"Serbia\", \"Panama\", \"Czechia\", \"Norway\", \"Argentina\", \"Australia\", \"Malaysia\", \"Algeria\", \"Bahrain\", \"Morocco\", \"Afghanistan\", \"Finland\", \"Moldova\", \"Kazakhstan\", \"Ghana\", \"Nigeria\", \"Oman\", \"Armenia\", \"Luxembourg\", \"Bolivia\", \"Hungary\", \"Iraq\", \"Azerbaijan\", \"Cameroon\", \"Thailand\", \"Greece\", \"Uzbekistan\", \"Guinea\", \"Honduras\", \"Senegal\", \"Sudan\", \"Bosnia and Herzegovina\", \"Croatia\", \"Bulgaria\", \"Ivory Coast\", \"Cuba\", \"Iceland\", \"Estonia\", \"North Macedonia\", \"Guatemala\", \"Lithuania\", \"New Zealand\", \"Slovakia\", \"Slovenia\", \"DRC\", \"Somalia\", \"Djibouti\", \"Tajikistan\", \"Gabon\", \"Mayotte\", \"El Salvador\", \"Kyrgyzstan\", \"Maldives\", \"Hong Kong\", \"Tunisia\", \"Latvia\", \"Guinea-Bissau\", \"Sri Lanka\", \"Albania\", \"Cyprus\", \"Lebanon\", \"Niger\", \"Costa Rica\", \"Mali\", \"Kenya\", \"Burkina Faso\", \"Paraguay\", \"Andorra\", \"Uruguay\", \"Diamond Princess\", \"Georgia\", \"Zambia\", \"San Marino\", \"Jordan\", \"Equatorial Guinea\", \"Channel Islands\", \"Malta\", \"Jamaica\", \"Tanzania\", \"Chad\", \"Sierra Leone\", \"Venezuela\", \"R\\u00e9union\", \"Taiwan\", \"Congo\", \"Palestine\", \"Haiti\", \"Benin\", \"Isle of Man\", \"Mauritius\", \"Cabo Verde\", \"CAR\", \"Montenegro\", \"Vietnam\", \"Ethiopia\", \"Togo\", \"Rwanda\", \"Madagascar\", \"Nepal\", \"South Sudan\", \"Sao Tome and Principe\", \"Uganda\", \"Liberia\", \"Eswatini\", \"French Guiana\", \"Martinique\", \"Faeroe Islands\", \"Myanmar\", \"Guadeloupe\", \"Gibraltar\", \"Brunei\", \"Mongolia\", \"Mozambique\", \"Bermuda\", \"Yemen\", \"Cambodia\", \"Guyana\", \"Trinidad and Tobago\", \"Aruba\", \"Bahamas\", \"Monaco\", \"Cayman Islands\", \"Barbados\", \"Liechtenstein\", \"Sint Maarten\", \"Libya\", \"Malawi\", \"French Polynesia\", \"Syria\", \"Angola\", \"Macao\", \"Zimbabwe\", \"Mauritania\", \"Saint Martin\", \"Eritrea\", \"Nicaragua\", \"Antigua and Barbuda\", \"Botswana\", \"Timor-Leste\", \"Gambia\", \"Grenada\", \"Bhutan\", \"Laos\", \"Belize\", \"Fiji\", \"New Caledonia\", \"Saint Lucia\", \"St. Vincent Grenadines\", \"Cura\\u00e7ao\", \"Dominica\", \"Namibia\", \"Burundi\", \"Saint Kitts and Nevis\", \"Falkland Islands\", \"Turks and Caicos\", \"Vatican City\", \"Comoros\", \"Montserrat\", \"Greenland\", \"Seychelles\", \"Suriname\", \"MS Zaandam\", \"British Virgin Islands\", \"Papua New Guinea\", \"Caribbean Netherlands\", \"St. Barth\", \"Western Sahara\", \"Anguilla\", \"Lesotho\", \"Saint Pierre Miquelon\", \"China\"], \"y\": [1021, 104, 119, 468, 816, 153, 96, 26, 41, 35, 118, 131, 117, 46, 10, 290, 27, 27, 31, 94, 1, 1, 28, 13, 4, 1, 15, 4, 16, 8, 21, 13, 24, 2, 0, 1, 16, 14, 11, 11, 4, 20, 2, 6, 3, 6, 1, 0, 7, 0, 1, 6, 0, 2, 15, 4, 5, 0, 1, 5, 1, 3, 0, 12, 6, 4, 0, 1, 0, 2, 0, 1, 1, 0, 6, 1, 0, 3, 1, 0, 0, 0, 1, 1, 1, 0, 1, 0, 11, 2, 0, 3, 1, 2, 3, 0, 0, 0, 0, 0, 1, 0, 0, 0, 0, 0, 1, 2, 5, 0, 0, 2, 0, 0, 0, 0, 0, 0, 0, 0, 0, 0, 0, 2, 2, 0, 0, 0, 0, 0, 0, 0, 0, 0, 1, 0, 0, 0, 0, 0, 0, 0, 1, 0, 0, 0, 0, 0, 0, 0, 0, 0, 0, 0, 0, 0, 0, 0, 3, 0, 0, 0, 0, 0, 0, 0, 0, 0, 0, 0, 0, 0, 0, 0, 0, 0, 1, 0, 0, 0, 0, 0, 0, 0, 0, 0, 0, 0, 0, 0, 0, 0, 0, 0, 0, 0, 0, 0, 0, 0, 0, 0, 0, 0, 0, 0, 0, 0, 0, 0, 0, 0, 0, 0, 0]}],\n",
       "                        {\"template\": {\"data\": {\"bar\": [{\"error_x\": {\"color\": \"#2a3f5f\"}, \"error_y\": {\"color\": \"#2a3f5f\"}, \"marker\": {\"line\": {\"color\": \"#E5ECF6\", \"width\": 0.5}}, \"type\": \"bar\"}], \"barpolar\": [{\"marker\": {\"line\": {\"color\": \"#E5ECF6\", \"width\": 0.5}}, \"type\": \"barpolar\"}], \"carpet\": [{\"aaxis\": {\"endlinecolor\": \"#2a3f5f\", \"gridcolor\": \"white\", \"linecolor\": \"white\", \"minorgridcolor\": \"white\", \"startlinecolor\": \"#2a3f5f\"}, \"baxis\": {\"endlinecolor\": \"#2a3f5f\", \"gridcolor\": \"white\", \"linecolor\": \"white\", \"minorgridcolor\": \"white\", \"startlinecolor\": \"#2a3f5f\"}, \"type\": \"carpet\"}], \"choropleth\": [{\"colorbar\": {\"outlinewidth\": 0, \"ticks\": \"\"}, \"type\": \"choropleth\"}], \"contour\": [{\"colorbar\": {\"outlinewidth\": 0, \"ticks\": \"\"}, \"colorscale\": [[0.0, \"#0d0887\"], [0.1111111111111111, \"#46039f\"], [0.2222222222222222, \"#7201a8\"], [0.3333333333333333, \"#9c179e\"], [0.4444444444444444, \"#bd3786\"], [0.5555555555555556, \"#d8576b\"], [0.6666666666666666, \"#ed7953\"], [0.7777777777777778, \"#fb9f3a\"], [0.8888888888888888, \"#fdca26\"], [1.0, \"#f0f921\"]], \"type\": \"contour\"}], \"contourcarpet\": [{\"colorbar\": {\"outlinewidth\": 0, \"ticks\": \"\"}, \"type\": \"contourcarpet\"}], \"heatmap\": [{\"colorbar\": {\"outlinewidth\": 0, \"ticks\": \"\"}, \"colorscale\": [[0.0, \"#0d0887\"], [0.1111111111111111, \"#46039f\"], [0.2222222222222222, \"#7201a8\"], [0.3333333333333333, \"#9c179e\"], [0.4444444444444444, \"#bd3786\"], [0.5555555555555556, \"#d8576b\"], [0.6666666666666666, \"#ed7953\"], [0.7777777777777778, \"#fb9f3a\"], [0.8888888888888888, \"#fdca26\"], [1.0, \"#f0f921\"]], \"type\": \"heatmap\"}], \"heatmapgl\": [{\"colorbar\": {\"outlinewidth\": 0, \"ticks\": \"\"}, \"colorscale\": [[0.0, \"#0d0887\"], [0.1111111111111111, \"#46039f\"], [0.2222222222222222, \"#7201a8\"], [0.3333333333333333, \"#9c179e\"], [0.4444444444444444, \"#bd3786\"], [0.5555555555555556, \"#d8576b\"], [0.6666666666666666, \"#ed7953\"], [0.7777777777777778, \"#fb9f3a\"], [0.8888888888888888, \"#fdca26\"], [1.0, \"#f0f921\"]], \"type\": \"heatmapgl\"}], \"histogram\": [{\"marker\": {\"colorbar\": {\"outlinewidth\": 0, \"ticks\": \"\"}}, \"type\": \"histogram\"}], \"histogram2d\": [{\"colorbar\": {\"outlinewidth\": 0, \"ticks\": \"\"}, \"colorscale\": [[0.0, \"#0d0887\"], [0.1111111111111111, \"#46039f\"], [0.2222222222222222, \"#7201a8\"], [0.3333333333333333, \"#9c179e\"], [0.4444444444444444, \"#bd3786\"], [0.5555555555555556, \"#d8576b\"], [0.6666666666666666, \"#ed7953\"], [0.7777777777777778, \"#fb9f3a\"], [0.8888888888888888, \"#fdca26\"], [1.0, \"#f0f921\"]], \"type\": \"histogram2d\"}], \"histogram2dcontour\": [{\"colorbar\": {\"outlinewidth\": 0, \"ticks\": \"\"}, \"colorscale\": [[0.0, \"#0d0887\"], [0.1111111111111111, \"#46039f\"], [0.2222222222222222, \"#7201a8\"], [0.3333333333333333, \"#9c179e\"], [0.4444444444444444, \"#bd3786\"], [0.5555555555555556, \"#d8576b\"], [0.6666666666666666, \"#ed7953\"], [0.7777777777777778, \"#fb9f3a\"], [0.8888888888888888, \"#fdca26\"], [1.0, \"#f0f921\"]], \"type\": \"histogram2dcontour\"}], \"mesh3d\": [{\"colorbar\": {\"outlinewidth\": 0, \"ticks\": \"\"}, \"type\": \"mesh3d\"}], \"parcoords\": [{\"line\": {\"colorbar\": {\"outlinewidth\": 0, \"ticks\": \"\"}}, \"type\": \"parcoords\"}], \"pie\": [{\"automargin\": true, \"type\": \"pie\"}], \"scatter\": [{\"marker\": {\"colorbar\": {\"outlinewidth\": 0, \"ticks\": \"\"}}, \"type\": \"scatter\"}], \"scatter3d\": [{\"line\": {\"colorbar\": {\"outlinewidth\": 0, \"ticks\": \"\"}}, \"marker\": {\"colorbar\": {\"outlinewidth\": 0, \"ticks\": \"\"}}, \"type\": \"scatter3d\"}], \"scattercarpet\": [{\"marker\": {\"colorbar\": {\"outlinewidth\": 0, \"ticks\": \"\"}}, \"type\": \"scattercarpet\"}], \"scattergeo\": [{\"marker\": {\"colorbar\": {\"outlinewidth\": 0, \"ticks\": \"\"}}, \"type\": \"scattergeo\"}], \"scattergl\": [{\"marker\": {\"colorbar\": {\"outlinewidth\": 0, \"ticks\": \"\"}}, \"type\": \"scattergl\"}], \"scattermapbox\": [{\"marker\": {\"colorbar\": {\"outlinewidth\": 0, \"ticks\": \"\"}}, \"type\": \"scattermapbox\"}], \"scatterpolar\": [{\"marker\": {\"colorbar\": {\"outlinewidth\": 0, \"ticks\": \"\"}}, \"type\": \"scatterpolar\"}], \"scatterpolargl\": [{\"marker\": {\"colorbar\": {\"outlinewidth\": 0, \"ticks\": \"\"}}, \"type\": \"scatterpolargl\"}], \"scatterternary\": [{\"marker\": {\"colorbar\": {\"outlinewidth\": 0, \"ticks\": \"\"}}, \"type\": \"scatterternary\"}], \"surface\": [{\"colorbar\": {\"outlinewidth\": 0, \"ticks\": \"\"}, \"colorscale\": [[0.0, \"#0d0887\"], [0.1111111111111111, \"#46039f\"], [0.2222222222222222, \"#7201a8\"], [0.3333333333333333, \"#9c179e\"], [0.4444444444444444, \"#bd3786\"], [0.5555555555555556, \"#d8576b\"], [0.6666666666666666, \"#ed7953\"], [0.7777777777777778, \"#fb9f3a\"], [0.8888888888888888, \"#fdca26\"], [1.0, \"#f0f921\"]], \"type\": \"surface\"}], \"table\": [{\"cells\": {\"fill\": {\"color\": \"#EBF0F8\"}, \"line\": {\"color\": \"white\"}}, \"header\": {\"fill\": {\"color\": \"#C8D4E3\"}, \"line\": {\"color\": \"white\"}}, \"type\": \"table\"}]}, \"layout\": {\"annotationdefaults\": {\"arrowcolor\": \"#2a3f5f\", \"arrowhead\": 0, \"arrowwidth\": 1}, \"coloraxis\": {\"colorbar\": {\"outlinewidth\": 0, \"ticks\": \"\"}}, \"colorscale\": {\"diverging\": [[0, \"#8e0152\"], [0.1, \"#c51b7d\"], [0.2, \"#de77ae\"], [0.3, \"#f1b6da\"], [0.4, \"#fde0ef\"], [0.5, \"#f7f7f7\"], [0.6, \"#e6f5d0\"], [0.7, \"#b8e186\"], [0.8, \"#7fbc41\"], [0.9, \"#4d9221\"], [1, \"#276419\"]], \"sequential\": [[0.0, \"#0d0887\"], [0.1111111111111111, \"#46039f\"], [0.2222222222222222, \"#7201a8\"], [0.3333333333333333, \"#9c179e\"], [0.4444444444444444, \"#bd3786\"], [0.5555555555555556, \"#d8576b\"], [0.6666666666666666, \"#ed7953\"], [0.7777777777777778, \"#fb9f3a\"], [0.8888888888888888, \"#fdca26\"], [1.0, \"#f0f921\"]], \"sequentialminus\": [[0.0, \"#0d0887\"], [0.1111111111111111, \"#46039f\"], [0.2222222222222222, \"#7201a8\"], [0.3333333333333333, \"#9c179e\"], [0.4444444444444444, \"#bd3786\"], [0.5555555555555556, \"#d8576b\"], [0.6666666666666666, \"#ed7953\"], [0.7777777777777778, \"#fb9f3a\"], [0.8888888888888888, \"#fdca26\"], [1.0, \"#f0f921\"]]}, \"colorway\": [\"#636efa\", \"#EF553B\", \"#00cc96\", \"#ab63fa\", \"#FFA15A\", \"#19d3f3\", \"#FF6692\", \"#B6E880\", \"#FF97FF\", \"#FECB52\"], \"font\": {\"color\": \"#2a3f5f\"}, \"geo\": {\"bgcolor\": \"white\", \"lakecolor\": \"white\", \"landcolor\": \"#E5ECF6\", \"showlakes\": true, \"showland\": true, \"subunitcolor\": \"white\"}, \"hoverlabel\": {\"align\": \"left\"}, \"hovermode\": \"closest\", \"mapbox\": {\"style\": \"light\"}, \"paper_bgcolor\": \"white\", \"plot_bgcolor\": \"#E5ECF6\", \"polar\": {\"angularaxis\": {\"gridcolor\": \"white\", \"linecolor\": \"white\", \"ticks\": \"\"}, \"bgcolor\": \"#E5ECF6\", \"radialaxis\": {\"gridcolor\": \"white\", \"linecolor\": \"white\", \"ticks\": \"\"}}, \"scene\": {\"xaxis\": {\"backgroundcolor\": \"#E5ECF6\", \"gridcolor\": \"white\", \"gridwidth\": 2, \"linecolor\": \"white\", \"showbackground\": true, \"ticks\": \"\", \"zerolinecolor\": \"white\"}, \"yaxis\": {\"backgroundcolor\": \"#E5ECF6\", \"gridcolor\": \"white\", \"gridwidth\": 2, \"linecolor\": \"white\", \"showbackground\": true, \"ticks\": \"\", \"zerolinecolor\": \"white\"}, \"zaxis\": {\"backgroundcolor\": \"#E5ECF6\", \"gridcolor\": \"white\", \"gridwidth\": 2, \"linecolor\": \"white\", \"showbackground\": true, \"ticks\": \"\", \"zerolinecolor\": \"white\"}}, \"shapedefaults\": {\"line\": {\"color\": \"#2a3f5f\"}}, \"ternary\": {\"aaxis\": {\"gridcolor\": \"white\", \"linecolor\": \"white\", \"ticks\": \"\"}, \"baxis\": {\"gridcolor\": \"white\", \"linecolor\": \"white\", \"ticks\": \"\"}, \"bgcolor\": \"#E5ECF6\", \"caxis\": {\"gridcolor\": \"white\", \"linecolor\": \"white\", \"ticks\": \"\"}}, \"title\": {\"x\": 0.05}, \"xaxis\": {\"automargin\": true, \"gridcolor\": \"white\", \"linecolor\": \"white\", \"ticks\": \"\", \"title\": {\"standoff\": 15}, \"zerolinecolor\": \"white\", \"zerolinewidth\": 2}, \"yaxis\": {\"automargin\": true, \"gridcolor\": \"white\", \"linecolor\": \"white\", \"ticks\": \"\", \"title\": {\"standoff\": 15}, \"zerolinecolor\": \"white\", \"zerolinewidth\": 2}}}, \"title\": {\"text\": \"Current trend of Daily - New Cases and New Deaths across the world\"}},\n",
       "                        {\"responsive\": true}\n",
       "                    ).then(function(){\n",
       "                            \n",
       "var gd = document.getElementById('c4cc791d-e245-43c9-9a67-a92c9a3cc4ad');\n",
       "var x = new MutationObserver(function (mutations, observer) {{\n",
       "        var display = window.getComputedStyle(gd).display;\n",
       "        if (!display || display === 'none') {{\n",
       "            console.log([gd, 'removed!']);\n",
       "            Plotly.purge(gd);\n",
       "            observer.disconnect();\n",
       "        }}\n",
       "}});\n",
       "\n",
       "// Listen for the removal of the full notebook cells\n",
       "var notebookContainer = gd.closest('#notebook-container');\n",
       "if (notebookContainer) {{\n",
       "    x.observe(notebookContainer, {childList: true});\n",
       "}}\n",
       "\n",
       "// Listen for the clearing of the current output cell\n",
       "var outputEl = gd.closest('.output');\n",
       "if (outputEl) {{\n",
       "    x.observe(outputEl, {childList: true});\n",
       "}}\n",
       "\n",
       "                        })\n",
       "                };\n",
       "                });\n",
       "            </script>\n",
       "        </div>"
      ]
     },
     "metadata": {},
     "output_type": "display_data"
    }
   ],
   "source": [
    "fig = go.Figure()\n",
    "\n",
    "fig.add_trace(\n",
    "    go.Scatter(\n",
    "        x=df_all_countries['Country'], y=df_all_countries['New_Cases'],\n",
    "        mode='lines+markers',\n",
    "        name='New Daily cases', # this sets its legend entry \n",
    "        marker= dict(color='rgb(255,104,98)', line = dict(color='rgb(255,104,98)'))\n",
    "    )\n",
    ")\n",
    "\n",
    "fig.add_trace(\n",
    "    go.Scatter(\n",
    "        x=df_all_countries['Country'], y=df_all_countries['New_Deaths'], \n",
    "        mode='lines+markers',\n",
    "        name='New Daily Deaths', # this sets its legend entry\n",
    "        marker= dict(color='Black', line = dict(color='Black'))\n",
    "    )\n",
    ")\n",
    "\n",
    "fig.update_layout(\n",
    "    title = \"Current trend of Daily - New Cases and New Deaths across the world\"\n",
    ")\n",
    "fig\n"
   ]
  },
  {
   "cell_type": "markdown",
   "metadata": {},
   "source": [
    "#### Covid-19 total confirmed cases percent split in different countries (Pie visualization)\n",
    "Plotting pie plot showing the proportion of the spread of this Pandemic across the world. Each pie is showing a few major contributor countries, and rest countries are shown as \"Others\". \n",
    "\n",
    "Criteria: Confirmed Cases: Any countries who reported more than 50000 confirmed cases are shown and the rest of the countries are under \"others\" Category."
   ]
  },
  {
   "cell_type": "code",
   "execution_count": 59,
   "metadata": {},
   "outputs": [
    {
     "data": {
      "image/png": "[encoded data removed]",
      "text/plain": [
       "<Figure size 864x2880 with 1 Axes>"
      ]
     },
     "metadata": {},
     "output_type": "display_data"
    }
   ],
   "source": [
    "f = plt.figure(figsize=(12,40))\n",
    "\n",
    "stats = [df_all_countries.loc[:,['Country','Total_Cases']]] #Access the entire column Country and Total_Cases\n",
    "label = [\"Confirmed\"]\n",
    "threshold = [50000]\n",
    "for i, stat in enumerate(stats):\n",
    "    plt.tight_layout()\n",
    "    df_countries = stat.groupby([\"Country\"]).sum()\n",
    "    df_countries = df_countries.sort_values(df_countries.columns[-1],ascending= False)\n",
    "    others = df_countries[df_countries[df_countries.columns[-1]] < threshold[i] ].sum()[-1]\n",
    "    df_countries = df_countries[df_countries[df_countries.columns[-1]] > threshold[i]]\n",
    "    df_countries = df_countries[df_countries.columns[-1]]\n",
    "    df_countries[\"others\"] = others\n",
    "    labels = [df_countries.index[i] +\" (\" + str(int(df_countries[i])) +\") \"for i in range(df_countries.shape[0])]\n",
    "\n",
    "    ax = f.add_subplot(4,1,i+1)\n",
    "    plt.pie(df_countries, labels=labels,autopct='%1.1f%%',pctdistance=0.85, labeldistance=1.1,textprops = {'fontsize':10.5})\n",
    "    my_circle=plt.Circle( (0,0), 0.7, color='white')\n",
    "    p=plt.gcf()\n",
    "    p.gca().add_artist(my_circle)\n",
    "    plt.text(0.5,0.5,\"World Total \"+label[i]+ \" COVID-19 Cases\\n\"+str(stat.sum().values[1]), horizontalalignment='center',verticalalignment='center',transform=ax.transAxes, size=18, alpha = 0.6)\n",
    "\n",
    "\n",
    "plt.show()"
   ]
  },
  {
   "cell_type": "markdown",
   "metadata": {},
   "source": [
    "# EDA on India Data"
   ]
  },
  {
   "cell_type": "code",
   "execution_count": 285,
   "metadata": {},
   "outputs": [
    {
     "data": {
      "text/plain": [
       "<title>MoHFW | Home</title>"
      ]
     },
     "metadata": {},
     "output_type": "display_data"
    }
   ],
   "source": [
    "response = requests.get(url_covid19_India)\n",
    "soup=BeautifulSoup(response.text, \"html.parser\")\n",
    "# Confirming that we are on the correct webpage\n",
    "display(soup.title)"
   ]
  },
  {
   "cell_type": "code",
   "execution_count": 295,
   "metadata": {},
   "outputs": [],
   "source": [
    "dict_india_summary = {}\n",
    "dict_india_summary['Active']   = int(soup.find(\"li\", class_ = \"bg-blue\").strong.text.strip() or 0)\n",
    "dict_india_summary['Recovered']  = int(soup.find(\"li\", class_ = \"bg-green\").strong.text.strip() or 0)\n",
    "dict_india_summary['Total_Deaths'] = int(soup.find(\"li\", class_ = \"bg-red\").strong.text.strip() or 0)"
   ]
  },
  {
   "cell_type": "code",
   "execution_count": 296,
   "metadata": {},
   "outputs": [
    {
     "data": {
      "text/html": [
       "<div>\n",
       "<style scoped>\n",
       "    .dataframe tbody tr th:only-of-type {\n",
       "        vertical-align: middle;\n",
       "    }\n",
       "\n",
       "    .dataframe tbody tr th {\n",
       "        vertical-align: top;\n",
       "    }\n",
       "\n",
       "    .dataframe thead th {\n",
       "        text-align: right;\n",
       "    }\n",
       "</style>\n",
       "<table border=\"1\" class=\"dataframe\">\n",
       "  <thead>\n",
       "    <tr style=\"text-align: right;\">\n",
       "      <th></th>\n",
       "      <th>States</th>\n",
       "      <th>Total_Cases</th>\n",
       "      <th>Recovered</th>\n",
       "      <th>Total_Deaths</th>\n",
       "    </tr>\n",
       "  </thead>\n",
       "  <tbody>\n",
       "    <tr>\n",
       "      <th>0</th>\n",
       "      <td>Andaman and Nicobar Islands</td>\n",
       "      <td>33</td>\n",
       "      <td>33</td>\n",
       "      <td>0</td>\n",
       "    </tr>\n",
       "    <tr>\n",
       "      <th>1</th>\n",
       "      <td>Andhra Pradesh</td>\n",
       "      <td>2307</td>\n",
       "      <td>1252</td>\n",
       "      <td>48</td>\n",
       "    </tr>\n",
       "    <tr>\n",
       "      <th>2</th>\n",
       "      <td>Arunachal Pradesh</td>\n",
       "      <td>1</td>\n",
       "      <td>1</td>\n",
       "      <td>0</td>\n",
       "    </tr>\n",
       "    <tr>\n",
       "      <th>3</th>\n",
       "      <td>Assam</td>\n",
       "      <td>90</td>\n",
       "      <td>41</td>\n",
       "      <td>2</td>\n",
       "    </tr>\n",
       "    <tr>\n",
       "      <th>4</th>\n",
       "      <td>Bihar</td>\n",
       "      <td>1018</td>\n",
       "      <td>438</td>\n",
       "      <td>7</td>\n",
       "    </tr>\n",
       "  </tbody>\n",
       "</table>\n",
       "</div>"
      ],
      "text/plain": [
       "                        States Total_Cases Recovered Total_Deaths\n",
       "0  Andaman and Nicobar Islands          33        33            0\n",
       "1               Andhra Pradesh        2307      1252           48\n",
       "2            Arunachal Pradesh           1         1            0\n",
       "3                        Assam          90        41            2\n",
       "4                        Bihar        1018       438            7"
      ]
     },
     "metadata": {},
     "output_type": "display_data"
    }
   ],
   "source": [
    "\"\"\"\n",
    "Get data for the Indian states \n",
    "\"\"\"\n",
    "state_names=[]\n",
    "state_total_cases=[]\n",
    "state_total_recovered=[]\n",
    "state_total_deaths=[]\n",
    "\n",
    "india_states_table = soup.find(\"table\", class_=\"table table-striped\")\n",
    "rows=india_states_table.find_all(\"tr\")[1:34]\n",
    "#display(rows)\n",
    "for row in rows:\n",
    "    col=row.find_all(\"td\")\n",
    "#     print(col[1].text, col[2].text, col[3].text, col[4])\n",
    "    state_names.append(col[1].text.strip())\n",
    "    state_total_cases.append(col[2].text.strip())\n",
    "    state_total_recovered.append(col[3].text.strip())\n",
    "    state_total_deaths.append(col[4].text.strip())\n",
    "\n",
    "df_indian_states = pd.DataFrame(list(zip(state_names, state_total_cases, state_total_recovered,  state_total_deaths)),\n",
    "                                          columns=[\"States\",\"Total_Cases\", \"Recovered\", \"Total_Deaths\"])\n",
    "                                                            \n",
    "display(df_indian_states.head())      "
   ]
  },
  {
   "cell_type": "markdown",
   "metadata": {},
   "source": [
    "#### Check if missing values"
   ]
  },
  {
   "cell_type": "code",
   "execution_count": 297,
   "metadata": {},
   "outputs": [
    {
     "data": {
      "text/plain": [
       "States          0\n",
       "Total_Cases     0\n",
       "Recovered       0\n",
       "Total_Deaths    0\n",
       "dtype: int64"
      ]
     },
     "execution_count": 297,
     "metadata": {},
     "output_type": "execute_result"
    }
   ],
   "source": [
    "df_indian_states.isna().sum()"
   ]
  },
  {
   "cell_type": "markdown",
   "metadata": {},
   "source": [
    "#### Converting object datatype to int for calculations and plotting"
   ]
  },
  {
   "cell_type": "code",
   "execution_count": 298,
   "metadata": {},
   "outputs": [
    {
     "data": {
      "text/plain": [
       "States          object\n",
       "Total_Cases     object\n",
       "Recovered       object\n",
       "Total_Deaths    object\n",
       "dtype: object"
      ]
     },
     "execution_count": 298,
     "metadata": {},
     "output_type": "execute_result"
    }
   ],
   "source": [
    "df_indian_states.dtypes"
   ]
  },
  {
   "cell_type": "code",
   "execution_count": 299,
   "metadata": {},
   "outputs": [
    {
     "data": {
      "text/plain": [
       "States          object\n",
       "Total_Cases      int32\n",
       "Recovered        int32\n",
       "Total_Deaths     int32\n",
       "dtype: object"
      ]
     },
     "execution_count": 299,
     "metadata": {},
     "output_type": "execute_result"
    }
   ],
   "source": [
    "df_indian_states.Total_Cases = df_indian_states.Total_Cases.astype(int)\n",
    "df_indian_states.Recovered   = df_indian_states.Recovered.astype(int)\n",
    "df_indian_states.Total_Deaths = df_indian_states.Total_Deaths.astype(int)\n",
    "df_indian_states.dtypes"
   ]
  },
  {
   "cell_type": "markdown",
   "metadata": {},
   "source": [
    "#### Generating total number of confirmed cases in India"
   ]
  },
  {
   "cell_type": "code",
   "execution_count": 301,
   "metadata": {},
   "outputs": [],
   "source": [
    "dict_india_summary['Total_Cases'] = df_indian_states.Total_Cases.sum()\n",
    "df_india_summary = pd.DataFrame([dict_india_summary])\n",
    "# df_india_summary = pd.DataFrame([dict_india_summary])\n",
    "# print(\"___________________________________________________________________________________\")\n",
    "# print(\"Covid-19 updates for India\")\n",
    "# print(\"___________________________________________________________________________________\")\n",
    "# display(df_india_summary)"
   ]
  },
  {
   "cell_type": "markdown",
   "metadata": {},
   "source": [
    "#### Generating number of Active cases for each Indian state"
   ]
  },
  {
   "cell_type": "code",
   "execution_count": 302,
   "metadata": {},
   "outputs": [],
   "source": [
    "df_indian_states['Active'] = df_indian_states.Total_Cases - df_indian_states.Recovered - df_indian_states.Total_Deaths"
   ]
  },
  {
   "cell_type": "code",
   "execution_count": 303,
   "metadata": {},
   "outputs": [
    {
     "data": {
      "text/html": [
       "<style  type=\"text/css\" >\n",
       "    #T_72b3c862_97d6_11ea_b12f_34e12d0f7b38row0_col1 {\n",
       "            background-color:  #08306b;\n",
       "        }    #T_72b3c862_97d6_11ea_b12f_34e12d0f7b38row0_col2 {\n",
       "            background-color:  #08306b;\n",
       "        }    #T_72b3c862_97d6_11ea_b12f_34e12d0f7b38row0_col3 {\n",
       "            background-color:  #08306b;\n",
       "        }    #T_72b3c862_97d6_11ea_b12f_34e12d0f7b38row0_col4 {\n",
       "            background-color:  #08306b;\n",
       "        }    #T_72b3c862_97d6_11ea_b12f_34e12d0f7b38row1_col1 {\n",
       "            background-color:  #b5d4e9;\n",
       "        }    #T_72b3c862_97d6_11ea_b12f_34e12d0f7b38row1_col2 {\n",
       "            background-color:  #b2d2e8;\n",
       "        }    #T_72b3c862_97d6_11ea_b12f_34e12d0f7b38row1_col3 {\n",
       "            background-color:  #a1cbe2;\n",
       "        }    #T_72b3c862_97d6_11ea_b12f_34e12d0f7b38row1_col4 {\n",
       "            background-color:  #f0f6fd;\n",
       "        }    #T_72b3c862_97d6_11ea_b12f_34e12d0f7b38row2_col1 {\n",
       "            background-color:  #b8d5ea;\n",
       "        }    #T_72b3c862_97d6_11ea_b12f_34e12d0f7b38row2_col2 {\n",
       "            background-color:  #cee0f2;\n",
       "        }    #T_72b3c862_97d6_11ea_b12f_34e12d0f7b38row2_col3 {\n",
       "            background-color:  #4b98ca;\n",
       "        }    #T_72b3c862_97d6_11ea_b12f_34e12d0f7b38row2_col4 {\n",
       "            background-color:  #5aa2cf;\n",
       "        }    #T_72b3c862_97d6_11ea_b12f_34e12d0f7b38row3_col1 {\n",
       "            background-color:  #c4daee;\n",
       "        }    #T_72b3c862_97d6_11ea_b12f_34e12d0f7b38row3_col2 {\n",
       "            background-color:  #cee0f2;\n",
       "        }    #T_72b3c862_97d6_11ea_b12f_34e12d0f7b38row3_col3 {\n",
       "            background-color:  #66abd4;\n",
       "        }    #T_72b3c862_97d6_11ea_b12f_34e12d0f7b38row3_col4 {\n",
       "            background-color:  #e6f0f9;\n",
       "        }    #T_72b3c862_97d6_11ea_b12f_34e12d0f7b38row4_col1 {\n",
       "            background-color:  #e3eef8;\n",
       "        }    #T_72b3c862_97d6_11ea_b12f_34e12d0f7b38row4_col2 {\n",
       "            background-color:  #eef5fc;\n",
       "        }    #T_72b3c862_97d6_11ea_b12f_34e12d0f7b38row4_col3 {\n",
       "            background-color:  #9cc9e1;\n",
       "        }    #T_72b3c862_97d6_11ea_b12f_34e12d0f7b38row4_col4 {\n",
       "            background-color:  #e6f0f9;\n",
       "        }    #T_72b3c862_97d6_11ea_b12f_34e12d0f7b38row5_col1 {\n",
       "            background-color:  #e3eef9;\n",
       "        }    #T_72b3c862_97d6_11ea_b12f_34e12d0f7b38row5_col2 {\n",
       "            background-color:  #edf4fc;\n",
       "        }    #T_72b3c862_97d6_11ea_b12f_34e12d0f7b38row5_col3 {\n",
       "            background-color:  #b2d2e8;\n",
       "        }    #T_72b3c862_97d6_11ea_b12f_34e12d0f7b38row5_col4 {\n",
       "            background-color:  #d0e1f2;\n",
       "        }    #T_72b3c862_97d6_11ea_b12f_34e12d0f7b38row6_col1 {\n",
       "            background-color:  #e8f1fa;\n",
       "        }    #T_72b3c862_97d6_11ea_b12f_34e12d0f7b38row6_col2 {\n",
       "            background-color:  #f0f6fd;\n",
       "        }    #T_72b3c862_97d6_11ea_b12f_34e12d0f7b38row6_col3 {\n",
       "            background-color:  #b7d4ea;\n",
       "        }    #T_72b3c862_97d6_11ea_b12f_34e12d0f7b38row6_col4 {\n",
       "            background-color:  #ebf3fb;\n",
       "        }    #T_72b3c862_97d6_11ea_b12f_34e12d0f7b38row7_col1 {\n",
       "            background-color:  #f4f9fe;\n",
       "        }    #T_72b3c862_97d6_11ea_b12f_34e12d0f7b38row7_col2 {\n",
       "            background-color:  #f3f8fe;\n",
       "        }    #T_72b3c862_97d6_11ea_b12f_34e12d0f7b38row7_col3 {\n",
       "            background-color:  #e7f0fa;\n",
       "        }    #T_72b3c862_97d6_11ea_b12f_34e12d0f7b38row7_col4 {\n",
       "            background-color:  #d3e3f3;\n",
       "        }    #T_72b3c862_97d6_11ea_b12f_34e12d0f7b38row8_col1 {\n",
       "            background-color:  #f5f9fe;\n",
       "        }    #T_72b3c862_97d6_11ea_b12f_34e12d0f7b38row8_col2 {\n",
       "            background-color:  #f7fbff;\n",
       "        }    #T_72b3c862_97d6_11ea_b12f_34e12d0f7b38row8_col3 {\n",
       "            background-color:  #d9e8f5;\n",
       "        }    #T_72b3c862_97d6_11ea_b12f_34e12d0f7b38row8_col4 {\n",
       "            background-color:  #f5f9fe;\n",
       "        }    #T_72b3c862_97d6_11ea_b12f_34e12d0f7b38row9_col1 {\n",
       "            background-color:  #f7fbff;\n",
       "        }    #T_72b3c862_97d6_11ea_b12f_34e12d0f7b38row9_col2 {\n",
       "            background-color:  #f2f7fd;\n",
       "        }    #T_72b3c862_97d6_11ea_b12f_34e12d0f7b38row9_col3 {\n",
       "            background-color:  #f7fbff;\n",
       "        }    #T_72b3c862_97d6_11ea_b12f_34e12d0f7b38row9_col4 {\n",
       "            background-color:  #f7fbff;\n",
       "        }</style>  \n",
       "<table id=\"T_72b3c862_97d6_11ea_b12f_34e12d0f7b38\" > \n",
       "<thead>    <tr> \n",
       "        <th class=\"blank level0\" ></th> \n",
       "        <th class=\"col_heading level0 col0\" >States</th> \n",
       "        <th class=\"col_heading level0 col1\" >Total_Cases</th> \n",
       "        <th class=\"col_heading level0 col2\" >Active</th> \n",
       "        <th class=\"col_heading level0 col3\" >Recovered</th> \n",
       "        <th class=\"col_heading level0 col4\" >Total_Deaths</th> \n",
       "    </tr></thead> \n",
       "<tbody>    <tr> \n",
       "        <th id=\"T_72b3c862_97d6_11ea_b12f_34e12d0f7b38level0_row0\" class=\"row_heading level0 row0\" >19</th> \n",
       "        <td id=\"T_72b3c862_97d6_11ea_b12f_34e12d0f7b38row0_col0\" class=\"data row0 col0\" >Maharashtra</td> \n",
       "        <td id=\"T_72b3c862_97d6_11ea_b12f_34e12d0f7b38row0_col1\" class=\"data row0 col1\" >29100</td> \n",
       "        <td id=\"T_72b3c862_97d6_11ea_b12f_34e12d0f7b38row0_col2\" class=\"data row0 col2\" >21468</td> \n",
       "        <td id=\"T_72b3c862_97d6_11ea_b12f_34e12d0f7b38row0_col3\" class=\"data row0 col3\" >6564</td> \n",
       "        <td id=\"T_72b3c862_97d6_11ea_b12f_34e12d0f7b38row0_col4\" class=\"data row0 col4\" >1068</td> \n",
       "    </tr>    <tr> \n",
       "        <th id=\"T_72b3c862_97d6_11ea_b12f_34e12d0f7b38level0_row1\" class=\"row_heading level0 row1\" >27</th> \n",
       "        <td id=\"T_72b3c862_97d6_11ea_b12f_34e12d0f7b38row1_col0\" class=\"data row1 col0\" >Tamil Nadu</td> \n",
       "        <td id=\"T_72b3c862_97d6_11ea_b12f_34e12d0f7b38row1_col1\" class=\"data row1 col1\" >10108</td> \n",
       "        <td id=\"T_72b3c862_97d6_11ea_b12f_34e12d0f7b38row1_col2\" class=\"data row1 col2\" >7438</td> \n",
       "        <td id=\"T_72b3c862_97d6_11ea_b12f_34e12d0f7b38row1_col3\" class=\"data row1 col3\" >2599</td> \n",
       "        <td id=\"T_72b3c862_97d6_11ea_b12f_34e12d0f7b38row1_col4\" class=\"data row1 col4\" >71</td> \n",
       "    </tr>    <tr> \n",
       "        <th id=\"T_72b3c862_97d6_11ea_b12f_34e12d0f7b38level0_row2\" class=\"row_heading level0 row2\" >10</th> \n",
       "        <td id=\"T_72b3c862_97d6_11ea_b12f_34e12d0f7b38row2_col0\" class=\"data row2 col0\" >Gujarat</td> \n",
       "        <td id=\"T_72b3c862_97d6_11ea_b12f_34e12d0f7b38row2_col1\" class=\"data row2 col1\" >9931</td> \n",
       "        <td id=\"T_72b3c862_97d6_11ea_b12f_34e12d0f7b38row2_col2\" class=\"data row2 col2\" >5290</td> \n",
       "        <td id=\"T_72b3c862_97d6_11ea_b12f_34e12d0f7b38row2_col3\" class=\"data row2 col3\" >4035</td> \n",
       "        <td id=\"T_72b3c862_97d6_11ea_b12f_34e12d0f7b38row2_col4\" class=\"data row2 col4\" >606</td> \n",
       "    </tr>    <tr> \n",
       "        <th id=\"T_72b3c862_97d6_11ea_b12f_34e12d0f7b38level0_row3\" class=\"row_heading level0 row3\" >8</th> \n",
       "        <td id=\"T_72b3c862_97d6_11ea_b12f_34e12d0f7b38row3_col0\" class=\"data row3 col0\" >Delhi</td> \n",
       "        <td id=\"T_72b3c862_97d6_11ea_b12f_34e12d0f7b38row3_col1\" class=\"data row3 col1\" >8895</td> \n",
       "        <td id=\"T_72b3c862_97d6_11ea_b12f_34e12d0f7b38row3_col2\" class=\"data row3 col2\" >5254</td> \n",
       "        <td id=\"T_72b3c862_97d6_11ea_b12f_34e12d0f7b38row3_col3\" class=\"data row3 col3\" >3518</td> \n",
       "        <td id=\"T_72b3c862_97d6_11ea_b12f_34e12d0f7b38row3_col4\" class=\"data row3 col4\" >123</td> \n",
       "    </tr>    <tr> \n",
       "        <th id=\"T_72b3c862_97d6_11ea_b12f_34e12d0f7b38level0_row4\" class=\"row_heading level0 row4\" >26</th> \n",
       "        <td id=\"T_72b3c862_97d6_11ea_b12f_34e12d0f7b38row4_col0\" class=\"data row4 col0\" >Rajasthan</td> \n",
       "        <td id=\"T_72b3c862_97d6_11ea_b12f_34e12d0f7b38row4_col1\" class=\"data row4 col1\" >4727</td> \n",
       "        <td id=\"T_72b3c862_97d6_11ea_b12f_34e12d0f7b38row4_col2\" class=\"data row4 col2\" >1925</td> \n",
       "        <td id=\"T_72b3c862_97d6_11ea_b12f_34e12d0f7b38row4_col3\" class=\"data row4 col3\" >2677</td> \n",
       "        <td id=\"T_72b3c862_97d6_11ea_b12f_34e12d0f7b38row4_col4\" class=\"data row4 col4\" >125</td> \n",
       "    </tr>    <tr> \n",
       "        <th id=\"T_72b3c862_97d6_11ea_b12f_34e12d0f7b38level0_row5\" class=\"row_heading level0 row5\" >18</th> \n",
       "        <td id=\"T_72b3c862_97d6_11ea_b12f_34e12d0f7b38row5_col0\" class=\"data row5 col0\" >Madhya Pradesh</td> \n",
       "        <td id=\"T_72b3c862_97d6_11ea_b12f_34e12d0f7b38row5_col1\" class=\"data row5 col1\" >4595</td> \n",
       "        <td id=\"T_72b3c862_97d6_11ea_b12f_34e12d0f7b38row5_col2\" class=\"data row5 col2\" >2073</td> \n",
       "        <td id=\"T_72b3c862_97d6_11ea_b12f_34e12d0f7b38row5_col3\" class=\"data row5 col3\" >2283</td> \n",
       "        <td id=\"T_72b3c862_97d6_11ea_b12f_34e12d0f7b38row5_col4\" class=\"data row5 col4\" >239</td> \n",
       "    </tr>    <tr> \n",
       "        <th id=\"T_72b3c862_97d6_11ea_b12f_34e12d0f7b38level0_row6\" class=\"row_heading level0 row6\" >31</th> \n",
       "        <td id=\"T_72b3c862_97d6_11ea_b12f_34e12d0f7b38row6_col0\" class=\"data row6 col0\" >Uttar Pradesh</td> \n",
       "        <td id=\"T_72b3c862_97d6_11ea_b12f_34e12d0f7b38row6_col1\" class=\"data row6 col1\" >4057</td> \n",
       "        <td id=\"T_72b3c862_97d6_11ea_b12f_34e12d0f7b38row6_col2\" class=\"data row6 col2\" >1797</td> \n",
       "        <td id=\"T_72b3c862_97d6_11ea_b12f_34e12d0f7b38row6_col3\" class=\"data row6 col3\" >2165</td> \n",
       "        <td id=\"T_72b3c862_97d6_11ea_b12f_34e12d0f7b38row6_col4\" class=\"data row6 col4\" >95</td> \n",
       "    </tr>    <tr> \n",
       "        <th id=\"T_72b3c862_97d6_11ea_b12f_34e12d0f7b38level0_row7\" class=\"row_heading level0 row7\" >32</th> \n",
       "        <td id=\"T_72b3c862_97d6_11ea_b12f_34e12d0f7b38row7_col0\" class=\"data row7 col0\" >West Bengal</td> \n",
       "        <td id=\"T_72b3c862_97d6_11ea_b12f_34e12d0f7b38row7_col1\" class=\"data row7 col1\" >2461</td> \n",
       "        <td id=\"T_72b3c862_97d6_11ea_b12f_34e12d0f7b38row7_col2\" class=\"data row7 col2\" >1407</td> \n",
       "        <td id=\"T_72b3c862_97d6_11ea_b12f_34e12d0f7b38row7_col3\" class=\"data row7 col3\" >829</td> \n",
       "        <td id=\"T_72b3c862_97d6_11ea_b12f_34e12d0f7b38row7_col4\" class=\"data row7 col4\" >225</td> \n",
       "    </tr>    <tr> \n",
       "        <th id=\"T_72b3c862_97d6_11ea_b12f_34e12d0f7b38level0_row8\" class=\"row_heading level0 row8\" >1</th> \n",
       "        <td id=\"T_72b3c862_97d6_11ea_b12f_34e12d0f7b38row8_col0\" class=\"data row8 col0\" >Andhra Pradesh</td> \n",
       "        <td id=\"T_72b3c862_97d6_11ea_b12f_34e12d0f7b38row8_col1\" class=\"data row8 col1\" >2307</td> \n",
       "        <td id=\"T_72b3c862_97d6_11ea_b12f_34e12d0f7b38row8_col2\" class=\"data row8 col2\" >1007</td> \n",
       "        <td id=\"T_72b3c862_97d6_11ea_b12f_34e12d0f7b38row8_col3\" class=\"data row8 col3\" >1252</td> \n",
       "        <td id=\"T_72b3c862_97d6_11ea_b12f_34e12d0f7b38row8_col4\" class=\"data row8 col4\" >48</td> \n",
       "    </tr>    <tr> \n",
       "        <th id=\"T_72b3c862_97d6_11ea_b12f_34e12d0f7b38level0_row9\" class=\"row_heading level0 row9\" >25</th> \n",
       "        <td id=\"T_72b3c862_97d6_11ea_b12f_34e12d0f7b38row9_col0\" class=\"data row9 col0\" >Punjab</td> \n",
       "        <td id=\"T_72b3c862_97d6_11ea_b12f_34e12d0f7b38row9_col1\" class=\"data row9 col1\" >1935</td> \n",
       "        <td id=\"T_72b3c862_97d6_11ea_b12f_34e12d0f7b38row9_col2\" class=\"data row9 col2\" >1598</td> \n",
       "        <td id=\"T_72b3c862_97d6_11ea_b12f_34e12d0f7b38row9_col3\" class=\"data row9 col3\" >305</td> \n",
       "        <td id=\"T_72b3c862_97d6_11ea_b12f_34e12d0f7b38row9_col4\" class=\"data row9 col4\" >32</td> \n",
       "    </tr></tbody> \n",
       "</table> "
      ],
      "text/plain": [
       "<pandas.io.formats.style.Styler at 0x1f2724cf4e0>"
      ]
     },
     "execution_count": 303,
     "metadata": {},
     "output_type": "execute_result"
    }
   ],
   "source": [
    "df_indian_states = df_indian_states[['States','Total_Cases','Active','Recovered','Total_Deaths']]\n",
    "df_indian_states = df_indian_states.sort_values('Total_Cases', ascending=False)\n",
    "df_indian_states.head(10).style.background_gradient(cmap='Blues')"
   ]
  },
  {
   "cell_type": "markdown",
   "metadata": {},
   "source": [
    "#### Generating Mortality Rate (per 100) (Features Engineering)"
   ]
  },
  {
   "cell_type": "code",
   "execution_count": 115,
   "metadata": {},
   "outputs": [
    {
     "data": {
      "text/html": [
       "<style  type=\"text/css\" >\n",
       "    #T_7bec4650_9764_11ea_9c6f_34e12d0f7b38row0_col1 {\n",
       "            background-color:  #08306b;\n",
       "        }    #T_7bec4650_9764_11ea_9c6f_34e12d0f7b38row0_col2 {\n",
       "            background-color:  #08306b;\n",
       "        }    #T_7bec4650_9764_11ea_9c6f_34e12d0f7b38row0_col3 {\n",
       "            background-color:  #08306b;\n",
       "        }    #T_7bec4650_9764_11ea_9c6f_34e12d0f7b38row0_col4 {\n",
       "            background-color:  #08306b;\n",
       "        }    #T_7bec4650_9764_11ea_9c6f_34e12d0f7b38row0_col5 {\n",
       "            background-color:  #a5cde3;\n",
       "        }    #T_7bec4650_9764_11ea_9c6f_34e12d0f7b38row1_col1 {\n",
       "            background-color:  #b5d4e9;\n",
       "        }    #T_7bec4650_9764_11ea_9c6f_34e12d0f7b38row1_col2 {\n",
       "            background-color:  #b2d2e8;\n",
       "        }    #T_7bec4650_9764_11ea_9c6f_34e12d0f7b38row1_col3 {\n",
       "            background-color:  #a1cbe2;\n",
       "        }    #T_7bec4650_9764_11ea_9c6f_34e12d0f7b38row1_col4 {\n",
       "            background-color:  #f0f6fd;\n",
       "        }    #T_7bec4650_9764_11ea_9c6f_34e12d0f7b38row1_col5 {\n",
       "            background-color:  #f7fbff;\n",
       "        }    #T_7bec4650_9764_11ea_9c6f_34e12d0f7b38row2_col1 {\n",
       "            background-color:  #b8d5ea;\n",
       "        }    #T_7bec4650_9764_11ea_9c6f_34e12d0f7b38row2_col2 {\n",
       "            background-color:  #cee0f2;\n",
       "        }    #T_7bec4650_9764_11ea_9c6f_34e12d0f7b38row2_col3 {\n",
       "            background-color:  #4b98ca;\n",
       "        }    #T_7bec4650_9764_11ea_9c6f_34e12d0f7b38row2_col4 {\n",
       "            background-color:  #5aa2cf;\n",
       "        }    #T_7bec4650_9764_11ea_9c6f_34e12d0f7b38row2_col5 {\n",
       "            background-color:  #3e8ec4;\n",
       "        }    #T_7bec4650_9764_11ea_9c6f_34e12d0f7b38row3_col1 {\n",
       "            background-color:  #c4daee;\n",
       "        }    #T_7bec4650_9764_11ea_9c6f_34e12d0f7b38row3_col2 {\n",
       "            background-color:  #cee0f2;\n",
       "        }    #T_7bec4650_9764_11ea_9c6f_34e12d0f7b38row3_col3 {\n",
       "            background-color:  #66abd4;\n",
       "        }    #T_7bec4650_9764_11ea_9c6f_34e12d0f7b38row3_col4 {\n",
       "            background-color:  #e6f0f9;\n",
       "        }    #T_7bec4650_9764_11ea_9c6f_34e12d0f7b38row3_col5 {\n",
       "            background-color:  #e7f1fa;\n",
       "        }    #T_7bec4650_9764_11ea_9c6f_34e12d0f7b38row4_col1 {\n",
       "            background-color:  #e3eef8;\n",
       "        }    #T_7bec4650_9764_11ea_9c6f_34e12d0f7b38row4_col2 {\n",
       "            background-color:  #eef5fc;\n",
       "        }    #T_7bec4650_9764_11ea_9c6f_34e12d0f7b38row4_col3 {\n",
       "            background-color:  #9cc9e1;\n",
       "        }    #T_7bec4650_9764_11ea_9c6f_34e12d0f7b38row4_col4 {\n",
       "            background-color:  #e6f0f9;\n",
       "        }    #T_7bec4650_9764_11ea_9c6f_34e12d0f7b38row4_col5 {\n",
       "            background-color:  #cadef0;\n",
       "        }    #T_7bec4650_9764_11ea_9c6f_34e12d0f7b38row5_col1 {\n",
       "            background-color:  #e3eef9;\n",
       "        }    #T_7bec4650_9764_11ea_9c6f_34e12d0f7b38row5_col2 {\n",
       "            background-color:  #edf4fc;\n",
       "        }    #T_7bec4650_9764_11ea_9c6f_34e12d0f7b38row5_col3 {\n",
       "            background-color:  #b2d2e8;\n",
       "        }    #T_7bec4650_9764_11ea_9c6f_34e12d0f7b38row5_col4 {\n",
       "            background-color:  #d0e1f2;\n",
       "        }    #T_7bec4650_9764_11ea_9c6f_34e12d0f7b38row5_col5 {\n",
       "            background-color:  #60a7d2;\n",
       "        }    #T_7bec4650_9764_11ea_9c6f_34e12d0f7b38row6_col1 {\n",
       "            background-color:  #e8f1fa;\n",
       "        }    #T_7bec4650_9764_11ea_9c6f_34e12d0f7b38row6_col2 {\n",
       "            background-color:  #f0f6fd;\n",
       "        }    #T_7bec4650_9764_11ea_9c6f_34e12d0f7b38row6_col3 {\n",
       "            background-color:  #b7d4ea;\n",
       "        }    #T_7bec4650_9764_11ea_9c6f_34e12d0f7b38row6_col4 {\n",
       "            background-color:  #ebf3fb;\n",
       "        }    #T_7bec4650_9764_11ea_9c6f_34e12d0f7b38row6_col5 {\n",
       "            background-color:  #d1e2f3;\n",
       "        }    #T_7bec4650_9764_11ea_9c6f_34e12d0f7b38row7_col1 {\n",
       "            background-color:  #f4f9fe;\n",
       "        }    #T_7bec4650_9764_11ea_9c6f_34e12d0f7b38row7_col2 {\n",
       "            background-color:  #f3f8fe;\n",
       "        }    #T_7bec4650_9764_11ea_9c6f_34e12d0f7b38row7_col3 {\n",
       "            background-color:  #e7f0fa;\n",
       "        }    #T_7bec4650_9764_11ea_9c6f_34e12d0f7b38row7_col4 {\n",
       "            background-color:  #d3e3f3;\n",
       "        }    #T_7bec4650_9764_11ea_9c6f_34e12d0f7b38row7_col5 {\n",
       "            background-color:  #08306b;\n",
       "        }    #T_7bec4650_9764_11ea_9c6f_34e12d0f7b38row8_col1 {\n",
       "            background-color:  #f5f9fe;\n",
       "        }    #T_7bec4650_9764_11ea_9c6f_34e12d0f7b38row8_col2 {\n",
       "            background-color:  #f7fbff;\n",
       "        }    #T_7bec4650_9764_11ea_9c6f_34e12d0f7b38row8_col3 {\n",
       "            background-color:  #d9e8f5;\n",
       "        }    #T_7bec4650_9764_11ea_9c6f_34e12d0f7b38row8_col4 {\n",
       "            background-color:  #f5f9fe;\n",
       "        }    #T_7bec4650_9764_11ea_9c6f_34e12d0f7b38row8_col5 {\n",
       "            background-color:  #d7e6f5;\n",
       "        }    #T_7bec4650_9764_11ea_9c6f_34e12d0f7b38row9_col1 {\n",
       "            background-color:  #f7fbff;\n",
       "        }    #T_7bec4650_9764_11ea_9c6f_34e12d0f7b38row9_col2 {\n",
       "            background-color:  #f2f7fd;\n",
       "        }    #T_7bec4650_9764_11ea_9c6f_34e12d0f7b38row9_col3 {\n",
       "            background-color:  #f7fbff;\n",
       "        }    #T_7bec4650_9764_11ea_9c6f_34e12d0f7b38row9_col4 {\n",
       "            background-color:  #f7fbff;\n",
       "        }    #T_7bec4650_9764_11ea_9c6f_34e12d0f7b38row9_col5 {\n",
       "            background-color:  #e1edf8;\n",
       "        }</style>  \n",
       "<table id=\"T_7bec4650_9764_11ea_9c6f_34e12d0f7b38\" > \n",
       "<thead>    <tr> \n",
       "        <th class=\"blank level0\" ></th> \n",
       "        <th class=\"col_heading level0 col0\" >States</th> \n",
       "        <th class=\"col_heading level0 col1\" >Total_Cases</th> \n",
       "        <th class=\"col_heading level0 col2\" >Active</th> \n",
       "        <th class=\"col_heading level0 col3\" >Recovered</th> \n",
       "        <th class=\"col_heading level0 col4\" >Total_Deaths</th> \n",
       "        <th class=\"col_heading level0 col5\" >Mortality_Rate (per 100)</th> \n",
       "    </tr></thead> \n",
       "<tbody>    <tr> \n",
       "        <th id=\"T_7bec4650_9764_11ea_9c6f_34e12d0f7b38level0_row0\" class=\"row_heading level0 row0\" >19</th> \n",
       "        <td id=\"T_7bec4650_9764_11ea_9c6f_34e12d0f7b38row0_col0\" class=\"data row0 col0\" >Maharashtra</td> \n",
       "        <td id=\"T_7bec4650_9764_11ea_9c6f_34e12d0f7b38row0_col1\" class=\"data row0 col1\" >29100</td> \n",
       "        <td id=\"T_7bec4650_9764_11ea_9c6f_34e12d0f7b38row0_col2\" class=\"data row0 col2\" >21468</td> \n",
       "        <td id=\"T_7bec4650_9764_11ea_9c6f_34e12d0f7b38row0_col3\" class=\"data row0 col3\" >6564</td> \n",
       "        <td id=\"T_7bec4650_9764_11ea_9c6f_34e12d0f7b38row0_col4\" class=\"data row0 col4\" >1068</td> \n",
       "        <td id=\"T_7bec4650_9764_11ea_9c6f_34e12d0f7b38row0_col5\" class=\"data row0 col5\" >3.67</td> \n",
       "    </tr>    <tr> \n",
       "        <th id=\"T_7bec4650_9764_11ea_9c6f_34e12d0f7b38level0_row1\" class=\"row_heading level0 row1\" >27</th> \n",
       "        <td id=\"T_7bec4650_9764_11ea_9c6f_34e12d0f7b38row1_col0\" class=\"data row1 col0\" >Tamil Nadu</td> \n",
       "        <td id=\"T_7bec4650_9764_11ea_9c6f_34e12d0f7b38row1_col1\" class=\"data row1 col1\" >10108</td> \n",
       "        <td id=\"T_7bec4650_9764_11ea_9c6f_34e12d0f7b38row1_col2\" class=\"data row1 col2\" >7438</td> \n",
       "        <td id=\"T_7bec4650_9764_11ea_9c6f_34e12d0f7b38row1_col3\" class=\"data row1 col3\" >2599</td> \n",
       "        <td id=\"T_7bec4650_9764_11ea_9c6f_34e12d0f7b38row1_col4\" class=\"data row1 col4\" >71</td> \n",
       "        <td id=\"T_7bec4650_9764_11ea_9c6f_34e12d0f7b38row1_col5\" class=\"data row1 col5\" >0.7</td> \n",
       "    </tr>    <tr> \n",
       "        <th id=\"T_7bec4650_9764_11ea_9c6f_34e12d0f7b38level0_row2\" class=\"row_heading level0 row2\" >10</th> \n",
       "        <td id=\"T_7bec4650_9764_11ea_9c6f_34e12d0f7b38row2_col0\" class=\"data row2 col0\" >Gujarat</td> \n",
       "        <td id=\"T_7bec4650_9764_11ea_9c6f_34e12d0f7b38row2_col1\" class=\"data row2 col1\" >9931</td> \n",
       "        <td id=\"T_7bec4650_9764_11ea_9c6f_34e12d0f7b38row2_col2\" class=\"data row2 col2\" >5290</td> \n",
       "        <td id=\"T_7bec4650_9764_11ea_9c6f_34e12d0f7b38row2_col3\" class=\"data row2 col3\" >4035</td> \n",
       "        <td id=\"T_7bec4650_9764_11ea_9c6f_34e12d0f7b38row2_col4\" class=\"data row2 col4\" >606</td> \n",
       "        <td id=\"T_7bec4650_9764_11ea_9c6f_34e12d0f7b38row2_col5\" class=\"data row2 col5\" >6.1</td> \n",
       "    </tr>    <tr> \n",
       "        <th id=\"T_7bec4650_9764_11ea_9c6f_34e12d0f7b38level0_row3\" class=\"row_heading level0 row3\" >8</th> \n",
       "        <td id=\"T_7bec4650_9764_11ea_9c6f_34e12d0f7b38row3_col0\" class=\"data row3 col0\" >Delhi</td> \n",
       "        <td id=\"T_7bec4650_9764_11ea_9c6f_34e12d0f7b38row3_col1\" class=\"data row3 col1\" >8895</td> \n",
       "        <td id=\"T_7bec4650_9764_11ea_9c6f_34e12d0f7b38row3_col2\" class=\"data row3 col2\" >5254</td> \n",
       "        <td id=\"T_7bec4650_9764_11ea_9c6f_34e12d0f7b38row3_col3\" class=\"data row3 col3\" >3518</td> \n",
       "        <td id=\"T_7bec4650_9764_11ea_9c6f_34e12d0f7b38row3_col4\" class=\"data row3 col4\" >123</td> \n",
       "        <td id=\"T_7bec4650_9764_11ea_9c6f_34e12d0f7b38row3_col5\" class=\"data row3 col5\" >1.38</td> \n",
       "    </tr>    <tr> \n",
       "        <th id=\"T_7bec4650_9764_11ea_9c6f_34e12d0f7b38level0_row4\" class=\"row_heading level0 row4\" >26</th> \n",
       "        <td id=\"T_7bec4650_9764_11ea_9c6f_34e12d0f7b38row4_col0\" class=\"data row4 col0\" >Rajasthan</td> \n",
       "        <td id=\"T_7bec4650_9764_11ea_9c6f_34e12d0f7b38row4_col1\" class=\"data row4 col1\" >4727</td> \n",
       "        <td id=\"T_7bec4650_9764_11ea_9c6f_34e12d0f7b38row4_col2\" class=\"data row4 col2\" >1925</td> \n",
       "        <td id=\"T_7bec4650_9764_11ea_9c6f_34e12d0f7b38row4_col3\" class=\"data row4 col3\" >2677</td> \n",
       "        <td id=\"T_7bec4650_9764_11ea_9c6f_34e12d0f7b38row4_col4\" class=\"data row4 col4\" >125</td> \n",
       "        <td id=\"T_7bec4650_9764_11ea_9c6f_34e12d0f7b38row4_col5\" class=\"data row4 col5\" >2.64</td> \n",
       "    </tr>    <tr> \n",
       "        <th id=\"T_7bec4650_9764_11ea_9c6f_34e12d0f7b38level0_row5\" class=\"row_heading level0 row5\" >18</th> \n",
       "        <td id=\"T_7bec4650_9764_11ea_9c6f_34e12d0f7b38row5_col0\" class=\"data row5 col0\" >Madhya Pradesh</td> \n",
       "        <td id=\"T_7bec4650_9764_11ea_9c6f_34e12d0f7b38row5_col1\" class=\"data row5 col1\" >4595</td> \n",
       "        <td id=\"T_7bec4650_9764_11ea_9c6f_34e12d0f7b38row5_col2\" class=\"data row5 col2\" >2073</td> \n",
       "        <td id=\"T_7bec4650_9764_11ea_9c6f_34e12d0f7b38row5_col3\" class=\"data row5 col3\" >2283</td> \n",
       "        <td id=\"T_7bec4650_9764_11ea_9c6f_34e12d0f7b38row5_col4\" class=\"data row5 col4\" >239</td> \n",
       "        <td id=\"T_7bec4650_9764_11ea_9c6f_34e12d0f7b38row5_col5\" class=\"data row5 col5\" >5.2</td> \n",
       "    </tr>    <tr> \n",
       "        <th id=\"T_7bec4650_9764_11ea_9c6f_34e12d0f7b38level0_row6\" class=\"row_heading level0 row6\" >31</th> \n",
       "        <td id=\"T_7bec4650_9764_11ea_9c6f_34e12d0f7b38row6_col0\" class=\"data row6 col0\" >Uttar Pradesh</td> \n",
       "        <td id=\"T_7bec4650_9764_11ea_9c6f_34e12d0f7b38row6_col1\" class=\"data row6 col1\" >4057</td> \n",
       "        <td id=\"T_7bec4650_9764_11ea_9c6f_34e12d0f7b38row6_col2\" class=\"data row6 col2\" >1797</td> \n",
       "        <td id=\"T_7bec4650_9764_11ea_9c6f_34e12d0f7b38row6_col3\" class=\"data row6 col3\" >2165</td> \n",
       "        <td id=\"T_7bec4650_9764_11ea_9c6f_34e12d0f7b38row6_col4\" class=\"data row6 col4\" >95</td> \n",
       "        <td id=\"T_7bec4650_9764_11ea_9c6f_34e12d0f7b38row6_col5\" class=\"data row6 col5\" >2.34</td> \n",
       "    </tr>    <tr> \n",
       "        <th id=\"T_7bec4650_9764_11ea_9c6f_34e12d0f7b38level0_row7\" class=\"row_heading level0 row7\" >32</th> \n",
       "        <td id=\"T_7bec4650_9764_11ea_9c6f_34e12d0f7b38row7_col0\" class=\"data row7 col0\" >West Bengal</td> \n",
       "        <td id=\"T_7bec4650_9764_11ea_9c6f_34e12d0f7b38row7_col1\" class=\"data row7 col1\" >2461</td> \n",
       "        <td id=\"T_7bec4650_9764_11ea_9c6f_34e12d0f7b38row7_col2\" class=\"data row7 col2\" >1407</td> \n",
       "        <td id=\"T_7bec4650_9764_11ea_9c6f_34e12d0f7b38row7_col3\" class=\"data row7 col3\" >829</td> \n",
       "        <td id=\"T_7bec4650_9764_11ea_9c6f_34e12d0f7b38row7_col4\" class=\"data row7 col4\" >225</td> \n",
       "        <td id=\"T_7bec4650_9764_11ea_9c6f_34e12d0f7b38row7_col5\" class=\"data row7 col5\" >9.14</td> \n",
       "    </tr>    <tr> \n",
       "        <th id=\"T_7bec4650_9764_11ea_9c6f_34e12d0f7b38level0_row8\" class=\"row_heading level0 row8\" >1</th> \n",
       "        <td id=\"T_7bec4650_9764_11ea_9c6f_34e12d0f7b38row8_col0\" class=\"data row8 col0\" >Andhra Pradesh</td> \n",
       "        <td id=\"T_7bec4650_9764_11ea_9c6f_34e12d0f7b38row8_col1\" class=\"data row8 col1\" >2307</td> \n",
       "        <td id=\"T_7bec4650_9764_11ea_9c6f_34e12d0f7b38row8_col2\" class=\"data row8 col2\" >1007</td> \n",
       "        <td id=\"T_7bec4650_9764_11ea_9c6f_34e12d0f7b38row8_col3\" class=\"data row8 col3\" >1252</td> \n",
       "        <td id=\"T_7bec4650_9764_11ea_9c6f_34e12d0f7b38row8_col4\" class=\"data row8 col4\" >48</td> \n",
       "        <td id=\"T_7bec4650_9764_11ea_9c6f_34e12d0f7b38row8_col5\" class=\"data row8 col5\" >2.08</td> \n",
       "    </tr>    <tr> \n",
       "        <th id=\"T_7bec4650_9764_11ea_9c6f_34e12d0f7b38level0_row9\" class=\"row_heading level0 row9\" >25</th> \n",
       "        <td id=\"T_7bec4650_9764_11ea_9c6f_34e12d0f7b38row9_col0\" class=\"data row9 col0\" >Punjab</td> \n",
       "        <td id=\"T_7bec4650_9764_11ea_9c6f_34e12d0f7b38row9_col1\" class=\"data row9 col1\" >1935</td> \n",
       "        <td id=\"T_7bec4650_9764_11ea_9c6f_34e12d0f7b38row9_col2\" class=\"data row9 col2\" >1598</td> \n",
       "        <td id=\"T_7bec4650_9764_11ea_9c6f_34e12d0f7b38row9_col3\" class=\"data row9 col3\" >305</td> \n",
       "        <td id=\"T_7bec4650_9764_11ea_9c6f_34e12d0f7b38row9_col4\" class=\"data row9 col4\" >32</td> \n",
       "        <td id=\"T_7bec4650_9764_11ea_9c6f_34e12d0f7b38row9_col5\" class=\"data row9 col5\" >1.65</td> \n",
       "    </tr></tbody> \n",
       "</table> "
      ],
      "text/plain": [
       "<pandas.io.formats.style.Styler at 0x1f269c9d438>"
      ]
     },
     "execution_count": 115,
     "metadata": {},
     "output_type": "execute_result"
    }
   ],
   "source": [
    "df_indian_states['Mortality_Rate (per 100)'] = np.round(np.nan_to_num(100*df_indian_states['Total_Deaths']/df_indian_states['Total_Cases']),2)\n",
    "df_indian_states.head(10).style.background_gradient(cmap='Blues')"
   ]
  },
  {
   "cell_type": "code",
   "execution_count": 304,
   "metadata": {},
   "outputs": [
    {
     "data": {
      "text/plain": [
       "Text(0.5,1,'Top 10 States (Active Cases)')"
      ]
     },
     "execution_count": 304,
     "metadata": {},
     "output_type": "execute_result"
    },
    {
     "data": {
      "image/png": "[encoded data removed]",
      "text/plain": [
       "<Figure size 432x288 with 1 Axes>"
      ]
     },
     "metadata": {
      "needs_background": "light"
     },
     "output_type": "display_data"
    }
   ],
   "source": [
    "df = df_indian_states.sort_values('Active', ascending=False).head(10)\n",
    "ax = sns.barplot(x=df['Active'], y=df['States'])\n",
    "ax.set_title(\"Top 10 States (Active Cases)\")\n",
    "\n",
    "# Old code -------------------------------------\n",
    "#plt.title(\"Top 10 States (Active Cases)\",fontsize=12)\n",
    "#plt.xlabel(\"Active Cases\",fontsize=12)\n",
    "#plt.barh(df['States'], df['Active'])\n",
    "#------------------------------------------"
   ]
  },
  {
   "cell_type": "markdown",
   "metadata": {},
   "source": [
    "#### Plotting Total Covid-19 Cases in India (Confirmed, Recovered, Deceased)"
   ]
  },
  {
   "cell_type": "code",
   "execution_count": 305,
   "metadata": {},
   "outputs": [
    {
     "data": {
      "text/html": [
       "<div>\n",
       "<style scoped>\n",
       "    .dataframe tbody tr th:only-of-type {\n",
       "        vertical-align: middle;\n",
       "    }\n",
       "\n",
       "    .dataframe tbody tr th {\n",
       "        vertical-align: top;\n",
       "    }\n",
       "\n",
       "    .dataframe thead th {\n",
       "        text-align: right;\n",
       "    }\n",
       "</style>\n",
       "<table border=\"1\" class=\"dataframe\">\n",
       "  <thead>\n",
       "    <tr style=\"text-align: right;\">\n",
       "      <th></th>\n",
       "      <th>Date</th>\n",
       "      <th>Daily Confirmed</th>\n",
       "      <th>Total Confirmed</th>\n",
       "      <th>Daily Recovered</th>\n",
       "      <th>Total Recovered</th>\n",
       "      <th>Daily Deceased</th>\n",
       "      <th>Total Deceased</th>\n",
       "    </tr>\n",
       "  </thead>\n",
       "  <tbody>\n",
       "    <tr>\n",
       "      <th>0</th>\n",
       "      <td>30-Jan</td>\n",
       "      <td>1</td>\n",
       "      <td>1</td>\n",
       "      <td>0</td>\n",
       "      <td>0</td>\n",
       "      <td>0</td>\n",
       "      <td>0</td>\n",
       "    </tr>\n",
       "    <tr>\n",
       "      <th>1</th>\n",
       "      <td>31-Jan</td>\n",
       "      <td>0</td>\n",
       "      <td>1</td>\n",
       "      <td>0</td>\n",
       "      <td>0</td>\n",
       "      <td>0</td>\n",
       "      <td>0</td>\n",
       "    </tr>\n",
       "    <tr>\n",
       "      <th>2</th>\n",
       "      <td>1-Feb</td>\n",
       "      <td>0</td>\n",
       "      <td>1</td>\n",
       "      <td>0</td>\n",
       "      <td>0</td>\n",
       "      <td>0</td>\n",
       "      <td>0</td>\n",
       "    </tr>\n",
       "    <tr>\n",
       "      <th>3</th>\n",
       "      <td>2-Feb</td>\n",
       "      <td>1</td>\n",
       "      <td>2</td>\n",
       "      <td>0</td>\n",
       "      <td>0</td>\n",
       "      <td>0</td>\n",
       "      <td>0</td>\n",
       "    </tr>\n",
       "    <tr>\n",
       "      <th>4</th>\n",
       "      <td>3-Feb</td>\n",
       "      <td>1</td>\n",
       "      <td>3</td>\n",
       "      <td>0</td>\n",
       "      <td>0</td>\n",
       "      <td>0</td>\n",
       "      <td>0</td>\n",
       "    </tr>\n",
       "  </tbody>\n",
       "</table>\n",
       "</div>"
      ],
      "text/plain": [
       "     Date  Daily Confirmed  Total Confirmed  Daily Recovered  Total Recovered  \\\n",
       "0  30-Jan                1                1                0                0   \n",
       "1  31-Jan                0                1                0                0   \n",
       "2   1-Feb                0                1                0                0   \n",
       "3   2-Feb                1                2                0                0   \n",
       "4   3-Feb                1                3                0                0   \n",
       "\n",
       "   Daily Deceased  Total Deceased  \n",
       "0               0               0  \n",
       "1               0               0  \n",
       "2               0               0  \n",
       "3               0               0  \n",
       "4               0               0  "
      ]
     },
     "metadata": {},
     "output_type": "display_data"
    },
    {
     "name": "stdout",
     "output_type": "stream",
     "text": [
      "df.shape :  (108, 7)\n"
     ]
    },
    {
     "data": {
      "text/plain": [
       "Date               object\n",
       "Daily Confirmed     int64\n",
       "Total Confirmed     int64\n",
       "Daily Recovered     int64\n",
       "Total Recovered     int64\n",
       "Daily Deceased      int64\n",
       "Total Deceased      int64\n",
       "dtype: object"
      ]
     },
     "metadata": {},
     "output_type": "display_data"
    },
    {
     "data": {
      "text/plain": [
       "'Checking null values: '"
      ]
     },
     "metadata": {},
     "output_type": "display_data"
    },
    {
     "data": {
      "text/plain": [
       "Date               0\n",
       "Daily Confirmed    0\n",
       "Total Confirmed    0\n",
       "Daily Recovered    0\n",
       "Total Recovered    0\n",
       "Daily Deceased     0\n",
       "Total Deceased     0\n",
       "dtype: int64"
      ]
     },
     "metadata": {},
     "output_type": "display_data"
    }
   ],
   "source": [
    "# Downloaded the Covid19 time_series dataset for India from this source : https://api.covid19india.org/csv/\n",
    "# This .csv is last updated on 16 May 2020\n",
    "\n",
    "df = pd.read_csv(r'csv/covid_india_time_series.csv')\n",
    "display(df.head())\n",
    "print('df.shape : ',  df.shape)\n",
    "display(df.dtypes)\n",
    "display(\"Checking null values: \", df.isna().sum())"
   ]
  },
  {
   "cell_type": "code",
   "execution_count": 306,
   "metadata": {},
   "outputs": [
    {
     "data": {
      "application/vnd.plotly.v1+json": {
       "config": {
        "plotlyServerURL": "https://plot.ly"
       },
       "data": [
        {
         "marker": {
          "color": "rgb(255,104,98)",
          "line": {
           "color": "rgb(255,104,98)"
          }
         },
         "mode": "lines+markers",
         "name": "Confirmed",
         "type": "scatter",
         "x": [
          "30-Jan",
          "31-Jan",
          "1-Feb",
          "2-Feb",
          "3-Feb",
          "4-Feb",
          "5-Feb",
          "6-Feb",
          "7-Feb",
          "8-Feb",
          "9-Feb",
          "10-Feb",
          "11-Feb",
          "12-Feb",
          "13-Feb",
          "14-Feb",
          "15-Feb",
          "16-Feb",
          "17-Feb",
          "18-Feb",
          "19-Feb",
          "20-Feb",
          "21-Feb",
          "22-Feb",
          "23-Feb",
          "24-Feb",
          "25-Feb",
          "26-Feb",
          "27-Feb",
          "28-Feb",
          "29-Feb",
          "1-Mar",
          "2-Mar",
          "3-Mar",
          "4-Mar",
          "5-Mar",
          "6-Mar",
          "7-Mar",
          "8-Mar",
          "9-Mar",
          "10-Mar",
          "11-Mar",
          "12-Mar",
          "13-Mar",
          "14-Mar",
          "15-Mar",
          "16-Mar",
          "17-Mar",
          "18-Mar",
          "19-Mar",
          "20-Mar",
          "21-Mar",
          "22-Mar",
          "23-Mar",
          "24-Mar",
          "25-Mar",
          "26-Mar",
          "27-Mar",
          "28-Mar",
          "29-Mar",
          "30-Mar",
          "31-Mar",
          "1-Apr",
          "2-Apr",
          "3-Apr",
          "4-Apr",
          "5-Apr",
          "6-Apr",
          "7-Apr",
          "8-Apr",
          "9-Apr",
          "10-Apr",
          "11-Apr",
          "12-Apr",
          "13-Apr",
          "14-Apr",
          "15-Apr",
          "16-Apr",
          "17-Apr",
          "18-Apr",
          "19-Apr",
          "20-Apr",
          "21-Apr",
          "22-Apr",
          "23-Apr",
          "24-Apr",
          "25-Apr",
          "26-Apr",
          "27-Apr",
          "28-Apr",
          "29-Apr",
          "30-Apr",
          "1-May",
          "2-May",
          "3-May",
          "4-May",
          "5-May",
          "6-May",
          "7-May",
          "8-May",
          "9-May",
          "10-May",
          "11-May",
          "12-May",
          "13-May",
          "14-May",
          "15-May",
          "16-May"
         ],
         "y": [
          1,
          1,
          1,
          2,
          3,
          3,
          3,
          3,
          3,
          3,
          3,
          3,
          3,
          3,
          3,
          3,
          3,
          3,
          3,
          3,
          3,
          3,
          3,
          3,
          3,
          3,
          3,
          3,
          3,
          3,
          3,
          3,
          5,
          6,
          28,
          30,
          31,
          34,
          39,
          48,
          63,
          71,
          81,
          91,
          102,
          112,
          126,
          146,
          171,
          198,
          256,
          334,
          403,
          497,
          571,
          657,
          730,
          883,
          1019,
          1139,
          1326,
          1635,
          2059,
          2545,
          3105,
          3684,
          4293,
          4777,
          5350,
          5915,
          6728,
          7599,
          8453,
          9211,
          10454,
          11485,
          12371,
          13432,
          14354,
          15725,
          17305,
          18544,
          20081,
          21373,
          23040,
          24448,
          26283,
          27890,
          29458,
          31360,
          33065,
          34866,
          37262,
          39826,
          42778,
          46434,
          49405,
          53007,
          56351,
          59690,
          62865,
          67176,
          70768,
          74330,
          78056,
          82047,
          85855,
          86507
         ]
        },
        {
         "marker": {
          "color": "Blue",
          "line": {
           "color": "Blue"
          }
         },
         "mode": "lines+markers",
         "name": "Recovered",
         "type": "scatter",
         "x": [
          "30-Jan",
          "31-Jan",
          "1-Feb",
          "2-Feb",
          "3-Feb",
          "4-Feb",
          "5-Feb",
          "6-Feb",
          "7-Feb",
          "8-Feb",
          "9-Feb",
          "10-Feb",
          "11-Feb",
          "12-Feb",
          "13-Feb",
          "14-Feb",
          "15-Feb",
          "16-Feb",
          "17-Feb",
          "18-Feb",
          "19-Feb",
          "20-Feb",
          "21-Feb",
          "22-Feb",
          "23-Feb",
          "24-Feb",
          "25-Feb",
          "26-Feb",
          "27-Feb",
          "28-Feb",
          "29-Feb",
          "1-Mar",
          "2-Mar",
          "3-Mar",
          "4-Mar",
          "5-Mar",
          "6-Mar",
          "7-Mar",
          "8-Mar",
          "9-Mar",
          "10-Mar",
          "11-Mar",
          "12-Mar",
          "13-Mar",
          "14-Mar",
          "15-Mar",
          "16-Mar",
          "17-Mar",
          "18-Mar",
          "19-Mar",
          "20-Mar",
          "21-Mar",
          "22-Mar",
          "23-Mar",
          "24-Mar",
          "25-Mar",
          "26-Mar",
          "27-Mar",
          "28-Mar",
          "29-Mar",
          "30-Mar",
          "31-Mar",
          "1-Apr",
          "2-Apr",
          "3-Apr",
          "4-Apr",
          "5-Apr",
          "6-Apr",
          "7-Apr",
          "8-Apr",
          "9-Apr",
          "10-Apr",
          "11-Apr",
          "12-Apr",
          "13-Apr",
          "14-Apr",
          "15-Apr",
          "16-Apr",
          "17-Apr",
          "18-Apr",
          "19-Apr",
          "20-Apr",
          "21-Apr",
          "22-Apr",
          "23-Apr",
          "24-Apr",
          "25-Apr",
          "26-Apr",
          "27-Apr",
          "28-Apr",
          "29-Apr",
          "30-Apr",
          "1-May",
          "2-May",
          "3-May",
          "4-May",
          "5-May",
          "6-May",
          "7-May",
          "8-May",
          "9-May",
          "10-May",
          "11-May",
          "12-May",
          "13-May",
          "14-May",
          "15-May",
          "16-May"
         ],
         "y": [
          0,
          0,
          0,
          0,
          0,
          0,
          0,
          0,
          0,
          0,
          0,
          0,
          0,
          0,
          1,
          1,
          1,
          2,
          2,
          2,
          2,
          3,
          3,
          3,
          3,
          3,
          3,
          3,
          3,
          3,
          3,
          3,
          3,
          3,
          3,
          3,
          3,
          3,
          3,
          3,
          4,
          4,
          4,
          10,
          10,
          13,
          14,
          15,
          15,
          20,
          23,
          23,
          23,
          25,
          40,
          43,
          50,
          75,
          85,
          102,
          137,
          150,
          169,
          191,
          230,
          286,
          329,
          394,
          469,
          565,
          635,
          786,
          972,
          1086,
          1198,
          1365,
          1509,
          1767,
          2040,
          2466,
          2854,
          3273,
          3976,
          4370,
          5012,
          5496,
          5938,
          6523,
          7103,
          7739,
          8429,
          9059,
          10021,
          10852,
          11763,
          12845,
          14140,
          15301,
          16776,
          17887,
          19301,
          20970,
          22549,
          24454,
          26417,
          28011,
          30245,
          30773
         ]
        },
        {
         "marker": {
          "color": "Black",
          "line": {
           "color": "Black"
          }
         },
         "mode": "lines+markers",
         "name": "Deceased",
         "type": "scatter",
         "x": [
          "30-Jan",
          "31-Jan",
          "1-Feb",
          "2-Feb",
          "3-Feb",
          "4-Feb",
          "5-Feb",
          "6-Feb",
          "7-Feb",
          "8-Feb",
          "9-Feb",
          "10-Feb",
          "11-Feb",
          "12-Feb",
          "13-Feb",
          "14-Feb",
          "15-Feb",
          "16-Feb",
          "17-Feb",
          "18-Feb",
          "19-Feb",
          "20-Feb",
          "21-Feb",
          "22-Feb",
          "23-Feb",
          "24-Feb",
          "25-Feb",
          "26-Feb",
          "27-Feb",
          "28-Feb",
          "29-Feb",
          "1-Mar",
          "2-Mar",
          "3-Mar",
          "4-Mar",
          "5-Mar",
          "6-Mar",
          "7-Mar",
          "8-Mar",
          "9-Mar",
          "10-Mar",
          "11-Mar",
          "12-Mar",
          "13-Mar",
          "14-Mar",
          "15-Mar",
          "16-Mar",
          "17-Mar",
          "18-Mar",
          "19-Mar",
          "20-Mar",
          "21-Mar",
          "22-Mar",
          "23-Mar",
          "24-Mar",
          "25-Mar",
          "26-Mar",
          "27-Mar",
          "28-Mar",
          "29-Mar",
          "30-Mar",
          "31-Mar",
          "1-Apr",
          "2-Apr",
          "3-Apr",
          "4-Apr",
          "5-Apr",
          "6-Apr",
          "7-Apr",
          "8-Apr",
          "9-Apr",
          "10-Apr",
          "11-Apr",
          "12-Apr",
          "13-Apr",
          "14-Apr",
          "15-Apr",
          "16-Apr",
          "17-Apr",
          "18-Apr",
          "19-Apr",
          "20-Apr",
          "21-Apr",
          "22-Apr",
          "23-Apr",
          "24-Apr",
          "25-Apr",
          "26-Apr",
          "27-Apr",
          "28-Apr",
          "29-Apr",
          "30-Apr",
          "1-May",
          "2-May",
          "3-May",
          "4-May",
          "5-May",
          "6-May",
          "7-May",
          "8-May",
          "9-May",
          "10-May",
          "11-May",
          "12-May",
          "13-May",
          "14-May",
          "15-May",
          "16-May"
         ],
         "y": [
          0,
          0,
          0,
          0,
          0,
          0,
          0,
          0,
          0,
          0,
          0,
          0,
          0,
          0,
          0,
          0,
          0,
          0,
          0,
          0,
          0,
          0,
          0,
          0,
          0,
          0,
          0,
          0,
          0,
          0,
          0,
          0,
          0,
          0,
          0,
          0,
          0,
          0,
          0,
          0,
          0,
          0,
          1,
          1,
          2,
          2,
          2,
          3,
          3,
          4,
          4,
          4,
          7,
          9,
          10,
          11,
          16,
          19,
          24,
          27,
          41,
          47,
          53,
          69,
          83,
          96,
          118,
          134,
          161,
          181,
          227,
          249,
          290,
          332,
          359,
          396,
          423,
          449,
          487,
          522,
          560,
          593,
          646,
          682,
          722,
          781,
          825,
          881,
          939,
          1008,
          1079,
          1154,
          1231,
          1323,
          1463,
          1566,
          1694,
          1785,
          1889,
          1986,
          2101,
          2213,
          2294,
          2414,
          2551,
          2648,
          2752,
          2759
         ]
        }
       ],
       "layout": {
        "template": {
         "data": {
          "bar": [
           {
            "error_x": {
             "color": "#2a3f5f"
            },
            "error_y": {
             "color": "#2a3f5f"
            },
            "marker": {
             "line": {
              "color": "#E5ECF6",
              "width": 0.5
             }
            },
            "type": "bar"
           }
          ],
          "barpolar": [
           {
            "marker": {
             "line": {
              "color": "#E5ECF6",
              "width": 0.5
             }
            },
            "type": "barpolar"
           }
          ],
          "carpet": [
           {
            "aaxis": {
             "endlinecolor": "#2a3f5f",
             "gridcolor": "white",
             "linecolor": "white",
             "minorgridcolor": "white",
             "startlinecolor": "#2a3f5f"
            },
            "baxis": {
             "endlinecolor": "#2a3f5f",
             "gridcolor": "white",
             "linecolor": "white",
             "minorgridcolor": "white",
             "startlinecolor": "#2a3f5f"
            },
            "type": "carpet"
           }
          ],
          "choropleth": [
           {
            "colorbar": {
             "outlinewidth": 0,
             "ticks": ""
            },
            "type": "choropleth"
           }
          ],
          "contour": [
           {
            "colorbar": {
             "outlinewidth": 0,
             "ticks": ""
            },
            "colorscale": [
             [
              0,
              "#0d0887"
             ],
             [
              0.1111111111111111,
              "#46039f"
             ],
             [
              0.2222222222222222,
              "#7201a8"
             ],
             [
              0.3333333333333333,
              "#9c179e"
             ],
             [
              0.4444444444444444,
              "#bd3786"
             ],
             [
              0.5555555555555556,
              "#d8576b"
             ],
             [
              0.6666666666666666,
              "#ed7953"
             ],
             [
              0.7777777777777778,
              "#fb9f3a"
             ],
             [
              0.8888888888888888,
              "#fdca26"
             ],
             [
              1,
              "#f0f921"
             ]
            ],
            "type": "contour"
           }
          ],
          "contourcarpet": [
           {
            "colorbar": {
             "outlinewidth": 0,
             "ticks": ""
            },
            "type": "contourcarpet"
           }
          ],
          "heatmap": [
           {
            "colorbar": {
             "outlinewidth": 0,
             "ticks": ""
            },
            "colorscale": [
             [
              0,
              "#0d0887"
             ],
             [
              0.1111111111111111,
              "#46039f"
             ],
             [
              0.2222222222222222,
              "#7201a8"
             ],
             [
              0.3333333333333333,
              "#9c179e"
             ],
             [
              0.4444444444444444,
              "#bd3786"
             ],
             [
              0.5555555555555556,
              "#d8576b"
             ],
             [
              0.6666666666666666,
              "#ed7953"
             ],
             [
              0.7777777777777778,
              "#fb9f3a"
             ],
             [
              0.8888888888888888,
              "#fdca26"
             ],
             [
              1,
              "#f0f921"
             ]
            ],
            "type": "heatmap"
           }
          ],
          "heatmapgl": [
           {
            "colorbar": {
             "outlinewidth": 0,
             "ticks": ""
            },
            "colorscale": [
             [
              0,
              "#0d0887"
             ],
             [
              0.1111111111111111,
              "#46039f"
             ],
             [
              0.2222222222222222,
              "#7201a8"
             ],
             [
              0.3333333333333333,
              "#9c179e"
             ],
             [
              0.4444444444444444,
              "#bd3786"
             ],
             [
              0.5555555555555556,
              "#d8576b"
             ],
             [
              0.6666666666666666,
              "#ed7953"
             ],
             [
              0.7777777777777778,
              "#fb9f3a"
             ],
             [
              0.8888888888888888,
              "#fdca26"
             ],
             [
              1,
              "#f0f921"
             ]
            ],
            "type": "heatmapgl"
           }
          ],
          "histogram": [
           {
            "marker": {
             "colorbar": {
              "outlinewidth": 0,
              "ticks": ""
             }
            },
            "type": "histogram"
           }
          ],
          "histogram2d": [
           {
            "colorbar": {
             "outlinewidth": 0,
             "ticks": ""
            },
            "colorscale": [
             [
              0,
              "#0d0887"
             ],
             [
              0.1111111111111111,
              "#46039f"
             ],
             [
              0.2222222222222222,
              "#7201a8"
             ],
             [
              0.3333333333333333,
              "#9c179e"
             ],
             [
              0.4444444444444444,
              "#bd3786"
             ],
             [
              0.5555555555555556,
              "#d8576b"
             ],
             [
              0.6666666666666666,
              "#ed7953"
             ],
             [
              0.7777777777777778,
              "#fb9f3a"
             ],
             [
              0.8888888888888888,
              "#fdca26"
             ],
             [
              1,
              "#f0f921"
             ]
            ],
            "type": "histogram2d"
           }
          ],
          "histogram2dcontour": [
           {
            "colorbar": {
             "outlinewidth": 0,
             "ticks": ""
            },
            "colorscale": [
             [
              0,
              "#0d0887"
             ],
             [
              0.1111111111111111,
              "#46039f"
             ],
             [
              0.2222222222222222,
              "#7201a8"
             ],
             [
              0.3333333333333333,
              "#9c179e"
             ],
             [
              0.4444444444444444,
              "#bd3786"
             ],
             [
              0.5555555555555556,
              "#d8576b"
             ],
             [
              0.6666666666666666,
              "#ed7953"
             ],
             [
              0.7777777777777778,
              "#fb9f3a"
             ],
             [
              0.8888888888888888,
              "#fdca26"
             ],
             [
              1,
              "#f0f921"
             ]
            ],
            "type": "histogram2dcontour"
           }
          ],
          "mesh3d": [
           {
            "colorbar": {
             "outlinewidth": 0,
             "ticks": ""
            },
            "type": "mesh3d"
           }
          ],
          "parcoords": [
           {
            "line": {
             "colorbar": {
              "outlinewidth": 0,
              "ticks": ""
             }
            },
            "type": "parcoords"
           }
          ],
          "pie": [
           {
            "automargin": true,
            "type": "pie"
           }
          ],
          "scatter": [
           {
            "marker": {
             "colorbar": {
              "outlinewidth": 0,
              "ticks": ""
             }
            },
            "type": "scatter"
           }
          ],
          "scatter3d": [
           {
            "line": {
             "colorbar": {
              "outlinewidth": 0,
              "ticks": ""
             }
            },
            "marker": {
             "colorbar": {
              "outlinewidth": 0,
              "ticks": ""
             }
            },
            "type": "scatter3d"
           }
          ],
          "scattercarpet": [
           {
            "marker": {
             "colorbar": {
              "outlinewidth": 0,
              "ticks": ""
             }
            },
            "type": "scattercarpet"
           }
          ],
          "scattergeo": [
           {
            "marker": {
             "colorbar": {
              "outlinewidth": 0,
              "ticks": ""
             }
            },
            "type": "scattergeo"
           }
          ],
          "scattergl": [
           {
            "marker": {
             "colorbar": {
              "outlinewidth": 0,
              "ticks": ""
             }
            },
            "type": "scattergl"
           }
          ],
          "scattermapbox": [
           {
            "marker": {
             "colorbar": {
              "outlinewidth": 0,
              "ticks": ""
             }
            },
            "type": "scattermapbox"
           }
          ],
          "scatterpolar": [
           {
            "marker": {
             "colorbar": {
              "outlinewidth": 0,
              "ticks": ""
             }
            },
            "type": "scatterpolar"
           }
          ],
          "scatterpolargl": [
           {
            "marker": {
             "colorbar": {
              "outlinewidth": 0,
              "ticks": ""
             }
            },
            "type": "scatterpolargl"
           }
          ],
          "scatterternary": [
           {
            "marker": {
             "colorbar": {
              "outlinewidth": 0,
              "ticks": ""
             }
            },
            "type": "scatterternary"
           }
          ],
          "surface": [
           {
            "colorbar": {
             "outlinewidth": 0,
             "ticks": ""
            },
            "colorscale": [
             [
              0,
              "#0d0887"
             ],
             [
              0.1111111111111111,
              "#46039f"
             ],
             [
              0.2222222222222222,
              "#7201a8"
             ],
             [
              0.3333333333333333,
              "#9c179e"
             ],
             [
              0.4444444444444444,
              "#bd3786"
             ],
             [
              0.5555555555555556,
              "#d8576b"
             ],
             [
              0.6666666666666666,
              "#ed7953"
             ],
             [
              0.7777777777777778,
              "#fb9f3a"
             ],
             [
              0.8888888888888888,
              "#fdca26"
             ],
             [
              1,
              "#f0f921"
             ]
            ],
            "type": "surface"
           }
          ],
          "table": [
           {
            "cells": {
             "fill": {
              "color": "#EBF0F8"
             },
             "line": {
              "color": "white"
             }
            },
            "header": {
             "fill": {
              "color": "#C8D4E3"
             },
             "line": {
              "color": "white"
             }
            },
            "type": "table"
           }
          ]
         },
         "layout": {
          "annotationdefaults": {
           "arrowcolor": "#2a3f5f",
           "arrowhead": 0,
           "arrowwidth": 1
          },
          "coloraxis": {
           "colorbar": {
            "outlinewidth": 0,
            "ticks": ""
           }
          },
          "colorscale": {
           "diverging": [
            [
             0,
             "#8e0152"
            ],
            [
             0.1,
             "#c51b7d"
            ],
            [
             0.2,
             "#de77ae"
            ],
            [
             0.3,
             "#f1b6da"
            ],
            [
             0.4,
             "#fde0ef"
            ],
            [
             0.5,
             "#f7f7f7"
            ],
            [
             0.6,
             "#e6f5d0"
            ],
            [
             0.7,
             "#b8e186"
            ],
            [
             0.8,
             "#7fbc41"
            ],
            [
             0.9,
             "#4d9221"
            ],
            [
             1,
             "#276419"
            ]
           ],
           "sequential": [
            [
             0,
             "#0d0887"
            ],
            [
             0.1111111111111111,
             "#46039f"
            ],
            [
             0.2222222222222222,
             "#7201a8"
            ],
            [
             0.3333333333333333,
             "#9c179e"
            ],
            [
             0.4444444444444444,
             "#bd3786"
            ],
            [
             0.5555555555555556,
             "#d8576b"
            ],
            [
             0.6666666666666666,
             "#ed7953"
            ],
            [
             0.7777777777777778,
             "#fb9f3a"
            ],
            [
             0.8888888888888888,
             "#fdca26"
            ],
            [
             1,
             "#f0f921"
            ]
           ],
           "sequentialminus": [
            [
             0,
             "#0d0887"
            ],
            [
             0.1111111111111111,
             "#46039f"
            ],
            [
             0.2222222222222222,
             "#7201a8"
            ],
            [
             0.3333333333333333,
             "#9c179e"
            ],
            [
             0.4444444444444444,
             "#bd3786"
            ],
            [
             0.5555555555555556,
             "#d8576b"
            ],
            [
             0.6666666666666666,
             "#ed7953"
            ],
            [
             0.7777777777777778,
             "#fb9f3a"
            ],
            [
             0.8888888888888888,
             "#fdca26"
            ],
            [
             1,
             "#f0f921"
            ]
           ]
          },
          "colorway": [
           "#636efa",
           "#EF553B",
           "#00cc96",
           "#ab63fa",
           "#FFA15A",
           "#19d3f3",
           "#FF6692",
           "#B6E880",
           "#FF97FF",
           "#FECB52"
          ],
          "font": {
           "color": "#2a3f5f"
          },
          "geo": {
           "bgcolor": "white",
           "lakecolor": "white",
           "landcolor": "#E5ECF6",
           "showlakes": true,
           "showland": true,
           "subunitcolor": "white"
          },
          "hoverlabel": {
           "align": "left"
          },
          "hovermode": "closest",
          "mapbox": {
           "style": "light"
          },
          "paper_bgcolor": "white",
          "plot_bgcolor": "#E5ECF6",
          "polar": {
           "angularaxis": {
            "gridcolor": "white",
            "linecolor": "white",
            "ticks": ""
           },
           "bgcolor": "#E5ECF6",
           "radialaxis": {
            "gridcolor": "white",
            "linecolor": "white",
            "ticks": ""
           }
          },
          "scene": {
           "xaxis": {
            "backgroundcolor": "#E5ECF6",
            "gridcolor": "white",
            "gridwidth": 2,
            "linecolor": "white",
            "showbackground": true,
            "ticks": "",
            "zerolinecolor": "white"
           },
           "yaxis": {
            "backgroundcolor": "#E5ECF6",
            "gridcolor": "white",
            "gridwidth": 2,
            "linecolor": "white",
            "showbackground": true,
            "ticks": "",
            "zerolinecolor": "white"
           },
           "zaxis": {
            "backgroundcolor": "#E5ECF6",
            "gridcolor": "white",
            "gridwidth": 2,
            "linecolor": "white",
            "showbackground": true,
            "ticks": "",
            "zerolinecolor": "white"
           }
          },
          "shapedefaults": {
           "line": {
            "color": "#2a3f5f"
           }
          },
          "ternary": {
           "aaxis": {
            "gridcolor": "white",
            "linecolor": "white",
            "ticks": ""
           },
           "baxis": {
            "gridcolor": "white",
            "linecolor": "white",
            "ticks": ""
           },
           "bgcolor": "#E5ECF6",
           "caxis": {
            "gridcolor": "white",
            "linecolor": "white",
            "ticks": ""
           }
          },
          "title": {
           "x": 0.05
          },
          "xaxis": {
           "automargin": true,
           "gridcolor": "white",
           "linecolor": "white",
           "ticks": "",
           "title": {
            "standoff": 15
           },
           "zerolinecolor": "white",
           "zerolinewidth": 2
          },
          "yaxis": {
           "automargin": true,
           "gridcolor": "white",
           "linecolor": "white",
           "ticks": "",
           "title": {
            "standoff": 15
           },
           "zerolinecolor": "white",
           "zerolinewidth": 2
          }
         }
        },
        "title": {
         "text": "Total Covid-19 Cases in India"
        }
       }
      },
      "text/html": [
       "<div>\n",
       "        \n",
       "        \n",
       "            <div id=\"7a34ec6d-aba4-464d-9e6b-d84bfeced989\" class=\"plotly-graph-div\" style=\"height:525px; width:100%;\"></div>\n",
       "            <script type=\"text/javascript\">\n",
       "                require([\"plotly\"], function(Plotly) {\n",
       "                    window.PLOTLYENV=window.PLOTLYENV || {};\n",
       "                    \n",
       "                if (document.getElementById(\"7a34ec6d-aba4-464d-9e6b-d84bfeced989\")) {\n",
       "                    Plotly.newPlot(\n",
       "                        '7a34ec6d-aba4-464d-9e6b-d84bfeced989',\n",
       "                        [{\"marker\": {\"color\": \"rgb(255,104,98)\", \"line\": {\"color\": \"rgb(255,104,98)\"}}, \"mode\": \"lines+markers\", \"name\": \"Confirmed\", \"type\": \"scatter\", \"x\": [\"30-Jan\", \"31-Jan\", \"1-Feb\", \"2-Feb\", \"3-Feb\", \"4-Feb\", \"5-Feb\", \"6-Feb\", \"7-Feb\", \"8-Feb\", \"9-Feb\", \"10-Feb\", \"11-Feb\", \"12-Feb\", \"13-Feb\", \"14-Feb\", \"15-Feb\", \"16-Feb\", \"17-Feb\", \"18-Feb\", \"19-Feb\", \"20-Feb\", \"21-Feb\", \"22-Feb\", \"23-Feb\", \"24-Feb\", \"25-Feb\", \"26-Feb\", \"27-Feb\", \"28-Feb\", \"29-Feb\", \"1-Mar\", \"2-Mar\", \"3-Mar\", \"4-Mar\", \"5-Mar\", \"6-Mar\", \"7-Mar\", \"8-Mar\", \"9-Mar\", \"10-Mar\", \"11-Mar\", \"12-Mar\", \"13-Mar\", \"14-Mar\", \"15-Mar\", \"16-Mar\", \"17-Mar\", \"18-Mar\", \"19-Mar\", \"20-Mar\", \"21-Mar\", \"22-Mar\", \"23-Mar\", \"24-Mar\", \"25-Mar\", \"26-Mar\", \"27-Mar\", \"28-Mar\", \"29-Mar\", \"30-Mar\", \"31-Mar\", \"1-Apr\", \"2-Apr\", \"3-Apr\", \"4-Apr\", \"5-Apr\", \"6-Apr\", \"7-Apr\", \"8-Apr\", \"9-Apr\", \"10-Apr\", \"11-Apr\", \"12-Apr\", \"13-Apr\", \"14-Apr\", \"15-Apr\", \"16-Apr\", \"17-Apr\", \"18-Apr\", \"19-Apr\", \"20-Apr\", \"21-Apr\", \"22-Apr\", \"23-Apr\", \"24-Apr\", \"25-Apr\", \"26-Apr\", \"27-Apr\", \"28-Apr\", \"29-Apr\", \"30-Apr\", \"1-May\", \"2-May\", \"3-May\", \"4-May\", \"5-May\", \"6-May\", \"7-May\", \"8-May\", \"9-May\", \"10-May\", \"11-May\", \"12-May\", \"13-May\", \"14-May\", \"15-May\", \"16-May\"], \"y\": [1, 1, 1, 2, 3, 3, 3, 3, 3, 3, 3, 3, 3, 3, 3, 3, 3, 3, 3, 3, 3, 3, 3, 3, 3, 3, 3, 3, 3, 3, 3, 3, 5, 6, 28, 30, 31, 34, 39, 48, 63, 71, 81, 91, 102, 112, 126, 146, 171, 198, 256, 334, 403, 497, 571, 657, 730, 883, 1019, 1139, 1326, 1635, 2059, 2545, 3105, 3684, 4293, 4777, 5350, 5915, 6728, 7599, 8453, 9211, 10454, 11485, 12371, 13432, 14354, 15725, 17305, 18544, 20081, 21373, 23040, 24448, 26283, 27890, 29458, 31360, 33065, 34866, 37262, 39826, 42778, 46434, 49405, 53007, 56351, 59690, 62865, 67176, 70768, 74330, 78056, 82047, 85855, 86507]}, {\"marker\": {\"color\": \"Blue\", \"line\": {\"color\": \"Blue\"}}, \"mode\": \"lines+markers\", \"name\": \"Recovered\", \"type\": \"scatter\", \"x\": [\"30-Jan\", \"31-Jan\", \"1-Feb\", \"2-Feb\", \"3-Feb\", \"4-Feb\", \"5-Feb\", \"6-Feb\", \"7-Feb\", \"8-Feb\", \"9-Feb\", \"10-Feb\", \"11-Feb\", \"12-Feb\", \"13-Feb\", \"14-Feb\", \"15-Feb\", \"16-Feb\", \"17-Feb\", \"18-Feb\", \"19-Feb\", \"20-Feb\", \"21-Feb\", \"22-Feb\", \"23-Feb\", \"24-Feb\", \"25-Feb\", \"26-Feb\", \"27-Feb\", \"28-Feb\", \"29-Feb\", \"1-Mar\", \"2-Mar\", \"3-Mar\", \"4-Mar\", \"5-Mar\", \"6-Mar\", \"7-Mar\", \"8-Mar\", \"9-Mar\", \"10-Mar\", \"11-Mar\", \"12-Mar\", \"13-Mar\", \"14-Mar\", \"15-Mar\", \"16-Mar\", \"17-Mar\", \"18-Mar\", \"19-Mar\", \"20-Mar\", \"21-Mar\", \"22-Mar\", \"23-Mar\", \"24-Mar\", \"25-Mar\", \"26-Mar\", \"27-Mar\", \"28-Mar\", \"29-Mar\", \"30-Mar\", \"31-Mar\", \"1-Apr\", \"2-Apr\", \"3-Apr\", \"4-Apr\", \"5-Apr\", \"6-Apr\", \"7-Apr\", \"8-Apr\", \"9-Apr\", \"10-Apr\", \"11-Apr\", \"12-Apr\", \"13-Apr\", \"14-Apr\", \"15-Apr\", \"16-Apr\", \"17-Apr\", \"18-Apr\", \"19-Apr\", \"20-Apr\", \"21-Apr\", \"22-Apr\", \"23-Apr\", \"24-Apr\", \"25-Apr\", \"26-Apr\", \"27-Apr\", \"28-Apr\", \"29-Apr\", \"30-Apr\", \"1-May\", \"2-May\", \"3-May\", \"4-May\", \"5-May\", \"6-May\", \"7-May\", \"8-May\", \"9-May\", \"10-May\", \"11-May\", \"12-May\", \"13-May\", \"14-May\", \"15-May\", \"16-May\"], \"y\": [0, 0, 0, 0, 0, 0, 0, 0, 0, 0, 0, 0, 0, 0, 1, 1, 1, 2, 2, 2, 2, 3, 3, 3, 3, 3, 3, 3, 3, 3, 3, 3, 3, 3, 3, 3, 3, 3, 3, 3, 4, 4, 4, 10, 10, 13, 14, 15, 15, 20, 23, 23, 23, 25, 40, 43, 50, 75, 85, 102, 137, 150, 169, 191, 230, 286, 329, 394, 469, 565, 635, 786, 972, 1086, 1198, 1365, 1509, 1767, 2040, 2466, 2854, 3273, 3976, 4370, 5012, 5496, 5938, 6523, 7103, 7739, 8429, 9059, 10021, 10852, 11763, 12845, 14140, 15301, 16776, 17887, 19301, 20970, 22549, 24454, 26417, 28011, 30245, 30773]}, {\"marker\": {\"color\": \"Black\", \"line\": {\"color\": \"Black\"}}, \"mode\": \"lines+markers\", \"name\": \"Deceased\", \"type\": \"scatter\", \"x\": [\"30-Jan\", \"31-Jan\", \"1-Feb\", \"2-Feb\", \"3-Feb\", \"4-Feb\", \"5-Feb\", \"6-Feb\", \"7-Feb\", \"8-Feb\", \"9-Feb\", \"10-Feb\", \"11-Feb\", \"12-Feb\", \"13-Feb\", \"14-Feb\", \"15-Feb\", \"16-Feb\", \"17-Feb\", \"18-Feb\", \"19-Feb\", \"20-Feb\", \"21-Feb\", \"22-Feb\", \"23-Feb\", \"24-Feb\", \"25-Feb\", \"26-Feb\", \"27-Feb\", \"28-Feb\", \"29-Feb\", \"1-Mar\", \"2-Mar\", \"3-Mar\", \"4-Mar\", \"5-Mar\", \"6-Mar\", \"7-Mar\", \"8-Mar\", \"9-Mar\", \"10-Mar\", \"11-Mar\", \"12-Mar\", \"13-Mar\", \"14-Mar\", \"15-Mar\", \"16-Mar\", \"17-Mar\", \"18-Mar\", \"19-Mar\", \"20-Mar\", \"21-Mar\", \"22-Mar\", \"23-Mar\", \"24-Mar\", \"25-Mar\", \"26-Mar\", \"27-Mar\", \"28-Mar\", \"29-Mar\", \"30-Mar\", \"31-Mar\", \"1-Apr\", \"2-Apr\", \"3-Apr\", \"4-Apr\", \"5-Apr\", \"6-Apr\", \"7-Apr\", \"8-Apr\", \"9-Apr\", \"10-Apr\", \"11-Apr\", \"12-Apr\", \"13-Apr\", \"14-Apr\", \"15-Apr\", \"16-Apr\", \"17-Apr\", \"18-Apr\", \"19-Apr\", \"20-Apr\", \"21-Apr\", \"22-Apr\", \"23-Apr\", \"24-Apr\", \"25-Apr\", \"26-Apr\", \"27-Apr\", \"28-Apr\", \"29-Apr\", \"30-Apr\", \"1-May\", \"2-May\", \"3-May\", \"4-May\", \"5-May\", \"6-May\", \"7-May\", \"8-May\", \"9-May\", \"10-May\", \"11-May\", \"12-May\", \"13-May\", \"14-May\", \"15-May\", \"16-May\"], \"y\": [0, 0, 0, 0, 0, 0, 0, 0, 0, 0, 0, 0, 0, 0, 0, 0, 0, 0, 0, 0, 0, 0, 0, 0, 0, 0, 0, 0, 0, 0, 0, 0, 0, 0, 0, 0, 0, 0, 0, 0, 0, 0, 1, 1, 2, 2, 2, 3, 3, 4, 4, 4, 7, 9, 10, 11, 16, 19, 24, 27, 41, 47, 53, 69, 83, 96, 118, 134, 161, 181, 227, 249, 290, 332, 359, 396, 423, 449, 487, 522, 560, 593, 646, 682, 722, 781, 825, 881, 939, 1008, 1079, 1154, 1231, 1323, 1463, 1566, 1694, 1785, 1889, 1986, 2101, 2213, 2294, 2414, 2551, 2648, 2752, 2759]}],\n",
       "                        {\"template\": {\"data\": {\"bar\": [{\"error_x\": {\"color\": \"#2a3f5f\"}, \"error_y\": {\"color\": \"#2a3f5f\"}, \"marker\": {\"line\": {\"color\": \"#E5ECF6\", \"width\": 0.5}}, \"type\": \"bar\"}], \"barpolar\": [{\"marker\": {\"line\": {\"color\": \"#E5ECF6\", \"width\": 0.5}}, \"type\": \"barpolar\"}], \"carpet\": [{\"aaxis\": {\"endlinecolor\": \"#2a3f5f\", \"gridcolor\": \"white\", \"linecolor\": \"white\", \"minorgridcolor\": \"white\", \"startlinecolor\": \"#2a3f5f\"}, \"baxis\": {\"endlinecolor\": \"#2a3f5f\", \"gridcolor\": \"white\", \"linecolor\": \"white\", \"minorgridcolor\": \"white\", \"startlinecolor\": \"#2a3f5f\"}, \"type\": \"carpet\"}], \"choropleth\": [{\"colorbar\": {\"outlinewidth\": 0, \"ticks\": \"\"}, \"type\": \"choropleth\"}], \"contour\": [{\"colorbar\": {\"outlinewidth\": 0, \"ticks\": \"\"}, \"colorscale\": [[0.0, \"#0d0887\"], [0.1111111111111111, \"#46039f\"], [0.2222222222222222, \"#7201a8\"], [0.3333333333333333, \"#9c179e\"], [0.4444444444444444, \"#bd3786\"], [0.5555555555555556, \"#d8576b\"], [0.6666666666666666, \"#ed7953\"], [0.7777777777777778, \"#fb9f3a\"], [0.8888888888888888, \"#fdca26\"], [1.0, \"#f0f921\"]], \"type\": \"contour\"}], \"contourcarpet\": [{\"colorbar\": {\"outlinewidth\": 0, \"ticks\": \"\"}, \"type\": \"contourcarpet\"}], \"heatmap\": [{\"colorbar\": {\"outlinewidth\": 0, \"ticks\": \"\"}, \"colorscale\": [[0.0, \"#0d0887\"], [0.1111111111111111, \"#46039f\"], [0.2222222222222222, \"#7201a8\"], [0.3333333333333333, \"#9c179e\"], [0.4444444444444444, \"#bd3786\"], [0.5555555555555556, \"#d8576b\"], [0.6666666666666666, \"#ed7953\"], [0.7777777777777778, \"#fb9f3a\"], [0.8888888888888888, \"#fdca26\"], [1.0, \"#f0f921\"]], \"type\": \"heatmap\"}], \"heatmapgl\": [{\"colorbar\": {\"outlinewidth\": 0, \"ticks\": \"\"}, \"colorscale\": [[0.0, \"#0d0887\"], [0.1111111111111111, \"#46039f\"], [0.2222222222222222, \"#7201a8\"], [0.3333333333333333, \"#9c179e\"], [0.4444444444444444, \"#bd3786\"], [0.5555555555555556, \"#d8576b\"], [0.6666666666666666, \"#ed7953\"], [0.7777777777777778, \"#fb9f3a\"], [0.8888888888888888, \"#fdca26\"], [1.0, \"#f0f921\"]], \"type\": \"heatmapgl\"}], \"histogram\": [{\"marker\": {\"colorbar\": {\"outlinewidth\": 0, \"ticks\": \"\"}}, \"type\": \"histogram\"}], \"histogram2d\": [{\"colorbar\": {\"outlinewidth\": 0, \"ticks\": \"\"}, \"colorscale\": [[0.0, \"#0d0887\"], [0.1111111111111111, \"#46039f\"], [0.2222222222222222, \"#7201a8\"], [0.3333333333333333, \"#9c179e\"], [0.4444444444444444, \"#bd3786\"], [0.5555555555555556, \"#d8576b\"], [0.6666666666666666, \"#ed7953\"], [0.7777777777777778, \"#fb9f3a\"], [0.8888888888888888, \"#fdca26\"], [1.0, \"#f0f921\"]], \"type\": \"histogram2d\"}], \"histogram2dcontour\": [{\"colorbar\": {\"outlinewidth\": 0, \"ticks\": \"\"}, \"colorscale\": [[0.0, \"#0d0887\"], [0.1111111111111111, \"#46039f\"], [0.2222222222222222, \"#7201a8\"], [0.3333333333333333, \"#9c179e\"], [0.4444444444444444, \"#bd3786\"], [0.5555555555555556, \"#d8576b\"], [0.6666666666666666, \"#ed7953\"], [0.7777777777777778, \"#fb9f3a\"], [0.8888888888888888, \"#fdca26\"], [1.0, \"#f0f921\"]], \"type\": \"histogram2dcontour\"}], \"mesh3d\": [{\"colorbar\": {\"outlinewidth\": 0, \"ticks\": \"\"}, \"type\": \"mesh3d\"}], \"parcoords\": [{\"line\": {\"colorbar\": {\"outlinewidth\": 0, \"ticks\": \"\"}}, \"type\": \"parcoords\"}], \"pie\": [{\"automargin\": true, \"type\": \"pie\"}], \"scatter\": [{\"marker\": {\"colorbar\": {\"outlinewidth\": 0, \"ticks\": \"\"}}, \"type\": \"scatter\"}], \"scatter3d\": [{\"line\": {\"colorbar\": {\"outlinewidth\": 0, \"ticks\": \"\"}}, \"marker\": {\"colorbar\": {\"outlinewidth\": 0, \"ticks\": \"\"}}, \"type\": \"scatter3d\"}], \"scattercarpet\": [{\"marker\": {\"colorbar\": {\"outlinewidth\": 0, \"ticks\": \"\"}}, \"type\": \"scattercarpet\"}], \"scattergeo\": [{\"marker\": {\"colorbar\": {\"outlinewidth\": 0, \"ticks\": \"\"}}, \"type\": \"scattergeo\"}], \"scattergl\": [{\"marker\": {\"colorbar\": {\"outlinewidth\": 0, \"ticks\": \"\"}}, \"type\": \"scattergl\"}], \"scattermapbox\": [{\"marker\": {\"colorbar\": {\"outlinewidth\": 0, \"ticks\": \"\"}}, \"type\": \"scattermapbox\"}], \"scatterpolar\": [{\"marker\": {\"colorbar\": {\"outlinewidth\": 0, \"ticks\": \"\"}}, \"type\": \"scatterpolar\"}], \"scatterpolargl\": [{\"marker\": {\"colorbar\": {\"outlinewidth\": 0, \"ticks\": \"\"}}, \"type\": \"scatterpolargl\"}], \"scatterternary\": [{\"marker\": {\"colorbar\": {\"outlinewidth\": 0, \"ticks\": \"\"}}, \"type\": \"scatterternary\"}], \"surface\": [{\"colorbar\": {\"outlinewidth\": 0, \"ticks\": \"\"}, \"colorscale\": [[0.0, \"#0d0887\"], [0.1111111111111111, \"#46039f\"], [0.2222222222222222, \"#7201a8\"], [0.3333333333333333, \"#9c179e\"], [0.4444444444444444, \"#bd3786\"], [0.5555555555555556, \"#d8576b\"], [0.6666666666666666, \"#ed7953\"], [0.7777777777777778, \"#fb9f3a\"], [0.8888888888888888, \"#fdca26\"], [1.0, \"#f0f921\"]], \"type\": \"surface\"}], \"table\": [{\"cells\": {\"fill\": {\"color\": \"#EBF0F8\"}, \"line\": {\"color\": \"white\"}}, \"header\": {\"fill\": {\"color\": \"#C8D4E3\"}, \"line\": {\"color\": \"white\"}}, \"type\": \"table\"}]}, \"layout\": {\"annotationdefaults\": {\"arrowcolor\": \"#2a3f5f\", \"arrowhead\": 0, \"arrowwidth\": 1}, \"coloraxis\": {\"colorbar\": {\"outlinewidth\": 0, \"ticks\": \"\"}}, \"colorscale\": {\"diverging\": [[0, \"#8e0152\"], [0.1, \"#c51b7d\"], [0.2, \"#de77ae\"], [0.3, \"#f1b6da\"], [0.4, \"#fde0ef\"], [0.5, \"#f7f7f7\"], [0.6, \"#e6f5d0\"], [0.7, \"#b8e186\"], [0.8, \"#7fbc41\"], [0.9, \"#4d9221\"], [1, \"#276419\"]], \"sequential\": [[0.0, \"#0d0887\"], [0.1111111111111111, \"#46039f\"], [0.2222222222222222, \"#7201a8\"], [0.3333333333333333, \"#9c179e\"], [0.4444444444444444, \"#bd3786\"], [0.5555555555555556, \"#d8576b\"], [0.6666666666666666, \"#ed7953\"], [0.7777777777777778, \"#fb9f3a\"], [0.8888888888888888, \"#fdca26\"], [1.0, \"#f0f921\"]], \"sequentialminus\": [[0.0, \"#0d0887\"], [0.1111111111111111, \"#46039f\"], [0.2222222222222222, \"#7201a8\"], [0.3333333333333333, \"#9c179e\"], [0.4444444444444444, \"#bd3786\"], [0.5555555555555556, \"#d8576b\"], [0.6666666666666666, \"#ed7953\"], [0.7777777777777778, \"#fb9f3a\"], [0.8888888888888888, \"#fdca26\"], [1.0, \"#f0f921\"]]}, \"colorway\": [\"#636efa\", \"#EF553B\", \"#00cc96\", \"#ab63fa\", \"#FFA15A\", \"#19d3f3\", \"#FF6692\", \"#B6E880\", \"#FF97FF\", \"#FECB52\"], \"font\": {\"color\": \"#2a3f5f\"}, \"geo\": {\"bgcolor\": \"white\", \"lakecolor\": \"white\", \"landcolor\": \"#E5ECF6\", \"showlakes\": true, \"showland\": true, \"subunitcolor\": \"white\"}, \"hoverlabel\": {\"align\": \"left\"}, \"hovermode\": \"closest\", \"mapbox\": {\"style\": \"light\"}, \"paper_bgcolor\": \"white\", \"plot_bgcolor\": \"#E5ECF6\", \"polar\": {\"angularaxis\": {\"gridcolor\": \"white\", \"linecolor\": \"white\", \"ticks\": \"\"}, \"bgcolor\": \"#E5ECF6\", \"radialaxis\": {\"gridcolor\": \"white\", \"linecolor\": \"white\", \"ticks\": \"\"}}, \"scene\": {\"xaxis\": {\"backgroundcolor\": \"#E5ECF6\", \"gridcolor\": \"white\", \"gridwidth\": 2, \"linecolor\": \"white\", \"showbackground\": true, \"ticks\": \"\", \"zerolinecolor\": \"white\"}, \"yaxis\": {\"backgroundcolor\": \"#E5ECF6\", \"gridcolor\": \"white\", \"gridwidth\": 2, \"linecolor\": \"white\", \"showbackground\": true, \"ticks\": \"\", \"zerolinecolor\": \"white\"}, \"zaxis\": {\"backgroundcolor\": \"#E5ECF6\", \"gridcolor\": \"white\", \"gridwidth\": 2, \"linecolor\": \"white\", \"showbackground\": true, \"ticks\": \"\", \"zerolinecolor\": \"white\"}}, \"shapedefaults\": {\"line\": {\"color\": \"#2a3f5f\"}}, \"ternary\": {\"aaxis\": {\"gridcolor\": \"white\", \"linecolor\": \"white\", \"ticks\": \"\"}, \"baxis\": {\"gridcolor\": \"white\", \"linecolor\": \"white\", \"ticks\": \"\"}, \"bgcolor\": \"#E5ECF6\", \"caxis\": {\"gridcolor\": \"white\", \"linecolor\": \"white\", \"ticks\": \"\"}}, \"title\": {\"x\": 0.05}, \"xaxis\": {\"automargin\": true, \"gridcolor\": \"white\", \"linecolor\": \"white\", \"ticks\": \"\", \"title\": {\"standoff\": 15}, \"zerolinecolor\": \"white\", \"zerolinewidth\": 2}, \"yaxis\": {\"automargin\": true, \"gridcolor\": \"white\", \"linecolor\": \"white\", \"ticks\": \"\", \"title\": {\"standoff\": 15}, \"zerolinecolor\": \"white\", \"zerolinewidth\": 2}}}, \"title\": {\"text\": \"Total Covid-19 Cases in India\"}},\n",
       "                        {\"responsive\": true}\n",
       "                    ).then(function(){\n",
       "                            \n",
       "var gd = document.getElementById('7a34ec6d-aba4-464d-9e6b-d84bfeced989');\n",
       "var x = new MutationObserver(function (mutations, observer) {{\n",
       "        var display = window.getComputedStyle(gd).display;\n",
       "        if (!display || display === 'none') {{\n",
       "            console.log([gd, 'removed!']);\n",
       "            Plotly.purge(gd);\n",
       "            observer.disconnect();\n",
       "        }}\n",
       "}});\n",
       "\n",
       "// Listen for the removal of the full notebook cells\n",
       "var notebookContainer = gd.closest('#notebook-container');\n",
       "if (notebookContainer) {{\n",
       "    x.observe(notebookContainer, {childList: true});\n",
       "}}\n",
       "\n",
       "// Listen for the clearing of the current output cell\n",
       "var outputEl = gd.closest('.output');\n",
       "if (outputEl) {{\n",
       "    x.observe(outputEl, {childList: true});\n",
       "}}\n",
       "\n",
       "                        })\n",
       "                };\n",
       "                });\n",
       "            </script>\n",
       "        </div>"
      ]
     },
     "metadata": {},
     "output_type": "display_data"
    }
   ],
   "source": [
    "# ----- Basic Version ------\n",
    "# fig = go.Figure(\n",
    "#      data = go.Scatter(\n",
    "#          x=df['Date'], y=df['Total Confirmed'], \\\n",
    "#          mode='lines+markers',name='Total Covid-19 Cases in India'\n",
    "#      )\n",
    "# )\n",
    "# fig\n",
    "\n",
    "\n",
    "fig = go.Figure()\n",
    "\n",
    "fig.add_trace(\n",
    "    go.Scatter(\n",
    "        x=df['Date'], y=df['Total Confirmed'],\n",
    "        mode='lines+markers',\n",
    "        name='Confirmed', # this sets its legend entry \n",
    "        marker= dict(color='rgb(255,104,98)', line = dict(color='rgb(255,104,98)'))\n",
    "    )\n",
    ")\n",
    "\n",
    "fig.add_trace(\n",
    "    go.Scatter(\n",
    "        x=df['Date'], y=df['Total Recovered'], \n",
    "        mode='lines+markers',\n",
    "        name='Recovered', # this sets its legend entry\n",
    "        marker= dict(color='Blue', line = dict(color='Blue'))\n",
    "    )\n",
    ")\n",
    "\n",
    "fig.add_trace(\n",
    "    go.Scatter(\n",
    "        x=df['Date'], y=df['Total Deceased'], \n",
    "        mode='lines+markers',\n",
    "        name='Deceased', # this sets its legend entry\n",
    "        marker= dict(color='Black', line = dict(color='Black'))\n",
    "    )\n",
    ")\n",
    "\n",
    "fig.update_layout(\n",
    "    title = \"Total Covid-19 Cases in India\"\n",
    ")\n",
    "fig\n",
    "\n",
    "# ---------- Another way to plot.. -------------\n",
    "# trace = go.Scatter(\n",
    "#     x=df['Date'], y=df['Total Confirmed'], \\\n",
    "#     mode='lines+markers',name='Total Covid-19 Cases in India'\n",
    "# )\n",
    "# data = [trace]\n",
    "# plotly.offline.iplot(data,filename='Total_Covid19Cases_In_India')\n"
   ]
  },
  {
   "cell_type": "markdown",
   "metadata": {},
   "source": [
    "#### Plotting Total Covid-19 cases in Top 10 States of India (Confirmed, Recovered, Deceased)"
   ]
  },
  {
   "cell_type": "code",
   "execution_count": 307,
   "metadata": {},
   "outputs": [
    {
     "data": {
      "text/html": [
       "<div>\n",
       "<style scoped>\n",
       "    .dataframe tbody tr th:only-of-type {\n",
       "        vertical-align: middle;\n",
       "    }\n",
       "\n",
       "    .dataframe tbody tr th {\n",
       "        vertical-align: top;\n",
       "    }\n",
       "\n",
       "    .dataframe thead th {\n",
       "        text-align: right;\n",
       "    }\n",
       "</style>\n",
       "<table border=\"1\" class=\"dataframe\">\n",
       "  <thead>\n",
       "    <tr style=\"text-align: right;\">\n",
       "      <th></th>\n",
       "      <th>State</th>\n",
       "      <th>Confirmed</th>\n",
       "      <th>Recovered</th>\n",
       "      <th>Deaths</th>\n",
       "      <th>Active</th>\n",
       "      <th>Last_Updated_Time</th>\n",
       "      <th>State_code</th>\n",
       "      <th>Delta_Confirmed</th>\n",
       "      <th>Delta_Recovered</th>\n",
       "      <th>Delta_Deaths</th>\n",
       "      <th>State_Notes</th>\n",
       "    </tr>\n",
       "  </thead>\n",
       "  <tbody>\n",
       "    <tr>\n",
       "      <th>0</th>\n",
       "      <td>Maharashtra</td>\n",
       "      <td>29100</td>\n",
       "      <td>6564</td>\n",
       "      <td>1068</td>\n",
       "      <td>21468</td>\n",
       "      <td>15/05/2020 20:43:24</td>\n",
       "      <td>MH</td>\n",
       "      <td>0</td>\n",
       "      <td>0</td>\n",
       "      <td>0</td>\n",
       "      <td>[10-May]&lt;br&gt;\\n- Total numbers are updated to t...</td>\n",
       "    </tr>\n",
       "    <tr>\n",
       "      <th>1</th>\n",
       "      <td>Tamil Nadu</td>\n",
       "      <td>10108</td>\n",
       "      <td>2599</td>\n",
       "      <td>71</td>\n",
       "      <td>7438</td>\n",
       "      <td>15/05/2020 23:22:24</td>\n",
       "      <td>TN</td>\n",
       "      <td>0</td>\n",
       "      <td>0</td>\n",
       "      <td>0</td>\n",
       "      <td>NaN</td>\n",
       "    </tr>\n",
       "    <tr>\n",
       "      <th>2</th>\n",
       "      <td>Gujarat</td>\n",
       "      <td>9932</td>\n",
       "      <td>4035</td>\n",
       "      <td>606</td>\n",
       "      <td>5291</td>\n",
       "      <td>15/05/2020 20:53:24</td>\n",
       "      <td>GJ</td>\n",
       "      <td>0</td>\n",
       "      <td>0</td>\n",
       "      <td>0</td>\n",
       "      <td>NaN</td>\n",
       "    </tr>\n",
       "    <tr>\n",
       "      <th>3</th>\n",
       "      <td>Delhi</td>\n",
       "      <td>9333</td>\n",
       "      <td>3926</td>\n",
       "      <td>129</td>\n",
       "      <td>5278</td>\n",
       "      <td>16/05/2020 14:13:23</td>\n",
       "      <td>DL</td>\n",
       "      <td>438</td>\n",
       "      <td>408</td>\n",
       "      <td>6</td>\n",
       "      <td>[10-May]&lt;br&gt;\\n\\nDelhi will be releasing bullet...</td>\n",
       "    </tr>\n",
       "    <tr>\n",
       "      <th>4</th>\n",
       "      <td>Madhya Pradesh</td>\n",
       "      <td>4595</td>\n",
       "      <td>2283</td>\n",
       "      <td>239</td>\n",
       "      <td>2073</td>\n",
       "      <td>15/05/2020 19:23:24</td>\n",
       "      <td>MP</td>\n",
       "      <td>0</td>\n",
       "      <td>0</td>\n",
       "      <td>0</td>\n",
       "      <td>NaN</td>\n",
       "    </tr>\n",
       "  </tbody>\n",
       "</table>\n",
       "</div>"
      ],
      "text/plain": [
       "            State  Confirmed  Recovered  Deaths  Active    Last_Updated_Time  \\\n",
       "0     Maharashtra      29100       6564    1068   21468  15/05/2020 20:43:24   \n",
       "1      Tamil Nadu      10108       2599      71    7438  15/05/2020 23:22:24   \n",
       "2         Gujarat       9932       4035     606    5291  15/05/2020 20:53:24   \n",
       "3           Delhi       9333       3926     129    5278  16/05/2020 14:13:23   \n",
       "4  Madhya Pradesh       4595       2283     239    2073  15/05/2020 19:23:24   \n",
       "\n",
       "  State_code  Delta_Confirmed  Delta_Recovered  Delta_Deaths  \\\n",
       "0         MH                0                0             0   \n",
       "1         TN                0                0             0   \n",
       "2         GJ                0                0             0   \n",
       "3         DL              438              408             6   \n",
       "4         MP                0                0             0   \n",
       "\n",
       "                                         State_Notes  \n",
       "0  [10-May]<br>\\n- Total numbers are updated to t...  \n",
       "1                                                NaN  \n",
       "2                                                NaN  \n",
       "3  [10-May]<br>\\n\\nDelhi will be releasing bullet...  \n",
       "4                                                NaN  "
      ]
     },
     "metadata": {},
     "output_type": "display_data"
    },
    {
     "name": "stdout",
     "output_type": "stream",
     "text": [
      "df.shape :  (37, 11)\n"
     ]
    },
    {
     "data": {
      "text/plain": [
       "State                object\n",
       "Confirmed             int64\n",
       "Recovered             int64\n",
       "Deaths                int64\n",
       "Active                int64\n",
       "Last_Updated_Time    object\n",
       "State_code           object\n",
       "Delta_Confirmed       int64\n",
       "Delta_Recovered       int64\n",
       "Delta_Deaths          int64\n",
       "State_Notes          object\n",
       "dtype: object"
      ]
     },
     "metadata": {},
     "output_type": "display_data"
    },
    {
     "data": {
      "text/plain": [
       "'Checking null values: '"
      ]
     },
     "metadata": {},
     "output_type": "display_data"
    },
    {
     "data": {
      "text/plain": [
       "State                 0\n",
       "Confirmed             0\n",
       "Recovered             0\n",
       "Deaths                0\n",
       "Active                0\n",
       "Last_Updated_Time     0\n",
       "State_code            0\n",
       "Delta_Confirmed       0\n",
       "Delta_Recovered       0\n",
       "Delta_Deaths          0\n",
       "State_Notes          28\n",
       "dtype: int64"
      ]
     },
     "metadata": {},
     "output_type": "display_data"
    }
   ],
   "source": [
    "# Downloaded the Covid19 state-wise dataset for India from this source on 16 May 2020 : https://api.covid19india.org/csv/ \n",
    "\n",
    "df = pd.read_csv(r'csv/covid_india_state_wise.csv')\n",
    "display(df.head())\n",
    "print('df.shape : ',  df.shape)\n",
    "display(df.dtypes)\n",
    "display(\"Checking null values: \", df.isna().sum())\n",
    "df = df.sort_values('Confirmed', ascending=False)\n",
    "#df = df.head(10)"
   ]
  },
  {
   "cell_type": "markdown",
   "metadata": {},
   "source": [
    "#### Plotting Total Covid-19 Cases by States in India (Last updated on 16 May '20)"
   ]
  },
  {
   "cell_type": "code",
   "execution_count": 320,
   "metadata": {},
   "outputs": [
    {
     "ename": "KeyError",
     "evalue": "'State'",
     "output_type": "error",
     "traceback": [
      "\u001b[1;31m---------------------------------------------------------------------------\u001b[0m",
      "\u001b[1;31mKeyError\u001b[0m                                  Traceback (most recent call last)",
      "\u001b[1;32mC:\\ProgramData\\Anaconda3\\lib\\site-packages\\pandas\\core\\indexes\\base.py\u001b[0m in \u001b[0;36mget_loc\u001b[1;34m(self, key, method, tolerance)\u001b[0m\n\u001b[0;32m   3077\u001b[0m             \u001b[1;32mtry\u001b[0m\u001b[1;33m:\u001b[0m\u001b[1;33m\u001b[0m\u001b[0m\n\u001b[1;32m-> 3078\u001b[1;33m                 \u001b[1;32mreturn\u001b[0m \u001b[0mself\u001b[0m\u001b[1;33m.\u001b[0m\u001b[0m_engine\u001b[0m\u001b[1;33m.\u001b[0m\u001b[0mget_loc\u001b[0m\u001b[1;33m(\u001b[0m\u001b[0mkey\u001b[0m\u001b[1;33m)\u001b[0m\u001b[1;33m\u001b[0m\u001b[0m\n\u001b[0m\u001b[0;32m   3079\u001b[0m             \u001b[1;32mexcept\u001b[0m \u001b[0mKeyError\u001b[0m\u001b[1;33m:\u001b[0m\u001b[1;33m\u001b[0m\u001b[0m\n",
      "\u001b[1;32mpandas\\_libs\\index.pyx\u001b[0m in \u001b[0;36mpandas._libs.index.IndexEngine.get_loc\u001b[1;34m()\u001b[0m\n",
      "\u001b[1;32mpandas\\_libs\\index.pyx\u001b[0m in \u001b[0;36mpandas._libs.index.IndexEngine.get_loc\u001b[1;34m()\u001b[0m\n",
      "\u001b[1;32mpandas\\_libs\\hashtable_class_helper.pxi\u001b[0m in \u001b[0;36mpandas._libs.hashtable.PyObjectHashTable.get_item\u001b[1;34m()\u001b[0m\n",
      "\u001b[1;32mpandas\\_libs\\hashtable_class_helper.pxi\u001b[0m in \u001b[0;36mpandas._libs.hashtable.PyObjectHashTable.get_item\u001b[1;34m()\u001b[0m\n",
      "\u001b[1;31mKeyError\u001b[0m: 'State'",
      "\nDuring handling of the above exception, another exception occurred:\n",
      "\u001b[1;31mKeyError\u001b[0m                                  Traceback (most recent call last)",
      "\u001b[1;32m<ipython-input-320-dcd00cb19bd8>\u001b[0m in \u001b[0;36m<module>\u001b[1;34m()\u001b[0m\n\u001b[0;32m     14\u001b[0m fig.add_trace(\n\u001b[0;32m     15\u001b[0m     go.Bar(\n\u001b[1;32m---> 16\u001b[1;33m         \u001b[0mx\u001b[0m\u001b[1;33m=\u001b[0m\u001b[0mdf\u001b[0m\u001b[1;33m[\u001b[0m\u001b[1;34m'State'\u001b[0m\u001b[1;33m]\u001b[0m\u001b[1;33m,\u001b[0m \u001b[0my\u001b[0m\u001b[1;33m=\u001b[0m\u001b[0mdf\u001b[0m\u001b[1;33m[\u001b[0m\u001b[1;34m'Confirmed'\u001b[0m\u001b[1;33m]\u001b[0m\u001b[1;33m,\u001b[0m\u001b[1;33m\u001b[0m\u001b[0m\n\u001b[0m\u001b[0;32m     17\u001b[0m         \u001b[0mname\u001b[0m\u001b[1;33m=\u001b[0m\u001b[1;34m'Confirmed'\u001b[0m\u001b[1;33m,\u001b[0m\u001b[1;33m\u001b[0m\u001b[0m\n\u001b[0;32m     18\u001b[0m         \u001b[0mmarker_color\u001b[0m\u001b[1;33m=\u001b[0m\u001b[1;34m'rgb(255,104,98)'\u001b[0m\u001b[1;33m\u001b[0m\u001b[0m\n",
      "\u001b[1;32mC:\\ProgramData\\Anaconda3\\lib\\site-packages\\pandas\\core\\frame.py\u001b[0m in \u001b[0;36m__getitem__\u001b[1;34m(self, key)\u001b[0m\n\u001b[0;32m   2686\u001b[0m             \u001b[1;32mreturn\u001b[0m \u001b[0mself\u001b[0m\u001b[1;33m.\u001b[0m\u001b[0m_getitem_multilevel\u001b[0m\u001b[1;33m(\u001b[0m\u001b[0mkey\u001b[0m\u001b[1;33m)\u001b[0m\u001b[1;33m\u001b[0m\u001b[0m\n\u001b[0;32m   2687\u001b[0m         \u001b[1;32melse\u001b[0m\u001b[1;33m:\u001b[0m\u001b[1;33m\u001b[0m\u001b[0m\n\u001b[1;32m-> 2688\u001b[1;33m             \u001b[1;32mreturn\u001b[0m \u001b[0mself\u001b[0m\u001b[1;33m.\u001b[0m\u001b[0m_getitem_column\u001b[0m\u001b[1;33m(\u001b[0m\u001b[0mkey\u001b[0m\u001b[1;33m)\u001b[0m\u001b[1;33m\u001b[0m\u001b[0m\n\u001b[0m\u001b[0;32m   2689\u001b[0m \u001b[1;33m\u001b[0m\u001b[0m\n\u001b[0;32m   2690\u001b[0m     \u001b[1;32mdef\u001b[0m \u001b[0m_getitem_column\u001b[0m\u001b[1;33m(\u001b[0m\u001b[0mself\u001b[0m\u001b[1;33m,\u001b[0m \u001b[0mkey\u001b[0m\u001b[1;33m)\u001b[0m\u001b[1;33m:\u001b[0m\u001b[1;33m\u001b[0m\u001b[0m\n",
      "\u001b[1;32mC:\\ProgramData\\Anaconda3\\lib\\site-packages\\pandas\\core\\frame.py\u001b[0m in \u001b[0;36m_getitem_column\u001b[1;34m(self, key)\u001b[0m\n\u001b[0;32m   2693\u001b[0m         \u001b[1;31m# get column\u001b[0m\u001b[1;33m\u001b[0m\u001b[1;33m\u001b[0m\u001b[0m\n\u001b[0;32m   2694\u001b[0m         \u001b[1;32mif\u001b[0m \u001b[0mself\u001b[0m\u001b[1;33m.\u001b[0m\u001b[0mcolumns\u001b[0m\u001b[1;33m.\u001b[0m\u001b[0mis_unique\u001b[0m\u001b[1;33m:\u001b[0m\u001b[1;33m\u001b[0m\u001b[0m\n\u001b[1;32m-> 2695\u001b[1;33m             \u001b[1;32mreturn\u001b[0m \u001b[0mself\u001b[0m\u001b[1;33m.\u001b[0m\u001b[0m_get_item_cache\u001b[0m\u001b[1;33m(\u001b[0m\u001b[0mkey\u001b[0m\u001b[1;33m)\u001b[0m\u001b[1;33m\u001b[0m\u001b[0m\n\u001b[0m\u001b[0;32m   2696\u001b[0m \u001b[1;33m\u001b[0m\u001b[0m\n\u001b[0;32m   2697\u001b[0m         \u001b[1;31m# duplicate columns & possible reduce dimensionality\u001b[0m\u001b[1;33m\u001b[0m\u001b[1;33m\u001b[0m\u001b[0m\n",
      "\u001b[1;32mC:\\ProgramData\\Anaconda3\\lib\\site-packages\\pandas\\core\\generic.py\u001b[0m in \u001b[0;36m_get_item_cache\u001b[1;34m(self, item)\u001b[0m\n\u001b[0;32m   2487\u001b[0m         \u001b[0mres\u001b[0m \u001b[1;33m=\u001b[0m \u001b[0mcache\u001b[0m\u001b[1;33m.\u001b[0m\u001b[0mget\u001b[0m\u001b[1;33m(\u001b[0m\u001b[0mitem\u001b[0m\u001b[1;33m)\u001b[0m\u001b[1;33m\u001b[0m\u001b[0m\n\u001b[0;32m   2488\u001b[0m         \u001b[1;32mif\u001b[0m \u001b[0mres\u001b[0m \u001b[1;32mis\u001b[0m \u001b[1;32mNone\u001b[0m\u001b[1;33m:\u001b[0m\u001b[1;33m\u001b[0m\u001b[0m\n\u001b[1;32m-> 2489\u001b[1;33m             \u001b[0mvalues\u001b[0m \u001b[1;33m=\u001b[0m \u001b[0mself\u001b[0m\u001b[1;33m.\u001b[0m\u001b[0m_data\u001b[0m\u001b[1;33m.\u001b[0m\u001b[0mget\u001b[0m\u001b[1;33m(\u001b[0m\u001b[0mitem\u001b[0m\u001b[1;33m)\u001b[0m\u001b[1;33m\u001b[0m\u001b[0m\n\u001b[0m\u001b[0;32m   2490\u001b[0m             \u001b[0mres\u001b[0m \u001b[1;33m=\u001b[0m \u001b[0mself\u001b[0m\u001b[1;33m.\u001b[0m\u001b[0m_box_item_values\u001b[0m\u001b[1;33m(\u001b[0m\u001b[0mitem\u001b[0m\u001b[1;33m,\u001b[0m \u001b[0mvalues\u001b[0m\u001b[1;33m)\u001b[0m\u001b[1;33m\u001b[0m\u001b[0m\n\u001b[0;32m   2491\u001b[0m             \u001b[0mcache\u001b[0m\u001b[1;33m[\u001b[0m\u001b[0mitem\u001b[0m\u001b[1;33m]\u001b[0m \u001b[1;33m=\u001b[0m \u001b[0mres\u001b[0m\u001b[1;33m\u001b[0m\u001b[0m\n",
      "\u001b[1;32mC:\\ProgramData\\Anaconda3\\lib\\site-packages\\pandas\\core\\internals.py\u001b[0m in \u001b[0;36mget\u001b[1;34m(self, item, fastpath)\u001b[0m\n\u001b[0;32m   4113\u001b[0m \u001b[1;33m\u001b[0m\u001b[0m\n\u001b[0;32m   4114\u001b[0m             \u001b[1;32mif\u001b[0m \u001b[1;32mnot\u001b[0m \u001b[0misna\u001b[0m\u001b[1;33m(\u001b[0m\u001b[0mitem\u001b[0m\u001b[1;33m)\u001b[0m\u001b[1;33m:\u001b[0m\u001b[1;33m\u001b[0m\u001b[0m\n\u001b[1;32m-> 4115\u001b[1;33m                 \u001b[0mloc\u001b[0m \u001b[1;33m=\u001b[0m \u001b[0mself\u001b[0m\u001b[1;33m.\u001b[0m\u001b[0mitems\u001b[0m\u001b[1;33m.\u001b[0m\u001b[0mget_loc\u001b[0m\u001b[1;33m(\u001b[0m\u001b[0mitem\u001b[0m\u001b[1;33m)\u001b[0m\u001b[1;33m\u001b[0m\u001b[0m\n\u001b[0m\u001b[0;32m   4116\u001b[0m             \u001b[1;32melse\u001b[0m\u001b[1;33m:\u001b[0m\u001b[1;33m\u001b[0m\u001b[0m\n\u001b[0;32m   4117\u001b[0m                 \u001b[0mindexer\u001b[0m \u001b[1;33m=\u001b[0m \u001b[0mnp\u001b[0m\u001b[1;33m.\u001b[0m\u001b[0marange\u001b[0m\u001b[1;33m(\u001b[0m\u001b[0mlen\u001b[0m\u001b[1;33m(\u001b[0m\u001b[0mself\u001b[0m\u001b[1;33m.\u001b[0m\u001b[0mitems\u001b[0m\u001b[1;33m)\u001b[0m\u001b[1;33m)\u001b[0m\u001b[1;33m[\u001b[0m\u001b[0misna\u001b[0m\u001b[1;33m(\u001b[0m\u001b[0mself\u001b[0m\u001b[1;33m.\u001b[0m\u001b[0mitems\u001b[0m\u001b[1;33m)\u001b[0m\u001b[1;33m]\u001b[0m\u001b[1;33m\u001b[0m\u001b[0m\n",
      "\u001b[1;32mC:\\ProgramData\\Anaconda3\\lib\\site-packages\\pandas\\core\\indexes\\base.py\u001b[0m in \u001b[0;36mget_loc\u001b[1;34m(self, key, method, tolerance)\u001b[0m\n\u001b[0;32m   3078\u001b[0m                 \u001b[1;32mreturn\u001b[0m \u001b[0mself\u001b[0m\u001b[1;33m.\u001b[0m\u001b[0m_engine\u001b[0m\u001b[1;33m.\u001b[0m\u001b[0mget_loc\u001b[0m\u001b[1;33m(\u001b[0m\u001b[0mkey\u001b[0m\u001b[1;33m)\u001b[0m\u001b[1;33m\u001b[0m\u001b[0m\n\u001b[0;32m   3079\u001b[0m             \u001b[1;32mexcept\u001b[0m \u001b[0mKeyError\u001b[0m\u001b[1;33m:\u001b[0m\u001b[1;33m\u001b[0m\u001b[0m\n\u001b[1;32m-> 3080\u001b[1;33m                 \u001b[1;32mreturn\u001b[0m \u001b[0mself\u001b[0m\u001b[1;33m.\u001b[0m\u001b[0m_engine\u001b[0m\u001b[1;33m.\u001b[0m\u001b[0mget_loc\u001b[0m\u001b[1;33m(\u001b[0m\u001b[0mself\u001b[0m\u001b[1;33m.\u001b[0m\u001b[0m_maybe_cast_indexer\u001b[0m\u001b[1;33m(\u001b[0m\u001b[0mkey\u001b[0m\u001b[1;33m)\u001b[0m\u001b[1;33m)\u001b[0m\u001b[1;33m\u001b[0m\u001b[0m\n\u001b[0m\u001b[0;32m   3081\u001b[0m \u001b[1;33m\u001b[0m\u001b[0m\n\u001b[0;32m   3082\u001b[0m         \u001b[0mindexer\u001b[0m \u001b[1;33m=\u001b[0m \u001b[0mself\u001b[0m\u001b[1;33m.\u001b[0m\u001b[0mget_indexer\u001b[0m\u001b[1;33m(\u001b[0m\u001b[1;33m[\u001b[0m\u001b[0mkey\u001b[0m\u001b[1;33m]\u001b[0m\u001b[1;33m,\u001b[0m \u001b[0mmethod\u001b[0m\u001b[1;33m=\u001b[0m\u001b[0mmethod\u001b[0m\u001b[1;33m,\u001b[0m \u001b[0mtolerance\u001b[0m\u001b[1;33m=\u001b[0m\u001b[0mtolerance\u001b[0m\u001b[1;33m)\u001b[0m\u001b[1;33m\u001b[0m\u001b[0m\n",
      "\u001b[1;32mpandas\\_libs\\index.pyx\u001b[0m in \u001b[0;36mpandas._libs.index.IndexEngine.get_loc\u001b[1;34m()\u001b[0m\n",
      "\u001b[1;32mpandas\\_libs\\index.pyx\u001b[0m in \u001b[0;36mpandas._libs.index.IndexEngine.get_loc\u001b[1;34m()\u001b[0m\n",
      "\u001b[1;32mpandas\\_libs\\hashtable_class_helper.pxi\u001b[0m in \u001b[0;36mpandas._libs.hashtable.PyObjectHashTable.get_item\u001b[1;34m()\u001b[0m\n",
      "\u001b[1;32mpandas\\_libs\\hashtable_class_helper.pxi\u001b[0m in \u001b[0;36mpandas._libs.hashtable.PyObjectHashTable.get_item\u001b[1;34m()\u001b[0m\n",
      "\u001b[1;31mKeyError\u001b[0m: 'State'"
     ]
    }
   ],
   "source": [
    "# https://plotly.com/python/bar-charts/\n",
    "# ----- Basic Version ------\n",
    "# fig = go.Figure(\n",
    "#      data = go.Bar(\n",
    "#          x=df['State'], y=df['Confirmed'], \\\n",
    "#          name='Confirmed'\n",
    "#      )\n",
    "# )\n",
    "# fig\n",
    "\n",
    "\n",
    "fig = go.Figure()\n",
    "\n",
    "fig.add_trace(\n",
    "    go.Bar(\n",
    "        x=df['State'], y=df['Confirmed'], \n",
    "        name='Confirmed',\n",
    "        marker_color='rgb(255,104,98)' \n",
    "    )\n",
    ")\n",
    "\n",
    "fig.add_trace(\n",
    "    go.Bar(\n",
    "        x=df['State'], y=df['Recovered'], \n",
    "        name='Recovered',\n",
    "        marker_color='Blue'\n",
    "    )\n",
    ")\n",
    "\n",
    "fig.add_trace(\n",
    "    go.Bar(\n",
    "        x=df['State'], y=df['Deaths'], \n",
    "        name='Deceased' ,\n",
    "        marker_color='Black'\n",
    "    )\n",
    ")\n",
    "\n",
    "fig.update_layout(\n",
    "    title = \"Total Covid-19 Cases by States in India (Last updated on 16 May '20')\"\n",
    ")\n",
    "fig.show()"
   ]
  },
  {
   "cell_type": "code",
   "execution_count": null,
   "metadata": {},
   "outputs": [],
   "source": []
  },
  {
   "cell_type": "markdown",
   "metadata": {},
   "source": [
    "#### Journey of different Countries in COVID-19\n",
    "When we see daily news reports on COVID-19 it's really hard to interpret what's actually happening, since the numbers are changing so rapidly but that's something expected from Exponential growth. Since almost all the pandemics tend to grow exponentially it's really hard to understand for someone from a non-mathematical or non-statistical background. We are more concerned about how we are doing and where we are heading in this pandemic rather than just looking at those exponentially growing numbers. \n",
    "The growth won't be exponentially forever. At some point of time the curve will become flat. We humans will be able to control this pandemic like we did in the past."
   ]
  },
  {
   "cell_type": "markdown",
   "metadata": {},
   "source": [
    "#### Some of the parameters that can be explored\n",
    "- Data on Hospitalizations and ICU admissions (Can also further plot disaggregate using gender data)\n",
    "- Data on Cases on HealthCare workers\n",
    "- Covid-19 Tests conducted and its analysis\n",
    "- Rate of Doubling for Confirmed Cases\n",
    "\n",
    "#### Some of the visualizations that can be explored\n",
    "- Where does India stand in comparison to top leading Covid-19 countries "
   ]
  }
 ],
 "metadata": {
  "celltoolbar": "Raw Cell Format",
  "kernelspec": {
   "display_name": "Python 3",
   "language": "python",
   "name": "python3"
  },
  "language_info": {
   "codemirror_mode": {
    "name": "ipython",
    "version": 3
   },
   "file_extension": ".py",
   "mimetype": "text/x-python",
   "name": "python",
   "nbconvert_exporter": "python",
   "pygments_lexer": "ipython3",
   "version": "3.7.0"
  }
 },
 "nbformat": 4,
 "nbformat_minor": 2
}
